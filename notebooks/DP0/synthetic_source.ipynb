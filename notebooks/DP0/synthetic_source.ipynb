{
 "cells": [
  {
   "cell_type": "markdown",
   "id": "40ce4a79-6afd-4306-937d-5acad040ad1a",
   "metadata": {},
   "source": [
    "# Injecting and Measuring Artificial Stars in Single-Visit Images\n",
    "\n",
    "Based on a notebook by Jeff Carlin <br>\n",
    "Last verified to run Monday, April 26, 2022, with weekly 2022_12.\n",
    "\n",
    "Recommended container size: large (or possibly medium; small will definitely run out of memory and kill the kernel).\n"
   ]
  },
  {
   "cell_type": "code",
   "execution_count": 34,
   "id": "42187a4e",
   "metadata": {
    "execution": {
     "iopub.execute_input": "2023-07-10T20:42:56.134626Z",
     "iopub.status.busy": "2023-07-10T20:42:56.133956Z",
     "iopub.status.idle": "2023-07-10T20:42:56.140876Z",
     "shell.execute_reply": "2023-07-10T20:42:56.140332Z",
     "shell.execute_reply.started": "2023-07-10T20:42:56.134595Z"
    },
    "tags": []
   },
   "outputs": [],
   "source": [
    "# Import python packages\n",
    "import time\n",
    "import os\n",
    "import warnings\n",
    "import numpy as np\n",
    "import matplotlib as mpl\n",
    "import matplotlib.pyplot as plt\n",
    "from IPython.display import IFrame, display, Markdown\n",
    "from mpl_toolkits.axes_grid1 import make_axes_locatable\n",
    "from matplotlib.patches import Rectangle\n",
    "from astropy.visualization import ZScaleInterval\n",
    "from astropy.coordinates import SkyCoord\n",
    "import astropy.units as u\n",
    "from astropy.table import Table\n",
    "import pandas as pd\n",
    "\n",
    "%matplotlib inline"
   ]
  },
  {
   "cell_type": "code",
   "execution_count": 35,
   "id": "1c9fbfe1-296c-4980-80c0-4b2b8efca6ed",
   "metadata": {
    "execution": {
     "iopub.execute_input": "2023-07-10T20:42:57.000483Z",
     "iopub.status.busy": "2023-07-10T20:42:56.999816Z",
     "iopub.status.idle": "2023-07-10T20:42:57.005297Z",
     "shell.execute_reply": "2023-07-10T20:42:57.004774Z",
     "shell.execute_reply.started": "2023-07-10T20:42:57.000455Z"
    },
    "tags": []
   },
   "outputs": [],
   "source": [
    "# Import tasks from the LSST Science Pipelines for reprocessing images\n",
    "from lsst.pipe.tasks.characterizeImage import CharacterizeImageTask\n",
    "from lsst.pipe.tasks.calibrate import CalibrateTask\n",
    "from lsst.meas.algorithms.detection import SourceDetectionTask\n",
    "from lsst.meas.deblender import SourceDeblendTask\n",
    "from lsst.meas.base import SingleFrameMeasurementTask\n",
    "import lsst.daf.base as dafBase\n",
    "import lsst.sphgeom\n",
    "import lsst.afw.display as afwDisplay\n",
    "from lsst.geom import SpherePoint, Angle\n",
    "from lsst.daf.butler import Butler\n",
    "import lsst.afw.image as afwImage\n",
    "import lsst.afw.table as afwTable\n",
    "import lsst.geom as geom\n",
    "import lsst.pipe.tasks.fakes as fakes\n",
    "import warnings\n",
    "\n",
    "# Use lsst.afw.display with the matplotlib backend\n",
    "afwDisplay.setDefaultBackend('matplotlib')"
   ]
  },
  {
   "cell_type": "code",
   "execution_count": 36,
   "id": "6e43fc8f-a656-4790-9b5c-26b7521d49cf",
   "metadata": {
    "execution": {
     "iopub.execute_input": "2023-07-10T20:42:59.623065Z",
     "iopub.status.busy": "2023-07-10T20:42:59.622347Z",
     "iopub.status.idle": "2023-07-10T20:42:59.627293Z",
     "shell.execute_reply": "2023-07-10T20:42:59.626833Z",
     "shell.execute_reply.started": "2023-07-10T20:42:59.623031Z"
    },
    "tags": []
   },
   "outputs": [],
   "source": [
    "# Set up some plotting defaults:\n",
    "\n",
    "params = {'axes.labelsize': 28,\n",
    "          'font.size': 24,\n",
    "          'legend.fontsize': 14,\n",
    "          'xtick.major.width': 3,\n",
    "          'xtick.minor.width': 2,\n",
    "          'xtick.major.size': 12,\n",
    "          'xtick.minor.size': 6,\n",
    "          'xtick.direction': 'in',\n",
    "          'xtick.top': True,\n",
    "          'lines.linewidth': 3,\n",
    "          'axes.linewidth': 3,\n",
    "          'axes.labelweight': 3,\n",
    "          'axes.titleweight': 3,\n",
    "          'ytick.major.width': 3,\n",
    "          'ytick.minor.width': 2,\n",
    "          'ytick.major.size': 12,\n",
    "          'ytick.minor.size': 6,\n",
    "          'ytick.direction': 'in',\n",
    "          'ytick.right': True,\n",
    "          'figure.figsize': [9, 9],\n",
    "          'figure.facecolor': 'White'\n",
    "          }\n",
    "\n",
    "plt.rcParams.update(params)"
   ]
  },
  {
   "cell_type": "markdown",
   "id": "bf8c5bae-55da-4046-867d-e6f84d72bfff",
   "metadata": {},
   "source": [
    "#### Instantiate the Butler."
   ]
  },
  {
   "cell_type": "code",
   "execution_count": 37,
   "id": "d3251edd",
   "metadata": {
    "execution": {
     "iopub.execute_input": "2023-07-10T20:43:00.540192Z",
     "iopub.status.busy": "2023-07-10T20:43:00.539505Z",
     "iopub.status.idle": "2023-07-10T20:43:03.322351Z",
     "shell.execute_reply": "2023-07-10T20:43:03.321718Z",
     "shell.execute_reply.started": "2023-07-10T20:43:00.540160Z"
    },
    "tags": []
   },
   "outputs": [],
   "source": [
    "# For DC2 gen3, these are the only options\n",
    "#repo = 's3://butler-us-central1-dp01'\n",
    "#collection = '2.2i/runs/DP0.1'\n",
    "\n",
    "butler = Butler('dp02', collections='2.2i/runs/DP0.2')\n",
    "#butler = Butler(repo, collections=collection)\n",
    "registry = butler.registry"
   ]
  },
  {
   "cell_type": "markdown",
   "id": "5769c5c3-54f0-4d1f-a41b-bc58ddb89d45",
   "metadata": {},
   "source": [
    "#### Read in the lightcurves for the kilonovae and plot them\n",
    "Once this has been done, it does not need to be repeated."
   ]
  },
  {
   "cell_type": "code",
   "execution_count": null,
   "id": "bff22592-73cf-4fe4-be3e-ac0ecfdd1166",
   "metadata": {
    "tags": []
   },
   "outputs": [],
   "source": [
    "fig, ax = plt.subplots(5, 4, figsize=(20, 20), sharey=False, sharex=False)\n",
    "\n",
    "x = 0\n",
    "for i in range(5):\n",
    "    for j in range(4):\n",
    "        \n",
    "        filename = '~/KDC/notebooks/output/light_curve_'+str(x)+'.txt'\n",
    "        outfile = pd.read_csv(filename)\n",
    "        fine = outfile[outfile['u']>-9999]\n",
    "        r = fine['r']\n",
    "        g = fine['g']\n",
    "        ii = fine['i']\n",
    "        u = fine['u']\n",
    "        z = fine['z']\n",
    "        y = fine['y']\n",
    "        timer = fine['time']\n",
    "        \n",
    "        ax[i,j].plot([-10,20],[24.03,24.03],'.k-')  #r\n",
    "        ax[i,j].set_xlim(0,10)\n",
    "        ax[i,j].plot(timer, r, '.r', label = \"r\")\n",
    "        ax[i,j].plot(timer, g, '.g', label = \"g\") \n",
    "        ax[i,j].plot(timer, u, '.k', label = \"u\") \n",
    "        ax[i,j].plot(timer, ii, '.b', label = \"i\") \n",
    "        ax[i, j].xaxis.set_label_text('Days after KN')\n",
    "        ax[i, j].invert_yaxis()\n",
    "        ax[i, j].set_title('System '+str(x+1))\n",
    "        x += 1\n",
    "\n",
    "plt.tight_layout()\n",
    "plt.show()"
   ]
  },
  {
   "cell_type": "markdown",
   "id": "2b5b8e23-95c2-4c1f-93b8-ba654cb993e1",
   "metadata": {},
   "source": [
    "#### Pick out magnitudes at specific times and write them to a file\n",
    "\n",
    "We pick out the magnitudes at times close to a known visit. Once this has been done, it does not need to be repeated."
   ]
  },
  {
   "cell_type": "code",
   "execution_count": null,
   "id": "d61b0c85-455c-4e70-975e-f5672aed3744",
   "metadata": {
    "tags": []
   },
   "outputs": [],
   "source": [
    "input_times = pd.read_csv('input/input_times.txt')\n",
    "timer = input_times['tim']\n",
    "magnitudes = pd.read_csv('output/magnitudes.txt')\n",
    "ra = magnitudes['ra']\n",
    "dec=magnitudes['dec']\n",
    "\n",
    "for j in range(0,5):\n",
    "    f = open('output/file_'+str(timer[j])+'.csv','w')\n",
    "    header='ra,dec,u,g,r,i,z,y,time'\n",
    "    f.write(header)\n",
    "    f.write('\\n')\n",
    "    for i in range(0,20):\n",
    "        filename = '~/KDC/notebooks/output/light_curve_'+str(i)+'.txt'\n",
    "        outfile = pd.read_csv(filename)\n",
    "        fine = outfile[outfile['time']==timer[j]]\n",
    "        r = fine['r']\n",
    "        g = fine['g']\n",
    "        ii = fine['i']\n",
    "        u = fine['u']\n",
    "        z = fine['z']\n",
    "        y = fine['y']\n",
    "        timer = fine['time']\n",
    "        outer = str(ra[i])+','+str(dec[i])+','+str(u.iloc[0])+','+str(g.iloc[0])+','+str(r.iloc[0])+','+str(ii.iloc[0])+','+str(z.iloc[0])+','+str(y.iloc[0])+','+str(timer.iloc[0])+'\\n'\n",
    "        f.write(outer)\n",
    "    f.close()\n",
    "f.close()"
   ]
  },
  {
   "cell_type": "markdown",
   "id": "4e038f66-74cc-4f50-a9ef-99d5d6963e82",
   "metadata": {
    "tags": []
   },
   "source": [
    "#### Read in the list of kilonovae and the center of the fields."
   ]
  },
  {
   "cell_type": "code",
   "execution_count": 114,
   "id": "697dad31-9de9-411a-94b2-9cb59a429ff2",
   "metadata": {
    "execution": {
     "iopub.execute_input": "2023-07-10T21:22:11.201267Z",
     "iopub.status.busy": "2023-07-10T21:22:11.200502Z",
     "iopub.status.idle": "2023-07-10T21:22:11.209523Z",
     "shell.execute_reply": "2023-07-10T21:22:11.208994Z",
     "shell.execute_reply.started": "2023-07-10T21:22:11.201235Z"
    },
    "tags": []
   },
   "outputs": [],
   "source": [
    "# Central (RA, Dec) position (in degrees) at which to insert stars:\n",
    "#racen =  59.65688129\n",
    "#deccen =  -36.75083078\n",
    "\n",
    "data =pd.read_csv('output/file_0.05.csv')  #This is the file for 0.05 days after kilonova. This correspond to visit 1185205\n",
    "#0.05\n",
    "#1.05\n",
    "#5.05\n",
    "#6.85\n",
    "#8.85\n",
    "\n",
    "# Place all the fake stars within `scatter_arcmin` arcminutes of the center coordinate:\n",
    "#scatter_arcmin = 1.0\n",
    "\n",
    "# Assign positions using a (random) normal distribution about the center coordinates:\n",
    "fake_id = data.index\n",
    "fake_ras = data['ra']\n",
    "fake_decs = data['dec']\n",
    "fake_umags = data['u']\n",
    "fake_gmags = data['g']\n",
    "fake_rmags = data['r']\n",
    "fake_imags = data['i']\n",
    "fake_zmags = data['z']\n",
    "fake_ymags = data['y']\n",
    "fake_time = data['time']\n",
    "\n",
    "racen =  fake_ras[12]\n",
    "deccen =  fake_decs[12]\n",
    "\n",
    "# \"nfakes\" is the number of fake stars to inject:\n",
    "nfakes = len(fake_ras)\n"
   ]
  },
  {
   "cell_type": "markdown",
   "id": "cd2b2e7c-e186-43ad-8632-e8c8dd2d5967",
   "metadata": {
    "execution": {
     "iopub.execute_input": "2023-06-28T18:49:40.797390Z",
     "iopub.status.busy": "2023-06-28T18:49:40.796922Z",
     "iopub.status.idle": "2023-06-28T18:49:40.801102Z",
     "shell.execute_reply": "2023-06-28T18:49:40.800412Z",
     "shell.execute_reply.started": "2023-06-28T18:49:40.797356Z"
    }
   },
   "source": [
    "#### Here we make a plot of the positions of the fake kilonovae. We also overplot the center of the field as well as the locations of kilonovae that are in the current detector image (+ symbols)."
   ]
  },
  {
   "cell_type": "code",
   "execution_count": 115,
   "id": "7c68f35c-4ef4-48bd-ba5a-0a52c3692563",
   "metadata": {
    "execution": {
     "iopub.execute_input": "2023-07-10T21:22:14.798944Z",
     "iopub.status.busy": "2023-07-10T21:22:14.798652Z",
     "iopub.status.idle": "2023-07-10T21:22:15.051104Z",
     "shell.execute_reply": "2023-07-10T21:22:15.050357Z",
     "shell.execute_reply.started": "2023-07-10T21:22:14.798919Z"
    },
    "tags": []
   },
   "outputs": [
    {
     "data": {
      "image/png": "[encoded data removed]",
      "text/plain": [
       "<Figure size 648x648 with 1 Axes>"
      ]
     },
     "metadata": {},
     "output_type": "display_data"
    }
   ],
   "source": [
    "plt.plot(fake_ras, fake_decs, '*r')\n",
    "for i, txt in enumerate(fake_ras):\n",
    "    plt.annotate(fake_id[i], (fake_ras[i], fake_decs[i]))\n",
    "plt.plot(racen, deccen,'.k-', markersize=20)\n",
    "plt.plot(racen, deccen, '+g', markersize = 20)\n",
    "#plt.plot(fake_ras[6], fake_decs[6], '+g', markersize = 20)\n",
    "#plt.plot(fake_ras[7], fake_decs[7], '+g', markersize = 20)\n",
    "#plt.plot(fake_ras[15], fake_decs[15], '+g', markersize = 20)\n",
    "#plt.plot(fake_ras[16], fake_decs[16], '+g', markersize = 20)\n",
    "#plt.plot(fake_ras[7], fake_decs[7], '+g', markersize = 20)\n",
    "#plt.plot(fake_ras[16], fake_decs[16], '+g', markersize = 20)\n",
    "plt.show()"
   ]
  },
  {
   "cell_type": "code",
   "execution_count": 116,
   "id": "9a84ad50-723c-43b1-a32a-13d7596888c3",
   "metadata": {
    "execution": {
     "iopub.execute_input": "2023-07-10T21:22:18.997496Z",
     "iopub.status.busy": "2023-07-10T21:22:18.996778Z",
     "iopub.status.idle": "2023-07-10T21:22:19.000586Z",
     "shell.execute_reply": "2023-07-10T21:22:18.999992Z",
     "shell.execute_reply.started": "2023-07-10T21:22:18.997468Z"
    },
    "tags": []
   },
   "outputs": [],
   "source": [
    "import lsst.sphgeom\n",
    "\n",
    "#Htm stands for Hierarchical Triangular mesh\n",
    "#It breaks up a region of the sky into small triangular pieces\n",
    "#Here is an SDSS explanation: http://www.skyserver.org/htm/\n",
    "pixelization = lsst.sphgeom.HtmPixelization(12)"
   ]
  },
  {
   "cell_type": "code",
   "execution_count": 117,
   "id": "513c5091-2e91-4ae9-a19a-054097fb1dfb",
   "metadata": {
    "execution": {
     "iopub.execute_input": "2023-07-10T21:22:19.487956Z",
     "iopub.status.busy": "2023-07-10T21:22:19.487166Z",
     "iopub.status.idle": "2023-07-10T21:22:19.492639Z",
     "shell.execute_reply": "2023-07-10T21:22:19.491977Z",
     "shell.execute_reply.started": "2023-07-10T21:22:19.487915Z"
    },
    "tags": []
   },
   "outputs": [
    {
     "name": "stdout",
     "output_type": "stream",
     "text": [
      "HTM ID=147190302 at level=12 is a ~6.7e+01\" triangle.\n"
     ]
    }
   ],
   "source": [
    "htm_id = pixelization.index(\n",
    "    lsst.sphgeom.UnitVector3d(\n",
    "        lsst.sphgeom.LonLat.fromDegrees(racen, deccen)\n",
    "    )\n",
    ")\n",
    "\n",
    "# Obtain and print the scale to provide a sense of the size of the sky pixelization being used\n",
    "scale = pixelization.triangle(htm_id).getBoundingCircle().getOpeningAngle().asDegrees()*3600\n",
    "print(f'HTM ID={htm_id} at level={pixelization.getLevel()} is a ~{scale:0.2}\" triangle.')"
   ]
  },
  {
   "cell_type": "code",
   "execution_count": 118,
   "id": "9ab8ba9f-24ba-4c18-a3c6-d9380a9d5fab",
   "metadata": {
    "execution": {
     "iopub.execute_input": "2023-07-10T21:22:20.463948Z",
     "iopub.status.busy": "2023-07-10T21:22:20.463598Z",
     "iopub.status.idle": "2023-07-10T21:22:20.467929Z",
     "shell.execute_reply": "2023-07-10T21:22:20.467019Z",
     "shell.execute_reply.started": "2023-07-10T21:22:20.463915Z"
    },
    "tags": []
   },
   "outputs": [],
   "source": [
    "#### This tells us how many calexps there are in each band at that position."
   ]
  },
  {
   "cell_type": "code",
   "execution_count": 119,
   "id": "31df2240-d1b3-4cad-85e8-a29de7db40f3",
   "metadata": {
    "execution": {
     "iopub.execute_input": "2023-07-10T21:22:20.842005Z",
     "iopub.status.busy": "2023-07-10T21:22:20.841272Z",
     "iopub.status.idle": "2023-07-10T21:22:27.284585Z",
     "shell.execute_reply": "2023-07-10T21:22:27.283960Z",
     "shell.execute_reply.started": "2023-07-10T21:22:20.841972Z"
    },
    "tags": []
   },
   "outputs": [
    {
     "name": "stdout",
     "output_type": "stream",
     "text": [
      "Found  48  u-band calexps at that position.\n",
      "Found  66  g-band calexps at that position.\n",
      "Found  172  r-band calexps at that position.\n",
      "Found  156  i-band calexps at that position.\n",
      "Found  85  z-band calexps at that position.\n",
      "Found  108  y-band calexps at that position.\n"
     ]
    }
   ],
   "source": [
    "datasetRefs_u = registry.queryDatasets(\"calexp\", htm20=htm_id, band=\"u\")\n",
    "datasetRefs_g = registry.queryDatasets(\"calexp\", htm20=htm_id, band=\"g\")\n",
    "datasetRefs_r = registry.queryDatasets(\"calexp\", htm20=htm_id, band=\"r\")\n",
    "datasetRefs_i = registry.queryDatasets(\"calexp\", htm20=htm_id, band=\"i\")\n",
    "datasetRefs_z = registry.queryDatasets(\"calexp\", htm20=htm_id, band=\"z\")\n",
    "datasetRefs_y = registry.queryDatasets(\"calexp\", htm20=htm_id, band=\"y\")\n",
    "\n",
    "#print(\"Found \", datasetRefs_u.count(discard=True), \" u-band calexps at that position.\")\n",
    "#print(\"Found \", datasetRefs_g.count(discard=True), \" g-band calexps at that position.\")\n",
    "#print(\"Found \", datasetRefs_r.count(discard=True), \" r-band calexps at that position.\")\n",
    "#print(\"Found \", datasetRefs_i.count(discard=True), \" i-band calexps at that position.\")\n",
    "print(\"Found \", datasetRefs_u.count(), \" u-band calexps at that position.\")\n",
    "print(\"Found \", datasetRefs_g.count(), \" g-band calexps at that position.\")\n",
    "print(\"Found \", datasetRefs_r.count(), \" r-band calexps at that position.\")\n",
    "print(\"Found \", datasetRefs_i.count(), \" i-band calexps at that position.\")\n",
    "print(\"Found \", datasetRefs_z.count(), \" z-band calexps at that position.\")\n",
    "print(\"Found \", datasetRefs_y.count(), \" y-band calexps at that position.\")"
   ]
  },
  {
   "cell_type": "code",
   "execution_count": 120,
   "id": "f559a50a-e84f-40da-926a-d9509d655d99",
   "metadata": {
    "execution": {
     "iopub.execute_input": "2023-07-10T21:22:29.166627Z",
     "iopub.status.busy": "2023-07-10T21:22:29.165499Z",
     "iopub.status.idle": "2023-07-10T21:22:29.169477Z",
     "shell.execute_reply": "2023-07-10T21:22:29.168814Z",
     "shell.execute_reply.started": "2023-07-10T21:22:29.166570Z"
    },
    "tags": []
   },
   "outputs": [],
   "source": [
    "#dataId = {'visit': 1185205, 'detector': 82, 'band': 'r'} \n",
    "#calexp = butler.get('calexp', **dataId)\n"
   ]
  },
  {
   "cell_type": "code",
   "execution_count": 127,
   "id": "e6a296e2-a615-4c66-a00c-3961d8ed08c4",
   "metadata": {
    "execution": {
     "iopub.execute_input": "2023-07-10T21:23:11.125707Z",
     "iopub.status.busy": "2023-07-10T21:23:11.124897Z",
     "iopub.status.idle": "2023-07-10T21:23:12.357147Z",
     "shell.execute_reply": "2023-07-10T21:23:12.356487Z",
     "shell.execute_reply.started": "2023-07-10T21:23:11.125674Z"
    },
    "tags": []
   },
   "outputs": [
    {
     "name": "stdout",
     "output_type": "stream",
     "text": [
      "calexp@{instrument: 'LSSTCam-imSim', detector: 43, visit: 1185205, ...}, sc=ExposureF] (id=f535d0a9-e8db-46c2-a72e-841f328d68bb)\n"
     ]
    }
   ],
   "source": [
    "#fox = open('r_band.out', 'w')\n",
    "\n",
    "for i, ref in enumerate(datasetRefs_r):\n",
    "#for i in range(0,5):\n",
    "    rref = ref\n",
    "    if rref.dataId['visit'] == 1185205 and rref.dataId['detector'] == 43:\n",
    "        final_rref = rref\n",
    "        print(final_rref)\n",
    "   # print((rref.dataId['visit']))\n",
    "  #  print(rref)\n",
    "  #  print(str(rref.dataId))\n",
    "#    if i > datasetRefs_r.count():\n",
    "#        break\n",
    "\n",
    "#fox.close()"
   ]
  },
  {
   "cell_type": "markdown",
   "id": "373b3c73",
   "metadata": {},
   "source": [
    "### Make stars and inject them into images:\n",
    "\n",
    "First, write a function (\"makeFakeStar\") that takes as inputs the position, flux (intensity), and the PSF, and returns an image of the PSF scaled to the desired flux at the input position.\n",
    "\n",
    "Next, we add a function (\"addFakeStars\") that takes the list of RAs, Decs, and magnitudes, and a `datasetRef` for a `calexp` image, and returns a version of the input `calexp` that has the fake stars injected into it. (This function calls \"makeFakeStar\" for each star in the list.)\n",
    "\n",
    "The source injection steps were developed following this piece of code as an example: https://github.com/lsst/pipe_tasks/blob/387f8f07a2b66205f9fa6bda9a89dcdbbef3f64c/tests/test_fakeProcessing.py"
   ]
  },
  {
   "cell_type": "code",
   "execution_count": 128,
   "id": "cfd07157-6815-4f66-993b-f137fbbf486a",
   "metadata": {
    "execution": {
     "iopub.execute_input": "2023-07-10T21:23:12.358698Z",
     "iopub.status.busy": "2023-07-10T21:23:12.358474Z",
     "iopub.status.idle": "2023-07-10T21:23:12.362422Z",
     "shell.execute_reply": "2023-07-10T21:23:12.361862Z",
     "shell.execute_reply.started": "2023-07-10T21:23:12.358655Z"
    },
    "tags": []
   },
   "outputs": [
    {
     "name": "stdout",
     "output_type": "stream",
     "text": [
      "calexp@{instrument: 'LSSTCam-imSim', detector: 43, visit: 1185205, ...}, sc=ExposureF] (id=f535d0a9-e8db-46c2-a72e-841f328d68bb)\n"
     ]
    }
   ],
   "source": [
    "print(final_rref)"
   ]
  },
  {
   "cell_type": "code",
   "execution_count": 129,
   "id": "d9aa8aa7",
   "metadata": {
    "execution": {
     "iopub.execute_input": "2023-07-10T21:23:12.615904Z",
     "iopub.status.busy": "2023-07-10T21:23:12.615245Z",
     "iopub.status.idle": "2023-07-10T21:23:12.620277Z",
     "shell.execute_reply": "2023-07-10T21:23:12.619411Z",
     "shell.execute_reply.started": "2023-07-10T21:23:12.615863Z"
    },
    "tags": []
   },
   "outputs": [],
   "source": [
    "# make stars at a given position with a given intensity\n",
    "def makeFakeStar(position, intensity, psf):\n",
    "    psfImage = psf.computeImage(geom.Point2D(position.x, position.y)).getArray()\n",
    "    psfImage *= intensity\n",
    "    noise = np.random.normal(0, np.sqrt(abs(psfImage)))\n",
    "    return psfImage + noise, noise"
   ]
  },
  {
   "cell_type": "code",
   "execution_count": 130,
   "id": "3ac55d1f-ce5c-4e71-aaa1-2c0c5632493b",
   "metadata": {
    "execution": {
     "iopub.execute_input": "2023-07-10T21:23:13.139853Z",
     "iopub.status.busy": "2023-07-10T21:23:13.139441Z",
     "iopub.status.idle": "2023-07-10T21:23:13.149107Z",
     "shell.execute_reply": "2023-07-10T21:23:13.148463Z",
     "shell.execute_reply.started": "2023-07-10T21:23:13.139819Z"
    },
    "tags": []
   },
   "outputs": [],
   "source": [
    "def addFakeStars(ras, decs, mags, calexp_ref):\n",
    "    calexp_inp = butler.get('calexp', calexp_ref.dataId)\n",
    "    calexp_withFakes = calexp_inp.clone()\n",
    "\n",
    "    # Fetch objects from the exposure\n",
    "    psf = calexp_withFakes.getPsf()\n",
    "    image = calexp_withFakes.getMaskedImage().getImage()\n",
    "    variance = calexp_withFakes.getMaskedImage().getVariance()\n",
    "    wcs = calexp_withFakes.getWcs()\n",
    "    photocalib = calexp_withFakes.getPhotoCalib()\n",
    "\n",
    "    fluxes = []\n",
    "\n",
    "    # Use the \"photocalib\" from the calexp to convert magnitudes to instrumental fluxes:\n",
    "    for mag in mags:\n",
    "        fluxes.append(photocalib.magnitudeToInstFlux(mag))\n",
    "\n",
    "    # Get the corner coordinates of the image:\n",
    "    y0 = image.getY0()\n",
    "    x0 = image.getX0()\n",
    "    ymax = y0 + calexp_withFakes.getDimensions()[1]\n",
    "    xmax = x0 + calexp_withFakes.getDimensions()[0]\n",
    "\n",
    "    #xvals = []\n",
    "    #yvals = []\n",
    "    \n",
    "    # At each position create a star with the given intensity and add it\n",
    "    # to the image.\n",
    "    for ra, dec, intensity in zip(ras, decs, fluxes):\n",
    "        # Use the WCS to convert RA, Dec to X, Y pixel coordinates:\n",
    "        pos = wcs.skyToPixel(geom.SpherePoint(ra, dec, geom.degrees))\n",
    "        #xvals.append(pos.x)\n",
    "        #yvals.append(pos.y)\n",
    "\n",
    "        # Call \"makeFakeStar\" to get the image of a PSF-like object with the desired flux:\n",
    "        objArray, noiseArray = makeFakeStar(pos, intensity, psf)\n",
    "        psfRad = int((objArray.shape[0]-1)/2.)\n",
    "\n",
    "        # Check that the desired position is within the image:\n",
    "        oky = (pos.y > psfRad) & (pos.y < ymax - psfRad)\n",
    "        okx = (pos.x > psfRad) & (pos.x < xmax - psfRad)\n",
    "\n",
    "        if okx & oky:\n",
    "            yslice = slice(int(np.floor(pos.y - psfRad - y0)), int(np.floor(pos.y + psfRad + y0 + 1)))\n",
    "            xslice = slice(int(np.floor(pos.x - psfRad - x0)), int(np.floor(pos.x + psfRad + x0 + 1)))\n",
    "\n",
    "            print('Injecting source at x, y = ', pos.x, pos.y)\n",
    "\n",
    "            # NOTE: while image arrays are indexed with x, y, the extraction of the data into (numpy) arrays\n",
    "            # means that the returned arrays follow numpy's y, x convention.\n",
    "            # More on indexing: https://pipelines.lsst.io/modules/lsst.afw.image/indexing-conventions.html\n",
    "            image.getArray()[yslice, xslice] += objArray\n",
    "            variance.getArray()[yslice, xslice] += noiseArray**2\n",
    "        else:\n",
    "            print('Skipped injecting source at x, y = ', pos.x, pos.y, ' because it is too close to (or off) the edge.')\n",
    "\n",
    "    return calexp_inp, calexp_withFakes"
   ]
  },
  {
   "cell_type": "markdown",
   "id": "e5e78af4-6f87-453f-8391-2a4a845ef433",
   "metadata": {},
   "source": [
    "### Call the \"addFakeStars\" function to create calexp images with the artificial stars injected:"
   ]
  },
  {
   "cell_type": "markdown",
   "id": "cf821591-5710-4ddf-a4af-8ae0b6cf1b40",
   "metadata": {},
   "source": [
    "detector: 82, visit: 1185205 gets me 6 and 16\n",
    "detector: 81, visit: 1185205 gets me 7"
   ]
  },
  {
   "cell_type": "code",
   "execution_count": 131,
   "id": "898f7dae-fdf3-4c75-b16b-59f8fba70cc4",
   "metadata": {
    "execution": {
     "iopub.execute_input": "2023-07-10T21:23:14.229869Z",
     "iopub.status.busy": "2023-07-10T21:23:14.229246Z",
     "iopub.status.idle": "2023-07-10T21:23:17.017272Z",
     "shell.execute_reply": "2023-07-10T21:23:17.016151Z",
     "shell.execute_reply.started": "2023-07-10T21:23:14.229835Z"
    },
    "tags": []
   },
   "outputs": [
    {
     "name": "stdout",
     "output_type": "stream",
     "text": [
      "Skipped injecting source at x, y =  4405.579884000669 -121.60771575444869  because it is too close to (or off) the edge.\n",
      "Skipped injecting source at x, y =  6106.733842850737 9653.93273163867  because it is too close to (or off) the edge.\n",
      "Skipped injecting source at x, y =  8811.581137949446 3358.2485966025724  because it is too close to (or off) the edge.\n",
      "Skipped injecting source at x, y =  -4298.180027788595 4391.627064271658  because it is too close to (or off) the edge.\n",
      "Skipped injecting source at x, y =  24.267812930009768 13240.140750387536  because it is too close to (or off) the edge.\n",
      "Injecting source at x, y =  2826.787701871117 827.9922852827938\n",
      "Skipped injecting source at x, y =  62.58047211968642 5653.652224201385  because it is too close to (or off) the edge.\n",
      "Skipped injecting source at x, y =  -1862.0335019680422 7892.304503912182  because it is too close to (or off) the edge.\n",
      "Skipped injecting source at x, y =  6756.999749446395 3094.467236583735  because it is too close to (or off) the edge.\n",
      "Skipped injecting source at x, y =  -2306.096038507989 -360.65854351306234  because it is too close to (or off) the edge.\n",
      "Skipped injecting source at x, y =  -2758.6991518818386 10391.346438301132  because it is too close to (or off) the edge.\n",
      "Skipped injecting source at x, y =  4270.759050095947 3682.405572688819  because it is too close to (or off) the edge.\n",
      "Skipped injecting source at x, y =  2946.272571230319 -29.141387435644447  because it is too close to (or off) the edge.\n",
      "Skipped injecting source at x, y =  10461.263639749468 6776.989535996639  because it is too close to (or off) the edge.\n",
      "Skipped injecting source at x, y =  -5158.683763700298 11279.047841272655  because it is too close to (or off) the edge.\n",
      "Skipped injecting source at x, y =  -2250.3289575288572 8240.214573282414  because it is too close to (or off) the edge.\n",
      "Skipped injecting source at x, y =  491.9711804070905 7666.852050862595  because it is too close to (or off) the edge.\n",
      "Injecting source at x, y =  184.67081222392562 3069.4405257292897\n",
      "Skipped injecting source at x, y =  -4471.863341095663 4781.463540748966  because it is too close to (or off) the edge.\n",
      "Skipped injecting source at x, y =  7858.166869037091 12559.728709705108  because it is too close to (or off) the edge.\n"
     ]
    }
   ],
   "source": [
    "#calexp_orig_u, calexp_new_u = addFakeStars(fake_ras, fake_decs, fake_umags, uref)\n",
    "#calexp_orig_g, calexp_new_g = addFakeStars(fake_ras, fake_decs, fake_gmags, gref)\n",
    "calexp_orig_r, calexp_new_r = addFakeStars(fake_ras, fake_decs, fake_rmags, final_rref)\n",
    "#calexp_orig_i, calexp_new_i = addFakeStars(fake_ras, fake_decs, fake_imags, iref)"
   ]
  },
  {
   "cell_type": "markdown",
   "id": "a05a2147-24d6-42f1-82bd-5ef64c55d452",
   "metadata": {
    "tags": []
   },
   "source": [
    "### Wrap all of the detection and measurement steps in a function.\n",
    "\n",
    "The steps here follow the <a href=\"https://github.com/rubin-dp0/tutorial-notebooks/blob/main/05_Intro_to_Source_Detection.ipynb\">Intro to Source Detection</a> tutorial notebook, so rather than explain them in detail here, we simply wrap all the steps in a single function that can be executed for each image."
   ]
  },
  {
   "cell_type": "code",
   "execution_count": 73,
   "id": "0dd528c4-80e3-404f-b277-1d7c5f6d2065",
   "metadata": {
    "execution": {
     "iopub.execute_input": "2023-07-10T21:00:53.355974Z",
     "iopub.status.busy": "2023-07-10T21:00:53.355490Z",
     "iopub.status.idle": "2023-07-10T21:00:53.365739Z",
     "shell.execute_reply": "2023-07-10T21:00:53.364952Z",
     "shell.execute_reply.started": "2023-07-10T21:00:53.355929Z"
    },
    "tags": []
   },
   "outputs": [],
   "source": [
    "def processFakes(calexp_inp):\n",
    "    \n",
    "    # Create a basic schema to use with these tasks\n",
    "    schema = afwTable.SourceTable.makeMinimalSchema()\n",
    "\n",
    "    # Create a container which will be used to record metadata about algorithm execution\n",
    "    algMetadata = dafBase.PropertyList()\n",
    "\n",
    "    # Initialize CharacterizeImageTask and its configuration:\n",
    "    config = CharacterizeImageTask.ConfigClass()\n",
    "    config.psfIterations = 1\n",
    "    charImageTask = CharacterizeImageTask(None, config=config)\n",
    "\n",
    "    # Initialize SourceDetectionTask and its configuration:\n",
    "    config = SourceDetectionTask.ConfigClass()\n",
    "    config.thresholdValue = 10      # detection threshold in units of thresholdType\n",
    "    config.thresholdType = \"stdev\"   # units for thresholdValue\n",
    "    sourceDetectionTask = SourceDetectionTask(schema=schema, config=config)\n",
    "    sourceDeblendTask = SourceDeblendTask(schema=schema)\n",
    "\n",
    "    # Initialize SingleFrameMeasurementTask and its configuration:\n",
    "    config = SingleFrameMeasurementTask.ConfigClass()\n",
    "    sourceMeasurementTask = SingleFrameMeasurementTask(schema=schema, config=config, algMetadata=algMetadata)\n",
    "\n",
    "    # Make an empty table that we'll put the results in:\n",
    "    tab = afwTable.SourceTable.make(schema)\n",
    "    \n",
    "    # Image characterization\n",
    "    result = charImageTask.run(calexp_inp)\n",
    "\n",
    "    # Get the PSF and some image properties\n",
    "    psf = calexp_inp.getPsf()\n",
    "    sigma = psf.computeShape().getDeterminantRadius()\n",
    "    pixelScale = calexp_inp.getWcs().getPixelScale().asArcseconds()\n",
    "\n",
    "    # The factor of 2.355 converts from std to fwhm\n",
    "    print('psf fwhm = {:.2f} arcsec'.format(sigma*pixelScale*2.355))\n",
    "    \n",
    "    # Run source detection\n",
    "    result = sourceDetectionTask.run(tab, calexp_inp)\n",
    "    \n",
    "    sources = result.sources\n",
    "    \n",
    "    # Run source deblending\n",
    "    sourceDeblendTask.run(calexp_inp, sources)\n",
    "\n",
    "    # Run source measurement\n",
    "    sourceMeasurementTask.run(measCat=sources, exposure=calexp_inp)\n",
    "\n",
    "    # The copy makes sure that the sources are sequential in memory\n",
    "    sources = sources.copy(True)\n",
    "    \n",
    "    # For convenience, return an Astropy table:\n",
    "    source_tab = sources.asAstropy()\n",
    "    \n",
    "    # Convert fluxes to magnitudes and add them to the table\n",
    "    photocalib = calexp_inp.getPhotoCalib()\n",
    "    psfmags = photocalib.instFluxToMagnitude(sources, 'base_PsfFlux')\n",
    "    source_tab.add_columns([psfmags[:,0], psfmags[:,1]], names=['mag_psf', 'magerr_psf'])\n",
    "    \n",
    "    return(source_tab)"
   ]
  },
  {
   "cell_type": "markdown",
   "id": "c1fd9490-5b58-4799-9987-785583ab97c4",
   "metadata": {
    "tags": []
   },
   "source": [
    "### Run the \"processFakes\" function on each image that we injected fake stars into\n",
    "\n",
    "**This may take at least a couple minutes to run**"
   ]
  },
  {
   "cell_type": "code",
   "execution_count": 49,
   "id": "cee54085-8f58-4ecc-bb17-67ae4016ac67",
   "metadata": {
    "execution": {
     "iopub.execute_input": "2023-07-10T20:43:53.319496Z",
     "iopub.status.busy": "2023-07-10T20:43:53.318806Z",
     "iopub.status.idle": "2023-07-10T20:44:13.993997Z",
     "shell.execute_reply": "2023-07-10T20:44:13.993100Z",
     "shell.execute_reply.started": "2023-07-10T20:43:53.319445Z"
    },
    "tags": []
   },
   "outputs": [
    {
     "data": {
      "text/html": [
       "<pre style=\"margin: 0.1em;\n",
       "padding-left: 0.25em;\n",
       "border-left-style: solid;\n",
       "font-family: var(--jp-code-font-family);\n",
       "font-size: var(--jp-code-font-size);\n",
       "line-height: var(--jp-code-line-height);\n",
       "\"><span style=\"color: var(--jp-warn-color2)\">lsst.characterizeImage</span> <span style=\"color: var(--jp-info-color0)\">INFO</span>: PSF estimation initialized with &#x27;simple&#x27; PSF</pre>"
      ],
      "text/plain": [
       "<IPython.core.display.HTML object>"
      ]
     },
     "metadata": {},
     "output_type": "display_data"
    },
    {
     "name": "stderr",
     "output_type": "stream",
     "text": [
      "/opt/lsst/software/stack/stack/miniconda3-py38_4.9.2-3.0.0/Linux64/meas_algorithms/gbe01a4569f+b284e5e768/python/lsst/meas/algorithms/installGaussianPsf.py:77: FutureWarning: Default position argument overload is deprecated and will be removed in version 24.0.  Please explicitly specify a position.\n",
      "  psfSigma = psfModel.computeShape().getDeterminantRadius()\n",
      "/opt/lsst/software/stack/stack/miniconda3-py38_4.9.2-3.0.0/Linux64/meas_algorithms/gbe01a4569f+b284e5e768/python/lsst/meas/algorithms/installGaussianPsf.py:78: FutureWarning: Default position argument overload is deprecated and will be removed in version 24.0.  Please explicitly specify a position.\n",
      "  width, height = psfModel.computeImage().getDimensions()\n"
     ]
    },
    {
     "data": {
      "text/html": [
       "<pre style=\"margin: 0.1em;\n",
       "padding-left: 0.25em;\n",
       "border-left-style: solid;\n",
       "font-family: var(--jp-code-font-family);\n",
       "font-size: var(--jp-code-font-size);\n",
       "line-height: var(--jp-code-line-height);\n",
       "\"><span style=\"color: var(--jp-warn-color2)\">lsst.characterizeImage.repair</span> <span style=\"color: var(--jp-info-color0)\">INFO</span>: Identified 0 cosmic rays.</pre>"
      ],
      "text/plain": [
       "<IPython.core.display.HTML object>"
      ]
     },
     "metadata": {},
     "output_type": "display_data"
    },
    {
     "name": "stderr",
     "output_type": "stream",
     "text": [
      "/opt/lsst/software/stack/stack/miniconda3-py38_4.9.2-3.0.0/Linux64/meas_algorithms/gbe01a4569f+b284e5e768/python/lsst/meas/algorithms/detection.py:410: FutureWarning: Default position argument overload is deprecated and will be removed in version 24.0.  Please explicitly specify a position.\n",
      "  sigma = psf.computeShape().getDeterminantRadius()\n",
      "/opt/lsst/software/stack/stack/miniconda3-py38_4.9.2-3.0.0/Linux64/meas_algorithms/gbe01a4569f+b284e5e768/python/lsst/meas/algorithms/detection.py:447: FutureWarning: Default position argument overload is deprecated and will be removed in version 24.0.  Please explicitly specify a position.\n",
      "  sigma = psf.computeShape().getDeterminantRadius()\n"
     ]
    },
    {
     "data": {
      "text/html": [
       "<pre style=\"margin: 0.1em;\n",
       "padding-left: 0.25em;\n",
       "border-left-style: solid;\n",
       "font-family: var(--jp-code-font-family);\n",
       "font-size: var(--jp-code-font-size);\n",
       "line-height: var(--jp-code-line-height);\n",
       "\"><span style=\"color: var(--jp-warn-color2)\">lsst.characterizeImage.detection</span> <span style=\"color: var(--jp-info-color0)\">INFO</span>: Detected 563 positive peaks in 284 footprints and 0 negative peaks in 0 footprints to 50 sigma</pre>"
      ],
      "text/plain": [
       "<IPython.core.display.HTML object>"
      ]
     },
     "metadata": {},
     "output_type": "display_data"
    },
    {
     "data": {
      "text/html": [
       "<pre style=\"margin: 0.1em;\n",
       "padding-left: 0.25em;\n",
       "border-left-style: solid;\n",
       "font-family: var(--jp-code-font-family);\n",
       "font-size: var(--jp-code-font-size);\n",
       "line-height: var(--jp-code-line-height);\n",
       "\"><span style=\"color: var(--jp-warn-color2)\">lsst.characterizeImage.detection</span> <span style=\"color: var(--jp-info-color0)\">INFO</span>: Resubtracting the background after object detection</pre>"
      ],
      "text/plain": [
       "<IPython.core.display.HTML object>"
      ]
     },
     "metadata": {},
     "output_type": "display_data"
    },
    {
     "data": {
      "text/html": [
       "<pre style=\"margin: 0.1em;\n",
       "padding-left: 0.25em;\n",
       "border-left-style: solid;\n",
       "font-family: var(--jp-code-font-family);\n",
       "font-size: var(--jp-code-font-size);\n",
       "line-height: var(--jp-code-line-height);\n",
       "\"><span style=\"color: var(--jp-warn-color2)\">lsst.characterizeImage.measurement</span> <span style=\"color: var(--jp-info-color0)\">INFO</span>: Measuring 284 sources (284 parents, 0 children) </pre>"
      ],
      "text/plain": [
       "<IPython.core.display.HTML object>"
      ]
     },
     "metadata": {},
     "output_type": "display_data"
    },
    {
     "data": {
      "text/html": [
       "<pre style=\"margin: 0.1em;\n",
       "padding-left: 0.25em;\n",
       "border-left-style: solid;\n",
       "font-family: var(--jp-code-font-family);\n",
       "font-size: var(--jp-code-font-size);\n",
       "line-height: var(--jp-code-line-height);\n",
       "\"><span style=\"color: var(--jp-warn-color2)\">lsst.characterizeImage.measurePsf</span> <span style=\"color: var(--jp-info-color0)\">INFO</span>: Measuring PSF</pre>"
      ],
      "text/plain": [
       "<IPython.core.display.HTML object>"
      ]
     },
     "metadata": {},
     "output_type": "display_data"
    },
    {
     "data": {
      "text/html": [
       "<pre style=\"margin: 0.1em;\n",
       "padding-left: 0.25em;\n",
       "border-left-style: solid;\n",
       "font-family: var(--jp-code-font-family);\n",
       "font-size: var(--jp-code-font-size);\n",
       "line-height: var(--jp-code-line-height);\n",
       "\"><span style=\"color: var(--jp-warn-color2)\">lsst.characterizeImage.measurePsf</span> <span style=\"color: var(--jp-info-color0)\">INFO</span>: PSF star selector found 120 candidates</pre>"
      ],
      "text/plain": [
       "<IPython.core.display.HTML object>"
      ]
     },
     "metadata": {},
     "output_type": "display_data"
    },
    {
     "data": {
      "text/html": [
       "<pre style=\"margin: 0.1em;\n",
       "padding-left: 0.25em;\n",
       "border-left-style: solid;\n",
       "font-family: var(--jp-code-font-family);\n",
       "font-size: var(--jp-code-font-size);\n",
       "line-height: var(--jp-code-line-height);\n",
       "\"><span style=\"color: var(--jp-warn-color2)\">lsst.characterizeImage.measurePsf.reserve</span> <span style=\"color: var(--jp-info-color0)\">INFO</span>: Reserved 0/120 sources</pre>"
      ],
      "text/plain": [
       "<IPython.core.display.HTML object>"
      ]
     },
     "metadata": {},
     "output_type": "display_data"
    },
    {
     "data": {
      "text/html": [
       "<pre style=\"margin: 0.1em;\n",
       "padding-left: 0.25em;\n",
       "border-left-style: solid;\n",
       "font-family: var(--jp-code-font-family);\n",
       "font-size: var(--jp-code-font-size);\n",
       "line-height: var(--jp-code-line-height);\n",
       "\"><span style=\"color: var(--jp-warn-color2)\">lsst.characterizeImage.measurePsf</span> <span style=\"color: var(--jp-info-color0)\">INFO</span>: Sending 120 candidates to PSF determiner</pre>"
      ],
      "text/plain": [
       "<IPython.core.display.HTML object>"
      ]
     },
     "metadata": {},
     "output_type": "display_data"
    },
    {
     "data": {
      "text/html": [
       "<pre style=\"margin: 0.1em;\n",
       "padding-left: 0.25em;\n",
       "border-left-style: solid;\n",
       "font-family: var(--jp-code-font-family);\n",
       "font-size: var(--jp-code-font-size);\n",
       "line-height: var(--jp-code-line-height);\n",
       "\"><span style=\"color: var(--jp-warn-color2)\">lsst.characterizeImage.measurePsf.psfDeterminer</span> <span style=\"color: var(--jp-warn-color0)\">WARNING</span>: NOT scaling kernelSize by stellar quadrupole moment, but using absolute value</pre>"
      ],
      "text/plain": [
       "<IPython.core.display.HTML object>"
      ]
     },
     "metadata": {},
     "output_type": "display_data"
    },
    {
     "data": {
      "text/html": [
       "<pre style=\"margin: 0.1em;\n",
       "padding-left: 0.25em;\n",
       "border-left-style: solid;\n",
       "font-family: var(--jp-code-font-family);\n",
       "font-size: var(--jp-code-font-size);\n",
       "line-height: var(--jp-code-line-height);\n",
       "\"><span style=\"color: var(--jp-warn-color2)\">lsst.characterizeImage.measurePsf</span> <span style=\"color: var(--jp-info-color0)\">INFO</span>: PSF determination using 120/120 stars.</pre>"
      ],
      "text/plain": [
       "<IPython.core.display.HTML object>"
      ]
     },
     "metadata": {},
     "output_type": "display_data"
    },
    {
     "data": {
      "text/html": [
       "<pre style=\"margin: 0.1em;\n",
       "padding-left: 0.25em;\n",
       "border-left-style: solid;\n",
       "font-family: var(--jp-code-font-family);\n",
       "font-size: var(--jp-code-font-size);\n",
       "line-height: var(--jp-code-line-height);\n",
       "\"><span style=\"color: var(--jp-warn-color2)\">lsst.characterizeImage</span> <span style=\"color: var(--jp-info-color0)\">INFO</span>: iter 1; PSF sigma=1.45, dimensions=(41, 41); median background=0.43</pre>"
      ],
      "text/plain": [
       "<IPython.core.display.HTML object>"
      ]
     },
     "metadata": {},
     "output_type": "display_data"
    },
    {
     "data": {
      "text/html": [
       "<pre style=\"margin: 0.1em;\n",
       "padding-left: 0.25em;\n",
       "border-left-style: solid;\n",
       "font-family: var(--jp-code-font-family);\n",
       "font-size: var(--jp-code-font-size);\n",
       "line-height: var(--jp-code-line-height);\n",
       "\"><span style=\"color: var(--jp-warn-color2)\">lsst.characterizeImage.repair</span> <span style=\"color: var(--jp-info-color0)\">INFO</span>: Identified 0 cosmic rays.</pre>"
      ],
      "text/plain": [
       "<IPython.core.display.HTML object>"
      ]
     },
     "metadata": {},
     "output_type": "display_data"
    },
    {
     "data": {
      "text/html": [
       "<pre style=\"margin: 0.1em;\n",
       "padding-left: 0.25em;\n",
       "border-left-style: solid;\n",
       "font-family: var(--jp-code-font-family);\n",
       "font-size: var(--jp-code-font-size);\n",
       "line-height: var(--jp-code-line-height);\n",
       "\"><span style=\"color: var(--jp-warn-color2)\">lsst.characterizeImage.measurement</span> <span style=\"color: var(--jp-info-color0)\">INFO</span>: Measuring 284 sources (284 parents, 0 children) </pre>"
      ],
      "text/plain": [
       "<IPython.core.display.HTML object>"
      ]
     },
     "metadata": {},
     "output_type": "display_data"
    },
    {
     "data": {
      "text/html": [
       "<pre style=\"margin: 0.1em;\n",
       "padding-left: 0.25em;\n",
       "border-left-style: solid;\n",
       "font-family: var(--jp-code-font-family);\n",
       "font-size: var(--jp-code-font-size);\n",
       "line-height: var(--jp-code-line-height);\n",
       "\"><span style=\"color: var(--jp-warn-color2)\">lsst.characterizeImage.measureApCorr</span> <span style=\"color: var(--jp-info-color0)\">INFO</span>: Measuring aperture corrections for 2 flux fields</pre>"
      ],
      "text/plain": [
       "<IPython.core.display.HTML object>"
      ]
     },
     "metadata": {},
     "output_type": "display_data"
    },
    {
     "data": {
      "text/html": [
       "<pre style=\"margin: 0.1em;\n",
       "padding-left: 0.25em;\n",
       "border-left-style: solid;\n",
       "font-family: var(--jp-code-font-family);\n",
       "font-size: var(--jp-code-font-size);\n",
       "line-height: var(--jp-code-line-height);\n",
       "\"><span style=\"color: var(--jp-warn-color2)\">lsst.characterizeImage.measureApCorr</span> <span style=\"color: var(--jp-info-color0)\">INFO</span>: Aperture correction for base_GaussianFlux: RMS 0.016175 from 113</pre>"
      ],
      "text/plain": [
       "<IPython.core.display.HTML object>"
      ]
     },
     "metadata": {},
     "output_type": "display_data"
    },
    {
     "data": {
      "text/html": [
       "<pre style=\"margin: 0.1em;\n",
       "padding-left: 0.25em;\n",
       "border-left-style: solid;\n",
       "font-family: var(--jp-code-font-family);\n",
       "font-size: var(--jp-code-font-size);\n",
       "line-height: var(--jp-code-line-height);\n",
       "\"><span style=\"color: var(--jp-warn-color2)\">lsst.characterizeImage.measureApCorr</span> <span style=\"color: var(--jp-info-color0)\">INFO</span>: Aperture correction for base_PsfFlux: RMS 0.013836 from 110</pre>"
      ],
      "text/plain": [
       "<IPython.core.display.HTML object>"
      ]
     },
     "metadata": {},
     "output_type": "display_data"
    },
    {
     "data": {
      "text/html": [
       "<pre style=\"margin: 0.1em;\n",
       "padding-left: 0.25em;\n",
       "border-left-style: solid;\n",
       "font-family: var(--jp-code-font-family);\n",
       "font-size: var(--jp-code-font-size);\n",
       "line-height: var(--jp-code-line-height);\n",
       "\"><span style=\"color: var(--jp-warn-color2)\">lsst.characterizeImage.applyApCorr</span> <span style=\"color: var(--jp-info-color0)\">INFO</span>: Applying aperture corrections to 2 instFlux fields</pre>"
      ],
      "text/plain": [
       "<IPython.core.display.HTML object>"
      ]
     },
     "metadata": {},
     "output_type": "display_data"
    },
    {
     "name": "stderr",
     "output_type": "stream",
     "text": [
      "/tmp/ipykernel_766/125701312.py:33: FutureWarning: Default position argument overload is deprecated and will be removed in version 24.0.  Please explicitly specify a position.\n",
      "  sigma = psf.computeShape().getDeterminantRadius()\n",
      "/opt/lsst/software/stack/stack/miniconda3-py38_4.9.2-3.0.0/Linux64/meas_algorithms/gbe01a4569f+b284e5e768/python/lsst/meas/algorithms/detection.py:410: FutureWarning: Default position argument overload is deprecated and will be removed in version 24.0.  Please explicitly specify a position.\n",
      "  sigma = psf.computeShape().getDeterminantRadius()\n",
      "/opt/lsst/software/stack/stack/miniconda3-py38_4.9.2-3.0.0/Linux64/meas_algorithms/gbe01a4569f+b284e5e768/python/lsst/meas/algorithms/detection.py:447: FutureWarning: Default position argument overload is deprecated and will be removed in version 24.0.  Please explicitly specify a position.\n",
      "  sigma = psf.computeShape().getDeterminantRadius()\n"
     ]
    },
    {
     "name": "stdout",
     "output_type": "stream",
     "text": [
      "psf fwhm = 0.68 arcsec\n"
     ]
    },
    {
     "data": {
      "text/html": [
       "<pre style=\"margin: 0.1em;\n",
       "padding-left: 0.25em;\n",
       "border-left-style: solid;\n",
       "font-family: var(--jp-code-font-family);\n",
       "font-size: var(--jp-code-font-size);\n",
       "line-height: var(--jp-code-line-height);\n",
       "\"><span style=\"color: var(--jp-warn-color2)\">lsst.sourceDetection</span> <span style=\"color: var(--jp-info-color0)\">INFO</span>: Detected 1600 positive peaks in 1526 footprints and 0 negative peaks in 0 footprints to 10 sigma</pre>"
      ],
      "text/plain": [
       "<IPython.core.display.HTML object>"
      ]
     },
     "metadata": {},
     "output_type": "display_data"
    },
    {
     "data": {
      "text/html": [
       "<pre style=\"margin: 0.1em;\n",
       "padding-left: 0.25em;\n",
       "border-left-style: solid;\n",
       "font-family: var(--jp-code-font-family);\n",
       "font-size: var(--jp-code-font-size);\n",
       "line-height: var(--jp-code-line-height);\n",
       "\"><span style=\"color: var(--jp-warn-color2)\">lsst.sourceDetection</span> <span style=\"color: var(--jp-info-color0)\">INFO</span>: Resubtracting the background after object detection</pre>"
      ],
      "text/plain": [
       "<IPython.core.display.HTML object>"
      ]
     },
     "metadata": {},
     "output_type": "display_data"
    },
    {
     "data": {
      "text/html": [
       "<pre style=\"margin: 0.1em;\n",
       "padding-left: 0.25em;\n",
       "border-left-style: solid;\n",
       "font-family: var(--jp-code-font-family);\n",
       "font-size: var(--jp-code-font-size);\n",
       "line-height: var(--jp-code-line-height);\n",
       "\"><span style=\"color: var(--jp-warn-color2)\">lsst.sourceDeblend</span> <span style=\"color: var(--jp-info-color0)\">INFO</span>: Deblending 1526 sources</pre>"
      ],
      "text/plain": [
       "<IPython.core.display.HTML object>"
      ]
     },
     "metadata": {},
     "output_type": "display_data"
    },
    {
     "name": "stderr",
     "output_type": "stream",
     "text": [
      "/opt/lsst/software/stack/stack/miniconda3-py38_4.9.2-3.0.0/Linux64/meas_deblender/g359a236c20+bf72eb646d/python/lsst/meas/deblender/sourceDeblendTask.py:281: FutureWarning: Default position argument overload is deprecated and will be removed in version 24.0.  Please explicitly specify a position.\n",
      "  return psf.computeShape().getDeterminantRadius() * 2.35\n"
     ]
    },
    {
     "data": {
      "text/html": [
       "<pre style=\"margin: 0.1em;\n",
       "padding-left: 0.25em;\n",
       "border-left-style: solid;\n",
       "font-family: var(--jp-code-font-family);\n",
       "font-size: var(--jp-code-font-size);\n",
       "line-height: var(--jp-code-line-height);\n",
       "\"><span style=\"color: var(--jp-warn-color2)\">lsst.sourceDeblend</span> <span style=\"color: var(--jp-info-color0)\">INFO</span>: Deblended: of 1526 sources, 57 were deblended, creating 131 children, total 1657 sources</pre>"
      ],
      "text/plain": [
       "<IPython.core.display.HTML object>"
      ]
     },
     "metadata": {},
     "output_type": "display_data"
    },
    {
     "data": {
      "text/html": [
       "<pre style=\"margin: 0.1em;\n",
       "padding-left: 0.25em;\n",
       "border-left-style: solid;\n",
       "font-family: var(--jp-code-font-family);\n",
       "font-size: var(--jp-code-font-size);\n",
       "line-height: var(--jp-code-line-height);\n",
       "\"><span style=\"color: var(--jp-warn-color2)\">lsst.measurement</span> <span style=\"color: var(--jp-info-color0)\">INFO</span>: Measuring 1657 sources (1526 parents, 131 children) </pre>"
      ],
      "text/plain": [
       "<IPython.core.display.HTML object>"
      ]
     },
     "metadata": {},
     "output_type": "display_data"
    },
    {
     "name": "stdout",
     "output_type": "stream",
     "text": [
      "dt 20.669852256774902\n"
     ]
    }
   ],
   "source": [
    "t1 = time.time()\n",
    "\n",
    "#sources_withfakes_u = processFakes(calexp_new_u)\n",
    "#sources_withfakes_g = processFakes(calexp_new_g)\n",
    "sources_withfakes_r = processFakes(calexp_new_r)\n",
    "#sources_withfakes_i = processFakes(calexp_new_i)\n",
    "\n",
    "t2 = time.time()\n",
    "print('dt', t2 - t1)"
   ]
  },
  {
   "cell_type": "code",
   "execution_count": 50,
   "id": "a6b88d6c-d908-4a5f-96ee-64be2d9bbf3c",
   "metadata": {
    "execution": {
     "iopub.execute_input": "2023-07-10T20:44:26.579467Z",
     "iopub.status.busy": "2023-07-10T20:44:26.578734Z",
     "iopub.status.idle": "2023-07-10T20:44:26.631086Z",
     "shell.execute_reply": "2023-07-10T20:44:26.630570Z",
     "shell.execute_reply.started": "2023-07-10T20:44:26.579436Z"
    },
    "tags": []
   },
   "outputs": [
    {
     "data": {
      "text/html": [
       "<div><i>Table length=1657</i>\n",
       "<table id=\"table139626956233024\" class=\"table-striped table-bordered table-condensed\">\n",
       "<thead><tr><th>id</th><th>coord_ra</th><th>coord_dec</th><th>parent</th><th>deblend_nChild</th><th>deblend_deblendedAsPsf</th><th>deblend_psfCenter_x</th><th>deblend_psfCenter_y</th><th>deblend_psf_instFlux</th><th>deblend_tooManyPeaks</th><th>deblend_parentTooBig</th><th>deblend_masked</th><th>deblend_skipped</th><th>deblend_rampedTemplate</th><th>deblend_patchedTemplate</th><th>deblend_hasStrayFlux</th><th>deblend_peak_center_x</th><th>deblend_peak_center_y</th><th>deblend_peakId</th><th>deblend_nPeaks</th><th>deblend_parentNPeaks</th><th>base_NaiveCentroid_x</th><th>base_NaiveCentroid_y</th><th>base_NaiveCentroid_flag</th><th>base_NaiveCentroid_flag_noCounts</th><th>base_NaiveCentroid_flag_edge</th><th>base_NaiveCentroid_flag_resetToPeak</th><th>base_SdssCentroid_x</th><th>slot_Centroid_x</th><th>base_SdssCentroid_y</th><th>slot_Centroid_y</th><th>base_SdssCentroid_xErr</th><th>slot_Centroid_xErr</th><th>base_SdssCentroid_yErr</th><th>slot_Centroid_yErr</th><th>base_SdssCentroid_flag</th><th>base_CircularApertureFlux_flag_badCentroid</th><th>base_GaussianFlux_flag_badCentroid</th><th>base_LocalBackground_flag_badCentroid</th><th>base_NaiveCentroid_flag_badInitialCentroid</th><th>base_PsfFlux_flag_badCentroid</th><th>base_SdssShape_flag_badCentroid</th><th>base_Variance_flag_badCentroid</th><th>slot_Centroid_flag</th><th>base_SdssCentroid_flag_edge</th><th>base_CircularApertureFlux_flag_badCentroid_edge</th><th>base_GaussianFlux_flag_badCentroid_edge</th><th>base_LocalBackground_flag_badCentroid_edge</th><th>base_NaiveCentroid_flag_badInitialCentroid_edge</th><th>base_PsfFlux_flag_badCentroid_edge</th><th>base_SdssShape_flag_badCentroid_edge</th><th>base_Variance_flag_badCentroid_edge</th><th>slot_Centroid_flag_edge</th><th>base_SdssCentroid_flag_noSecondDerivative</th><th>base_CircularApertureFlux_flag_badCentroid_noSecondDerivative</th><th>base_GaussianFlux_flag_badCentroid_noSecondDerivative</th><th>base_LocalBackground_flag_badCentroid_noSecondDerivative</th><th>base_NaiveCentroid_flag_badInitialCentroid_noSecondDerivative</th><th>base_PsfFlux_flag_badCentroid_noSecondDerivative</th><th>base_SdssShape_flag_badCentroid_noSecondDerivative</th><th>base_Variance_flag_badCentroid_noSecondDerivative</th><th>slot_Centroid_flag_noSecondDerivative</th><th>base_SdssCentroid_flag_almostNoSecondDerivative</th><th>base_CircularApertureFlux_flag_badCentroid_almostNoSecondDerivative</th><th>base_GaussianFlux_flag_badCentroid_almostNoSecondDerivative</th><th>base_LocalBackground_flag_badCentroid_almostNoSecondDerivative</th><th>base_NaiveCentroid_flag_badInitialCentroid_almostNoSecondDerivative</th><th>base_PsfFlux_flag_badCentroid_almostNoSecondDerivative</th><th>base_SdssShape_flag_badCentroid_almostNoSecondDerivative</th><th>base_Variance_flag_badCentroid_almostNoSecondDerivative</th><th>slot_Centroid_flag_almostNoSecondDerivative</th><th>base_SdssCentroid_flag_notAtMaximum</th><th>base_CircularApertureFlux_flag_badCentroid_notAtMaximum</th><th>base_GaussianFlux_flag_badCentroid_notAtMaximum</th><th>base_LocalBackground_flag_badCentroid_notAtMaximum</th><th>base_NaiveCentroid_flag_badInitialCentroid_notAtMaximum</th><th>base_PsfFlux_flag_badCentroid_notAtMaximum</th><th>base_SdssShape_flag_badCentroid_notAtMaximum</th><th>base_Variance_flag_badCentroid_notAtMaximum</th><th>slot_Centroid_flag_notAtMaximum</th><th>base_SdssCentroid_flag_resetToPeak</th><th>base_CircularApertureFlux_flag_badCentroid_resetToPeak</th><th>base_GaussianFlux_flag_badCentroid_resetToPeak</th><th>base_LocalBackground_flag_badCentroid_resetToPeak</th><th>base_NaiveCentroid_flag_badInitialCentroid_resetToPeak</th><th>base_PsfFlux_flag_badCentroid_resetToPeak</th><th>base_SdssShape_flag_badCentroid_resetToPeak</th><th>base_Variance_flag_badCentroid_resetToPeak</th><th>slot_Centroid_flag_resetToPeak</th><th>base_SdssCentroid_flag_badError</th><th>base_CircularApertureFlux_flag_badCentroid_badError</th><th>base_GaussianFlux_flag_badCentroid_badError</th><th>base_LocalBackground_flag_badCentroid_badError</th><th>base_NaiveCentroid_flag_badInitialCentroid_badError</th><th>base_PsfFlux_flag_badCentroid_badError</th><th>base_SdssShape_flag_badCentroid_badError</th><th>base_Variance_flag_badCentroid_badError</th><th>slot_Centroid_flag_badError</th><th>base_Blendedness_old</th><th>base_Blendedness_raw</th><th>base_Blendedness_raw_child_instFlux</th><th>base_Blendedness_raw_parent_instFlux</th><th>base_Blendedness_abs</th><th>base_Blendedness_abs_child_instFlux</th><th>base_Blendedness_abs_parent_instFlux</th><th>base_Blendedness_raw_child_xx</th><th>base_Blendedness_raw_child_yy</th><th>base_Blendedness_raw_child_xy</th><th>base_Blendedness_raw_parent_xx</th><th>base_Blendedness_raw_parent_yy</th><th>base_Blendedness_raw_parent_xy</th><th>base_Blendedness_abs_child_xx</th><th>base_Blendedness_abs_child_yy</th><th>base_Blendedness_abs_child_xy</th><th>base_Blendedness_abs_parent_xx</th><th>base_Blendedness_abs_parent_yy</th><th>base_Blendedness_abs_parent_xy</th><th>base_Blendedness_flag</th><th>base_Blendedness_flag_noCentroid</th><th>base_Blendedness_flag_noShape</th><th>base_SdssShape_xx</th><th>slot_Shape_xx</th><th>base_SdssShape_yy</th><th>slot_Shape_yy</th><th>base_SdssShape_xy</th><th>slot_Shape_xy</th><th>base_SdssShape_xxErr</th><th>slot_Shape_xxErr</th><th>base_SdssShape_yyErr</th><th>slot_Shape_yyErr</th><th>base_SdssShape_xyErr</th><th>slot_Shape_xyErr</th><th>base_SdssShape_x</th><th>slot_Shape_x</th><th>base_SdssShape_y</th><th>slot_Shape_y</th><th>base_SdssShape_instFlux</th><th>slot_Shape_instFlux</th><th>base_SdssShape_instFluxErr</th><th>slot_Shape_instFluxErr</th><th>base_SdssShape_psf_xx</th><th>slot_PsfShape_xx</th><th>slot_Shape_psf_xx</th><th>base_SdssShape_psf_yy</th><th>slot_PsfShape_yy</th><th>slot_Shape_psf_yy</th><th>base_SdssShape_psf_xy</th><th>slot_PsfShape_xy</th><th>slot_Shape_psf_xy</th><th>base_SdssShape_instFlux_xx_Cov</th><th>slot_Shape_instFlux_xx_Cov</th><th>base_SdssShape_instFlux_yy_Cov</th><th>slot_Shape_instFlux_yy_Cov</th><th>base_SdssShape_instFlux_xy_Cov</th><th>slot_Shape_instFlux_xy_Cov</th><th>base_SdssShape_flag</th><th>base_GaussianFlux_flag_badShape</th><th>slot_Shape_flag</th><th>base_SdssShape_flag_unweightedBad</th><th>base_GaussianFlux_flag_badShape_unweightedBad</th><th>slot_Shape_flag_unweightedBad</th><th>base_SdssShape_flag_unweighted</th><th>base_GaussianFlux_flag_badShape_unweighted</th><th>slot_Shape_flag_unweighted</th><th>base_SdssShape_flag_shift</th><th>base_GaussianFlux_flag_badShape_shift</th><th>slot_Shape_flag_shift</th><th>base_SdssShape_flag_maxIter</th><th>base_GaussianFlux_flag_badShape_maxIter</th><th>slot_Shape_flag_maxIter</th><th>base_SdssShape_flag_psf</th><th>base_GaussianFlux_flag_badShape_psf</th><th>slot_Shape_flag_psf</th><th>base_CircularApertureFlux_3_0_instFlux</th><th>base_CircularApertureFlux_3_0_instFluxErr</th><th>base_CircularApertureFlux_3_0_flag</th><th>base_CircularApertureFlux_3_0_flag_apertureTruncated</th><th>base_CircularApertureFlux_3_0_flag_sincCoeffsTruncated</th><th>base_CircularApertureFlux_4_5_instFlux</th><th>base_CircularApertureFlux_4_5_instFluxErr</th><th>base_CircularApertureFlux_4_5_flag</th><th>base_CircularApertureFlux_4_5_flag_apertureTruncated</th><th>base_CircularApertureFlux_4_5_flag_sincCoeffsTruncated</th><th>base_CircularApertureFlux_6_0_instFlux</th><th>base_CircularApertureFlux_6_0_instFluxErr</th><th>base_CircularApertureFlux_6_0_flag</th><th>base_CircularApertureFlux_6_0_flag_apertureTruncated</th><th>base_CircularApertureFlux_6_0_flag_sincCoeffsTruncated</th><th>base_CircularApertureFlux_9_0_instFlux</th><th>base_CircularApertureFlux_9_0_instFluxErr</th><th>base_CircularApertureFlux_9_0_flag</th><th>base_CircularApertureFlux_9_0_flag_apertureTruncated</th><th>base_CircularApertureFlux_9_0_flag_sincCoeffsTruncated</th><th>base_CircularApertureFlux_12_0_instFlux</th><th>slot_ApFlux_instFlux</th><th>slot_CalibFlux_instFlux</th><th>base_CircularApertureFlux_12_0_instFluxErr</th><th>slot_ApFlux_instFluxErr</th><th>slot_CalibFlux_instFluxErr</th><th>base_CircularApertureFlux_12_0_flag</th><th>slot_ApFlux_flag</th><th>slot_CalibFlux_flag</th><th>base_CircularApertureFlux_12_0_flag_apertureTruncated</th><th>slot_ApFlux_flag_apertureTruncated</th><th>slot_CalibFlux_flag_apertureTruncated</th><th>base_CircularApertureFlux_17_0_instFlux</th><th>base_CircularApertureFlux_17_0_instFluxErr</th><th>base_CircularApertureFlux_17_0_flag</th><th>base_CircularApertureFlux_17_0_flag_apertureTruncated</th><th>base_CircularApertureFlux_25_0_instFlux</th><th>base_CircularApertureFlux_25_0_instFluxErr</th><th>base_CircularApertureFlux_25_0_flag</th><th>base_CircularApertureFlux_25_0_flag_apertureTruncated</th><th>base_CircularApertureFlux_35_0_instFlux</th><th>base_CircularApertureFlux_35_0_instFluxErr</th><th>base_CircularApertureFlux_35_0_flag</th><th>base_CircularApertureFlux_35_0_flag_apertureTruncated</th><th>base_CircularApertureFlux_50_0_instFlux</th><th>base_CircularApertureFlux_50_0_instFluxErr</th><th>base_CircularApertureFlux_50_0_flag</th><th>base_CircularApertureFlux_50_0_flag_apertureTruncated</th><th>base_CircularApertureFlux_70_0_instFlux</th><th>base_CircularApertureFlux_70_0_instFluxErr</th><th>base_CircularApertureFlux_70_0_flag</th><th>base_CircularApertureFlux_70_0_flag_apertureTruncated</th><th>base_GaussianFlux_instFlux</th><th>slot_GaussianFlux_instFlux</th><th>slot_ModelFlux_instFlux</th><th>base_GaussianFlux_instFluxErr</th><th>slot_GaussianFlux_instFluxErr</th><th>slot_ModelFlux_instFluxErr</th><th>base_GaussianFlux_flag</th><th>slot_GaussianFlux_flag</th><th>slot_ModelFlux_flag</th><th>base_LocalBackground_instFlux</th><th>base_LocalBackground_instFluxErr</th><th>base_LocalBackground_flag</th><th>base_LocalBackground_flag_noGoodPixels</th><th>base_LocalBackground_flag_noPsf</th><th>base_PixelFlags_flag</th><th>base_PixelFlags_flag_offimage</th><th>base_PixelFlags_flag_edge</th><th>base_PixelFlags_flag_interpolated</th><th>base_PixelFlags_flag_saturated</th><th>base_PixelFlags_flag_cr</th><th>base_PixelFlags_flag_bad</th><th>base_PixelFlags_flag_suspect</th><th>base_PixelFlags_flag_interpolatedCenter</th><th>base_PixelFlags_flag_saturatedCenter</th><th>base_PixelFlags_flag_crCenter</th><th>base_PixelFlags_flag_suspectCenter</th><th>base_PsfFlux_instFlux</th><th>slot_PsfFlux_instFlux</th><th>base_PsfFlux_instFluxErr</th><th>slot_PsfFlux_instFluxErr</th><th>base_PsfFlux_area</th><th>slot_PsfFlux_area</th><th>base_PsfFlux_chi2</th><th>slot_PsfFlux_chi2</th><th>base_PsfFlux_npixels</th><th>slot_PsfFlux_npixels</th><th>base_PsfFlux_flag</th><th>slot_PsfFlux_flag</th><th>base_PsfFlux_flag_noGoodPixels</th><th>slot_PsfFlux_flag_noGoodPixels</th><th>base_PsfFlux_flag_edge</th><th>slot_PsfFlux_flag_edge</th><th>base_Variance_flag</th><th>base_Variance_value</th><th>base_Variance_flag_emptyFootprint</th><th>mag_psf</th><th>magerr_psf</th></tr></thead>\n",
       "<thead><tr><th></th><th>rad</th><th>rad</th><th></th><th></th><th></th><th>pix</th><th>pix</th><th>ct</th><th></th><th></th><th></th><th></th><th></th><th></th><th></th><th>pix</th><th>pix</th><th></th><th></th><th></th><th>pix</th><th>pix</th><th></th><th></th><th></th><th></th><th>pix</th><th>pix</th><th>pix</th><th>pix</th><th>pix</th><th>pix</th><th>pix</th><th>pix</th><th></th><th></th><th></th><th></th><th></th><th></th><th></th><th></th><th></th><th></th><th></th><th></th><th></th><th></th><th></th><th></th><th></th><th></th><th></th><th></th><th></th><th></th><th></th><th></th><th></th><th></th><th></th><th></th><th></th><th></th><th></th><th></th><th></th><th></th><th></th><th></th><th></th><th></th><th></th><th></th><th></th><th></th><th></th><th></th><th></th><th></th><th></th><th></th><th></th><th></th><th></th><th></th><th></th><th></th><th></th><th></th><th></th><th></th><th></th><th></th><th></th><th></th><th></th><th></th><th></th><th>ct</th><th>ct</th><th></th><th>ct</th><th>ct</th><th>pix2</th><th>pix2</th><th>pix2</th><th>pix2</th><th>pix2</th><th>pix2</th><th>pix2</th><th>pix2</th><th>pix2</th><th>pix2</th><th>pix2</th><th>pix2</th><th></th><th></th><th></th><th>pix2</th><th>pix2</th><th>pix2</th><th>pix2</th><th>pix2</th><th>pix2</th><th>pix2</th><th>pix2</th><th>pix2</th><th>pix2</th><th>pix2</th><th>pix2</th><th>pix</th><th>pix</th><th>pix</th><th>pix</th><th>ct</th><th>ct</th><th>ct</th><th>ct</th><th>pix2</th><th>pix2</th><th>pix2</th><th>pix2</th><th>pix2</th><th>pix2</th><th>pix2</th><th>pix2</th><th>pix2</th><th>ct pix2</th><th>ct pix2</th><th>ct pix2</th><th>ct pix2</th><th>ct pix2</th><th>ct pix2</th><th></th><th></th><th></th><th></th><th></th><th></th><th></th><th></th><th></th><th></th><th></th><th></th><th></th><th></th><th></th><th></th><th></th><th></th><th>ct</th><th>ct</th><th></th><th></th><th></th><th>ct</th><th>ct</th><th></th><th></th><th></th><th>ct</th><th>ct</th><th></th><th></th><th></th><th>ct</th><th>ct</th><th></th><th></th><th></th><th>ct</th><th>ct</th><th>ct</th><th>ct</th><th>ct</th><th>ct</th><th></th><th></th><th></th><th></th><th></th><th></th><th>ct</th><th>ct</th><th></th><th></th><th>ct</th><th>ct</th><th></th><th></th><th>ct</th><th>ct</th><th></th><th></th><th>ct</th><th>ct</th><th></th><th></th><th>ct</th><th>ct</th><th></th><th></th><th>ct</th><th>ct</th><th>ct</th><th>ct</th><th>ct</th><th>ct</th><th></th><th></th><th></th><th>ct</th><th>ct</th><th></th><th></th><th></th><th></th><th></th><th></th><th></th><th></th><th></th><th></th><th></th><th></th><th></th><th></th><th></th><th>ct</th><th>ct</th><th>ct</th><th>ct</th><th>pix</th><th>pix</th><th></th><th></th><th>pix</th><th>pix</th><th></th><th></th><th></th><th></th><th></th><th></th><th></th><th></th><th></th><th></th><th></th></tr></thead>\n",
       "<thead><tr><th>int64</th><th>float64</th><th>float64</th><th>int64</th><th>int32</th><th>bool</th><th>float64</th><th>float64</th><th>float64</th><th>bool</th><th>bool</th><th>bool</th><th>bool</th><th>bool</th><th>bool</th><th>bool</th><th>int32</th><th>int32</th><th>int32</th><th>int32</th><th>int32</th><th>float64</th><th>float64</th><th>bool</th><th>bool</th><th>bool</th><th>bool</th><th>float64</th><th>float64</th><th>float64</th><th>float64</th><th>float32</th><th>float32</th><th>float32</th><th>float32</th><th>bool</th><th>bool</th><th>bool</th><th>bool</th><th>bool</th><th>bool</th><th>bool</th><th>bool</th><th>bool</th><th>bool</th><th>bool</th><th>bool</th><th>bool</th><th>bool</th><th>bool</th><th>bool</th><th>bool</th><th>bool</th><th>bool</th><th>bool</th><th>bool</th><th>bool</th><th>bool</th><th>bool</th><th>bool</th><th>bool</th><th>bool</th><th>bool</th><th>bool</th><th>bool</th><th>bool</th><th>bool</th><th>bool</th><th>bool</th><th>bool</th><th>bool</th><th>bool</th><th>bool</th><th>bool</th><th>bool</th><th>bool</th><th>bool</th><th>bool</th><th>bool</th><th>bool</th><th>bool</th><th>bool</th><th>bool</th><th>bool</th><th>bool</th><th>bool</th><th>bool</th><th>bool</th><th>bool</th><th>bool</th><th>bool</th><th>bool</th><th>bool</th><th>bool</th><th>bool</th><th>bool</th><th>bool</th><th>bool</th><th>float64</th><th>float64</th><th>float64</th><th>float64</th><th>float64</th><th>float64</th><th>float64</th><th>float64</th><th>float64</th><th>float64</th><th>float64</th><th>float64</th><th>float64</th><th>float64</th><th>float64</th><th>float64</th><th>float64</th><th>float64</th><th>float64</th><th>bool</th><th>bool</th><th>bool</th><th>float64</th><th>float64</th><th>float64</th><th>float64</th><th>float64</th><th>float64</th><th>float32</th><th>float32</th><th>float32</th><th>float32</th><th>float32</th><th>float32</th><th>float64</th><th>float64</th><th>float64</th><th>float64</th><th>float64</th><th>float64</th><th>float64</th><th>float64</th><th>float64</th><th>float64</th><th>float64</th><th>float64</th><th>float64</th><th>float64</th><th>float64</th><th>float64</th><th>float64</th><th>float32</th><th>float32</th><th>float32</th><th>float32</th><th>float32</th><th>float32</th><th>bool</th><th>bool</th><th>bool</th><th>bool</th><th>bool</th><th>bool</th><th>bool</th><th>bool</th><th>bool</th><th>bool</th><th>bool</th><th>bool</th><th>bool</th><th>bool</th><th>bool</th><th>bool</th><th>bool</th><th>bool</th><th>float64</th><th>float64</th><th>bool</th><th>bool</th><th>bool</th><th>float64</th><th>float64</th><th>bool</th><th>bool</th><th>bool</th><th>float64</th><th>float64</th><th>bool</th><th>bool</th><th>bool</th><th>float64</th><th>float64</th><th>bool</th><th>bool</th><th>bool</th><th>float64</th><th>float64</th><th>float64</th><th>float64</th><th>float64</th><th>float64</th><th>bool</th><th>bool</th><th>bool</th><th>bool</th><th>bool</th><th>bool</th><th>float64</th><th>float64</th><th>bool</th><th>bool</th><th>float64</th><th>float64</th><th>bool</th><th>bool</th><th>float64</th><th>float64</th><th>bool</th><th>bool</th><th>float64</th><th>float64</th><th>bool</th><th>bool</th><th>float64</th><th>float64</th><th>bool</th><th>bool</th><th>float64</th><th>float64</th><th>float64</th><th>float64</th><th>float64</th><th>float64</th><th>bool</th><th>bool</th><th>bool</th><th>float64</th><th>float64</th><th>bool</th><th>bool</th><th>bool</th><th>bool</th><th>bool</th><th>bool</th><th>bool</th><th>bool</th><th>bool</th><th>bool</th><th>bool</th><th>bool</th><th>bool</th><th>bool</th><th>bool</th><th>float64</th><th>float64</th><th>float64</th><th>float64</th><th>float32</th><th>float32</th><th>float32</th><th>float32</th><th>int32</th><th>int32</th><th>bool</th><th>bool</th><th>bool</th><th>bool</th><th>bool</th><th>bool</th><th>bool</th><th>float64</th><th>bool</th><th>float64</th><th>float64</th></tr></thead>\n",
       "<tr><td>1</td><td>1.0443096034893478</td><td>-0.6401162073468698</td><td>0</td><td>0</td><td>False</td><td>nan</td><td>nan</td><td>nan</td><td>False</td><td>False</td><td>False</td><td>False</td><td>False</td><td>False</td><td>False</td><td>0</td><td>0</td><td>0</td><td>0</td><td>0</td><td>717.0363503135544</td><td>8.076643559546493</td><td>False</td><td>False</td><td>False</td><td>False</td><td>717.0</td><td>717.0</td><td>8.0</td><td>8.0</td><td>nan</td><td>nan</td><td>nan</td><td>nan</td><td>True</td><td>True</td><td>True</td><td>True</td><td>True</td><td>True</td><td>True</td><td>True</td><td>True</td><td>True</td><td>True</td><td>True</td><td>True</td><td>True</td><td>True</td><td>True</td><td>True</td><td>True</td><td>False</td><td>False</td><td>False</td><td>False</td><td>False</td><td>False</td><td>False</td><td>False</td><td>False</td><td>False</td><td>False</td><td>False</td><td>False</td><td>False</td><td>False</td><td>False</td><td>False</td><td>False</td><td>False</td><td>False</td><td>False</td><td>False</td><td>False</td><td>False</td><td>False</td><td>False</td><td>False</td><td>False</td><td>False</td><td>False</td><td>False</td><td>False</td><td>False</td><td>False</td><td>False</td><td>False</td><td>False</td><td>False</td><td>False</td><td>False</td><td>False</td><td>False</td><td>False</td><td>False</td><td>False</td><td>0.0</td><td>0.0</td><td>4438.610355583203</td><td>4438.610355583203</td><td>0.0</td><td>4482.764022296786</td><td>4482.764022296786</td><td>3.7103020840328096</td><td>4.87357521464948</td><td>0.4155367140103545</td><td>3.7103020840328096</td><td>4.87357521464948</td><td>0.4155367140103545</td><td>3.934251234160435</td><td>5.393097995595003</td><td>0.48226694756239624</td><td>3.934251234160435</td><td>5.393097995595003</td><td>0.48226694756239624</td><td>False</td><td>True</td><td>False</td><td>3.787027022081381</td><td>3.787027022081381</td><td>4.909180072604791</td><td>4.909180072604791</td><td>0.40677788960978517</td><td>0.40677788960978517</td><td>0.7031337</td><td>0.7031337</td><td>0.9114828</td><td>0.9114828</td><td>0.5685941</td><td>0.5685941</td><td>717.0790105632484</td><td>717.0790105632484</td><td>8.021782963681751</td><td>8.021782963681751</td><td>4498.615723180585</td><td>4498.615723180585</td><td>417.6268567620404</td><td>417.6268567620404</td><td>2.1374401218976096</td><td>2.1374401218976096</td><td>2.1374401218976096</td><td>2.052566803277079</td><td>2.052566803277079</td><td>2.052566803277079</td><td>0.004338614466860233</td><td>0.004338614466860233</td><td>0.004338614466860233</td><td>-146.82376</td><td>-146.82376</td><td>-190.32985</td><td>-190.32985</td><td>-15.770858</td><td>-15.770858</td><td>False</td><td>False</td><td>False</td><td>False</td><td>False</td><td>False</td><td>False</td><td>False</td><td>False</td><td>False</td><td>False</td><td>False</td><td>False</td><td>False</td><td>False</td><td>False</td><td>False</td><td>False</td><td>2776.337646484375</td><td>205.90921020507812</td><td>True</td><td>False</td><td>False</td><td>4169.79248046875</td><td>306.77197265625</td><td>True</td><td>False</td><td>True</td><td>4430.107421875</td><td>406.1109313964844</td><td>True</td><td>False</td><td>True</td><td>nan</td><td>nan</td><td>True</td><td>True</td><td>True</td><td>nan</td><td>nan</td><td>nan</td><td>nan</td><td>nan</td><td>nan</td><td>True</td><td>True</td><td>True</td><td>True</td><td>True</td><td>True</td><td>nan</td><td>nan</td><td>True</td><td>True</td><td>nan</td><td>nan</td><td>True</td><td>True</td><td>nan</td><td>nan</td><td>True</td><td>True</td><td>nan</td><td>nan</td><td>True</td><td>True</td><td>nan</td><td>nan</td><td>True</td><td>True</td><td>4498.615723180585</td><td>4498.615723180585</td><td>4498.615723180585</td><td>295.3067830787975</td><td>295.3067830787975</td><td>295.3067830787975</td><td>False</td><td>False</td><td>False</td><td>5.856568817854997</td><td>36.6516069671731</td><td>True</td><td>False</td><td>False</td><td>False</td><td>False</td><td>True</td><td>False</td><td>False</td><td>False</td><td>False</td><td>False</td><td>False</td><td>False</td><td>False</td><td>False</td><td>3152.585681999379</td><td>3152.585681999379</td><td>219.84946447659343</td><td>219.84946447659343</td><td>29.459202</td><td>29.459202</td><td>1211.0743</td><td>1211.0743</td><td>1189</td><td>1189</td><td>True</td><td>True</td><td>False</td><td>False</td><td>True</td><td>True</td><td>False</td><td>1455.7198486328125</td><td>False</td><td>23.431181186742208</td><td>0.07571570451384746</td></tr>\n",
       "<tr><td>2</td><td>1.045182824205239</td><td>-0.6411125108718266</td><td>0</td><td>0</td><td>False</td><td>nan</td><td>nan</td><td>nan</td><td>False</td><td>False</td><td>False</td><td>False</td><td>False</td><td>False</td><td>False</td><td>0</td><td>0</td><td>0</td><td>0</td><td>0</td><td>1972.9400539612109</td><td>12.03331900627192</td><td>False</td><td>False</td><td>False</td><td>False</td><td>1973.0</td><td>1973.0</td><td>12.0</td><td>12.0</td><td>nan</td><td>nan</td><td>nan</td><td>nan</td><td>True</td><td>True</td><td>True</td><td>True</td><td>True</td><td>True</td><td>True</td><td>True</td><td>True</td><td>True</td><td>True</td><td>True</td><td>True</td><td>True</td><td>True</td><td>True</td><td>True</td><td>True</td><td>False</td><td>False</td><td>False</td><td>False</td><td>False</td><td>False</td><td>False</td><td>False</td><td>False</td><td>False</td><td>False</td><td>False</td><td>False</td><td>False</td><td>False</td><td>False</td><td>False</td><td>False</td><td>False</td><td>False</td><td>False</td><td>False</td><td>False</td><td>False</td><td>False</td><td>False</td><td>False</td><td>False</td><td>False</td><td>False</td><td>False</td><td>False</td><td>False</td><td>False</td><td>False</td><td>False</td><td>False</td><td>False</td><td>False</td><td>False</td><td>False</td><td>False</td><td>False</td><td>False</td><td>False</td><td>0.0</td><td>0.0</td><td>62675.94016996855</td><td>62675.94016996855</td><td>0.0</td><td>62675.36252272457</td><td>62675.36252272457</td><td>6.964594991754393</td><td>4.781514564349238</td><td>-0.6400777741079171</td><td>6.964594991754393</td><td>4.781514564349238</td><td>-0.6400777741079171</td><td>6.964376140580716</td><td>4.781075054703414</td><td>-0.6399892405421642</td><td>6.964376140580716</td><td>4.781075054703414</td><td>-0.6399892405421642</td><td>False</td><td>True</td><td>False</td><td>7.05501733022481</td><td>7.05501733022481</td><td>4.8235980188534455</td><td>4.8235980188534455</td><td>-0.6524245058045426</td><td>-0.6524245058045426</td><td>0.17688847</td><td>0.17688847</td><td>0.120940715</td><td>0.120940715</td><td>0.10406874</td><td>0.10406874</td><td>1972.8280441368895</td><td>1972.8280441368895</td><td>12.116611283188575</td><td>12.116611283188575</td><td>63493.32228308544</td><td>63493.32228308544</td><td>795.9751382247495</td><td>795.9751382247495</td><td>2.137305464737104</td><td>2.137305464737104</td><td>2.137305464737104</td><td>2.05419205482776</td><td>2.05419205482776</td><td>2.05419205482776</td><td>0.011096402235712937</td><td>0.011096402235712937</td><td>0.011096402235712937</td><td>-70.399414</td><td>-70.399414</td><td>-48.1329</td><td>-48.1329</td><td>6.510303</td><td>6.510303</td><td>False</td><td>False</td><td>False</td><td>False</td><td>False</td><td>False</td><td>False</td><td>False</td><td>False</td><td>False</td><td>False</td><td>False</td><td>False</td><td>False</td><td>False</td><td>False</td><td>False</td><td>False</td><td>34002.7578125</td><td>293.259765625</td><td>True</td><td>False</td><td>False</td><td>49956.55078125</td><td>398.5379638671875</td><td>True</td><td>False</td><td>True</td><td>60621.171875</td><td>494.975830078125</td><td>True</td><td>False</td><td>True</td><td>74520.8984375</td><td>683.614501953125</td><td>True</td><td>False</td><td>True</td><td>82825.88527786732</td><td>82825.88527786732</td><td>82825.88527786732</td><td>870.0638383266321</td><td>870.0638383266321</td><td>870.0638383266321</td><td>True</td><td>True</td><td>True</td><td>False</td><td>False</td><td>False</td><td>nan</td><td>nan</td><td>True</td><td>True</td><td>nan</td><td>nan</td><td>True</td><td>True</td><td>nan</td><td>nan</td><td>True</td><td>True</td><td>nan</td><td>nan</td><td>True</td><td>True</td><td>nan</td><td>nan</td><td>True</td><td>True</td><td>63493.322283085436</td><td>63493.322283085436</td><td>63493.322283085436</td><td>562.8394064460917</td><td>562.8394064460917</td><td>562.8394064460917</td><td>False</td><td>False</td><td>False</td><td>18.747258193160583</td><td>39.05000598488019</td><td>True</td><td>False</td><td>False</td><td>False</td><td>False</td><td>True</td><td>False</td><td>False</td><td>False</td><td>False</td><td>False</td><td>False</td><td>False</td><td>False</td><td>False</td><td>37112.022251413546</td><td>37112.022251413546</td><td>331.365526977904</td><td>331.365526977904</td><td>29.538185</td><td>29.538185</td><td>6640.092</td><td>6640.092</td><td>1353</td><td>1353</td><td>True</td><td>True</td><td>False</td><td>False</td><td>True</td><td>True</td><td>False</td><td>1498.941650390625</td><td>False</td><td>20.75406188399139</td><td>0.00969857983101773</td></tr>\n",
       "<tr><td>3</td><td>1.046396364815559</td><td>-0.64249145875044</td><td>0</td><td>0</td><td>False</td><td>nan</td><td>nan</td><td>nan</td><td>False</td><td>False</td><td>False</td><td>False</td><td>False</td><td>False</td><td>False</td><td>0</td><td>0</td><td>0</td><td>0</td><td>0</td><td>3713.0856629431064</td><td>15.96382812106137</td><td>False</td><td>False</td><td>False</td><td>False</td><td>3713.0</td><td>3713.0</td><td>16.0</td><td>16.0</td><td>nan</td><td>nan</td><td>nan</td><td>nan</td><td>True</td><td>True</td><td>True</td><td>True</td><td>True</td><td>True</td><td>True</td><td>True</td><td>True</td><td>True</td><td>True</td><td>True</td><td>True</td><td>True</td><td>True</td><td>True</td><td>True</td><td>True</td><td>False</td><td>False</td><td>False</td><td>False</td><td>False</td><td>False</td><td>False</td><td>False</td><td>False</td><td>False</td><td>False</td><td>False</td><td>False</td><td>False</td><td>False</td><td>False</td><td>False</td><td>False</td><td>False</td><td>False</td><td>False</td><td>False</td><td>False</td><td>False</td><td>False</td><td>False</td><td>False</td><td>False</td><td>False</td><td>False</td><td>False</td><td>False</td><td>False</td><td>False</td><td>False</td><td>False</td><td>False</td><td>False</td><td>False</td><td>False</td><td>False</td><td>False</td><td>False</td><td>False</td><td>False</td><td>0.0</td><td>0.0</td><td>149454.54958631654</td><td>149454.54958631654</td><td>0.0</td><td>149454.54910456578</td><td>149454.54910456578</td><td>2.210038250436103</td><td>2.114014178372329</td><td>-0.018100293505470436</td><td>2.210038250436103</td><td>2.114014178372329</td><td>-0.018100293505470436</td><td>2.2100381995607155</td><td>2.1140141271874184</td><td>-0.01810023556460592</td><td>2.2100381995607155</td><td>2.1140141271874184</td><td>-0.01810023556460592</td><td>False</td><td>True</td><td>False</td><td>2.2170384672980368</td><td>2.2170384672980368</td><td>2.1227284642730453</td><td>2.1227284642730453</td><td>-0.018135689650693843</td><td>-0.018135689650693843</td><td>0.029048288</td><td>0.029048288</td><td>0.02781261</td><td>0.02781261</td><td>0.020099318</td><td>0.020099318</td><td>3713.1469050830574</td><td>3713.1469050830574</td><td>15.93410299595893</td><td>15.93410299595893</td><td>151244.5684316084</td><td>151244.5684316084</td><td>990.8254616661231</td><td>990.8254616661231</td><td>2.14276179199041</td><td>2.14276179199041</td><td>2.14276179199041</td><td>2.0647455828772996</td><td>2.0647455828772996</td><td>2.0647455828772996</td><td>0.0225327240881844</td><td>0.0225327240881844</td><td>0.0225327240881844</td><td>-14.390892</td><td>-14.390892</td><td>-13.778722</td><td>-13.778722</td><td>0.11771955</td><td>0.11771955</td><td>False</td><td>False</td><td>False</td><td>False</td><td>False</td><td>False</td><td>False</td><td>False</td><td>False</td><td>False</td><td>False</td><td>False</td><td>False</td><td>False</td><td>False</td><td>False</td><td>False</td><td>False</td><td>131096.328125</td><td>474.6236267089844</td><td>True</td><td>False</td><td>False</td><td>153070.40625</td><td>554.1544799804688</td><td>True</td><td>False</td><td>False</td><td>160212.28125</td><td>623.0253295898438</td><td>True</td><td>False</td><td>False</td><td>165559.28125</td><td>773.0558471679688</td><td>True</td><td>False</td><td>True</td><td>166271.87305420637</td><td>166271.87305420637</td><td>166271.87305420637</td><td>935.5661630318597</td><td>935.5661630318597</td><td>935.5661630318597</td><td>True</td><td>True</td><td>True</td><td>False</td><td>False</td><td>False</td><td>nan</td><td>nan</td><td>True</td><td>True</td><td>nan</td><td>nan</td><td>True</td><td>True</td><td>nan</td><td>nan</td><td>True</td><td>True</td><td>nan</td><td>nan</td><td>True</td><td>True</td><td>nan</td><td>nan</td><td>True</td><td>True</td><td>151244.56843160838</td><td>151244.56843160838</td><td>151244.56843160838</td><td>700.6193719509482</td><td>700.6193719509482</td><td>700.6193719509482</td><td>False</td><td>False</td><td>False</td><td>0.07667237411948526</td><td>37.61519152352937</td><td>True</td><td>False</td><td>False</td><td>False</td><td>False</td><td>True</td><td>False</td><td>False</td><td>False</td><td>False</td><td>False</td><td>False</td><td>False</td><td>False</td><td>False</td><td>157887.21480984543</td><td>157887.21480984543</td><td>603.1607493613503</td><td>603.1607493613503</td><td>29.659279</td><td>29.659279</td><td>5098.8774</td><td>5098.8774</td><td>1517</td><td>1517</td><td>True</td><td>True</td><td>False</td><td>False</td><td>True</td><td>True</td><td>True</td><td>nan</td><td>True</td><td>19.18198102453364</td><td>0.00415769307623377</td></tr>\n",
       "<tr><td>4</td><td>1.0442846656893485</td><td>-0.6401030377981842</td><td>0</td><td>0</td><td>False</td><td>nan</td><td>nan</td><td>nan</td><td>False</td><td>False</td><td>False</td><td>False</td><td>False</td><td>False</td><td>False</td><td>0</td><td>0</td><td>0</td><td>0</td><td>0</td><td>694.0059360389619</td><td>17.0258089795055</td><td>False</td><td>False</td><td>False</td><td>False</td><td>694.0</td><td>694.0</td><td>17.0</td><td>17.0</td><td>nan</td><td>nan</td><td>nan</td><td>nan</td><td>True</td><td>True</td><td>True</td><td>True</td><td>True</td><td>True</td><td>True</td><td>True</td><td>True</td><td>True</td><td>True</td><td>True</td><td>True</td><td>True</td><td>True</td><td>True</td><td>True</td><td>True</td><td>False</td><td>False</td><td>False</td><td>False</td><td>False</td><td>False</td><td>False</td><td>False</td><td>False</td><td>False</td><td>False</td><td>False</td><td>False</td><td>False</td><td>False</td><td>False</td><td>False</td><td>False</td><td>False</td><td>False</td><td>False</td><td>False</td><td>False</td><td>False</td><td>False</td><td>False</td><td>False</td><td>False</td><td>False</td><td>False</td><td>False</td><td>False</td><td>False</td><td>False</td><td>False</td><td>False</td><td>False</td><td>False</td><td>False</td><td>False</td><td>False</td><td>False</td><td>False</td><td>False</td><td>False</td><td>0.0</td><td>0.0</td><td>16404.51975267719</td><td>16404.51975267719</td><td>0.0</td><td>16381.699514303813</td><td>16381.699514303813</td><td>5.8446319659353625</td><td>5.53414870878893</td><td>-0.03785343724309642</td><td>5.8446319659353625</td><td>5.53414870878893</td><td>-0.03785343724309642</td><td>5.832263715785614</td><td>5.503795529434284</td><td>-0.04373139352204051</td><td>5.832263715785614</td><td>5.503795529434284</td><td>-0.04373139352204051</td><td>False</td><td>True</td><td>False</td><td>5.8983162835003595</td><td>5.8983162835003595</td><td>5.591886454774799</td><td>5.591886454774799</td><td>-0.03572883004406055</td><td>-0.03572883004406055</td><td>0.40002546</td><td>0.40002546</td><td>0.37924328</td><td>0.37924328</td><td>0.27542046</td><td>0.27542046</td><td>693.9838720749075</td><td>693.9838720749075</td><td>17.020625479907167</td><td>17.020625479907167</td><td>16595.755603121936</td><td>16595.755603121936</td><td>562.7644010053136</td><td>562.7644010053136</td><td>2.1373013968641446</td><td>2.1373013968641446</td><td>2.1373013968641446</td><td>2.0527489963224292</td><td>2.0527489963224292</td><td>2.0527489963224292</td><td>0.0042430610781040365</td><td>0.0042430610781040365</td><td>0.0042430610781040365</td><td>-112.56004</td><td>-112.56004</td><td>-106.71231</td><td>-106.71231</td><td>0.6818283</td><td>0.6818283</td><td>False</td><td>False</td><td>False</td><td>False</td><td>False</td><td>False</td><td>False</td><td>False</td><td>False</td><td>False</td><td>False</td><td>False</td><td>False</td><td>False</td><td>False</td><td>False</td><td>False</td><td>False</td><td>8849.029296875</td><td>225.49075317382812</td><td>True</td><td>False</td><td>False</td><td>13133.876953125</td><td>326.4991455078125</td><td>True</td><td>False</td><td>False</td><td>16177.986328125</td><td>426.1668395996094</td><td>True</td><td>False</td><td>False</td><td>19730.5390625</td><td>623.42529296875</td><td>True</td><td>False</td><td>True</td><td>22122.365525633097</td><td>22122.365525633097</td><td>22122.365525633097</td><td>818.2034587450383</td><td>818.2034587450383</td><td>818.2034587450383</td><td>True</td><td>True</td><td>True</td><td>False</td><td>False</td><td>False</td><td>24124.59898146987</td><td>1156.5594886161316</td><td>True</td><td>False</td><td>nan</td><td>nan</td><td>True</td><td>True</td><td>nan</td><td>nan</td><td>True</td><td>True</td><td>nan</td><td>nan</td><td>True</td><td>True</td><td>nan</td><td>nan</td><td>True</td><td>True</td><td>16595.755603121943</td><td>16595.755603121943</td><td>16595.755603121943</td><td>397.93451957077923</td><td>397.93451957077923</td><td>397.93451957077923</td><td>False</td><td>False</td><td>False</td><td>5.343892494598721</td><td>37.83103409447029</td><td>True</td><td>False</td><td>False</td><td>False</td><td>False</td><td>False</td><td>False</td><td>False</td><td>False</td><td>False</td><td>False</td><td>False</td><td>False</td><td>False</td><td>False</td><td>9884.561882928194</td><td>9884.561882928194</td><td>246.29178730544595</td><td>246.29178730544595</td><td>29.45608</td><td>29.45608</td><td>1945.6881</td><td>1945.6881</td><td>1558</td><td>1558</td><td>True</td><td>True</td><td>False</td><td>False</td><td>True</td><td>True</td><td>False</td><td>1467.02001953125</td><td>False</td><td>22.190454872042267</td><td>0.027054616165632844</td></tr>\n",
       "<tr><td>5</td><td>1.0438850839504386</td><td>-0.6396529419755927</td><td>0</td><td>0</td><td>False</td><td>nan</td><td>nan</td><td>nan</td><td>False</td><td>False</td><td>False</td><td>False</td><td>False</td><td>False</td><td>False</td><td>0</td><td>0</td><td>0</td><td>0</td><td>0</td><td>123.92191934636469</td><td>19.063991629235737</td><td>False</td><td>False</td><td>False</td><td>False</td><td>124.0</td><td>124.0</td><td>19.0</td><td>19.0</td><td>nan</td><td>nan</td><td>nan</td><td>nan</td><td>True</td><td>True</td><td>True</td><td>True</td><td>True</td><td>True</td><td>True</td><td>True</td><td>True</td><td>True</td><td>True</td><td>True</td><td>True</td><td>True</td><td>True</td><td>True</td><td>True</td><td>True</td><td>False</td><td>False</td><td>False</td><td>False</td><td>False</td><td>False</td><td>False</td><td>False</td><td>False</td><td>False</td><td>False</td><td>False</td><td>False</td><td>False</td><td>False</td><td>False</td><td>False</td><td>False</td><td>False</td><td>False</td><td>False</td><td>False</td><td>False</td><td>False</td><td>False</td><td>False</td><td>False</td><td>False</td><td>False</td><td>False</td><td>False</td><td>False</td><td>False</td><td>False</td><td>False</td><td>False</td><td>False</td><td>False</td><td>False</td><td>False</td><td>False</td><td>False</td><td>False</td><td>False</td><td>False</td><td>0.0</td><td>0.0</td><td>8105.3248297922855</td><td>8105.3248297922855</td><td>0.0</td><td>8123.628434684402</td><td>8123.628434684402</td><td>3.652288597455415</td><td>3.853696757988858</td><td>0.046148960929776384</td><td>3.652288597455415</td><td>3.853696757988858</td><td>0.046148960929776384</td><td>3.6347805888147438</td><td>3.9777874089094456</td><td>0.025311381877464234</td><td>3.6347805888147438</td><td>3.9777874089094456</td><td>0.025311381877464234</td><td>False</td><td>True</td><td>False</td><td>3.674282621218087</td><td>3.674282621218087</td><td>3.9600996754281503</td><td>3.9600996754281503</td><td>0.050116558107387764</td><td>0.050116558107387764</td><td>0.38985044</td><td>0.38985044</td><td>0.42017633</td><td>0.42017633</td><td>0.28621164</td><td>0.28621164</td><td>123.88552396695219</td><td>123.88552396695219</td><td>19.160316752961755</td><td>19.160316752961755</td><td>8213.350949158426</td><td>8213.350949158426</td><td>435.72840008057796</td><td>435.72840008057796</td><td>2.138434029597194</td><td>2.138434029597194</td><td>2.138434029597194</td><td>2.0539073796700382</td><td>2.0539073796700382</td><td>2.0539073796700382</td><td>0.001648856804758219</td><td>0.001648856804758219</td><td>0.001648856804758219</td><td>-84.934456</td><td>-84.934456</td><td>-91.54138</td><td>-91.54138</td><td>-1.1584908</td><td>-1.1584908</td><td>False</td><td>False</td><td>False</td><td>False</td><td>False</td><td>False</td><td>False</td><td>False</td><td>False</td><td>False</td><td>False</td><td>False</td><td>False</td><td>False</td><td>False</td><td>False</td><td>False</td><td>False</td><td>5667.12255859375</td><td>215.59246826171875</td><td>True</td><td>False</td><td>False</td><td>7556.6640625</td><td>314.4254455566406</td><td>True</td><td>False</td><td>False</td><td>8391.1865234375</td><td>412.8587341308594</td><td>True</td><td>False</td><td>False</td><td>10760.318359375</td><td>613.0452880859375</td><td>True</td><td>False</td><td>True</td><td>11259.420611292124</td><td>11259.420611292124</td><td>11259.420611292124</td><td>808.3975343148494</td><td>808.3975343148494</td><td>808.3975343148494</td><td>True</td><td>True</td><td>True</td><td>False</td><td>False</td><td>False</td><td>11968.132604539394</td><td>1148.6373069171125</td><td>True</td><td>False</td><td>nan</td><td>nan</td><td>True</td><td>True</td><td>nan</td><td>nan</td><td>True</td><td>True</td><td>nan</td><td>nan</td><td>True</td><td>True</td><td>nan</td><td>nan</td><td>True</td><td>True</td><td>8213.350949158426</td><td>8213.350949158426</td><td>8213.350949158426</td><td>308.10650650879006</td><td>308.10650650879006</td><td>308.10650650879006</td><td>False</td><td>False</td><td>False</td><td>0.3988213932530299</td><td>37.391917184489685</td><td>True</td><td>False</td><td>False</td><td>False</td><td>False</td><td>False</td><td>False</td><td>False</td><td>False</td><td>False</td><td>False</td><td>False</td><td>False</td><td>False</td><td>False</td><td>6222.489856768119</td><td>6222.489856768119</td><td>232.59028557422727</td><td>232.59028557422727</td><td>29.419804</td><td>29.419804</td><td>1812.255</td><td>1812.255</td><td>1640</td><td>1640</td><td>True</td><td>True</td><td>False</td><td>False</td><td>True</td><td>True</td><td>False</td><td>1460.193603515625</td><td>False</td><td>22.69293794039488</td><td>0.04058472469783653</td></tr>\n",
       "<tr><td>6</td><td>1.0465402313134882</td><td>-0.6426606133958437</td><td>0</td><td>0</td><td>False</td><td>nan</td><td>nan</td><td>nan</td><td>False</td><td>False</td><td>False</td><td>False</td><td>False</td><td>False</td><td>False</td><td>0</td><td>0</td><td>0</td><td>0</td><td>0</td><td>3924.149048538728</td><td>20.042545773169845</td><td>False</td><td>False</td><td>False</td><td>False</td><td>3924.0</td><td>3924.0</td><td>20.0</td><td>20.0</td><td>nan</td><td>nan</td><td>nan</td><td>nan</td><td>True</td><td>True</td><td>True</td><td>True</td><td>True</td><td>True</td><td>True</td><td>True</td><td>True</td><td>True</td><td>True</td><td>True</td><td>True</td><td>True</td><td>True</td><td>True</td><td>True</td><td>True</td><td>False</td><td>False</td><td>False</td><td>False</td><td>False</td><td>False</td><td>False</td><td>False</td><td>False</td><td>False</td><td>False</td><td>False</td><td>False</td><td>False</td><td>False</td><td>False</td><td>False</td><td>False</td><td>False</td><td>False</td><td>False</td><td>False</td><td>False</td><td>False</td><td>False</td><td>False</td><td>False</td><td>False</td><td>False</td><td>False</td><td>False</td><td>False</td><td>False</td><td>False</td><td>False</td><td>False</td><td>False</td><td>False</td><td>False</td><td>False</td><td>False</td><td>False</td><td>False</td><td>False</td><td>False</td><td>0.0</td><td>0.0</td><td>8894.514777801074</td><td>8894.514777801074</td><td>0.0</td><td>8893.38708639215</td><td>8893.38708639215</td><td>2.719408184195153</td><td>1.8624205406288203</td><td>-0.16285329091468964</td><td>2.719408184195153</td><td>1.8624205406288203</td><td>-0.16285329091468964</td><td>2.7033531564506084</td><td>1.8787812663772716</td><td>-0.1593162930154369</td><td>2.7033531564506084</td><td>1.8787812663772716</td><td>-0.1593162930154369</td><td>False</td><td>True</td><td>False</td><td>2.7206178632045668</td><td>2.7206178632045668</td><td>1.868890043090276</td><td>1.868890043090276</td><td>-0.16024859190107557</td><td>-0.16024859190107557</td><td>0.22329023</td><td>0.22329023</td><td>0.15338607</td><td>0.15338607</td><td>0.13119182</td><td>0.13119182</td><td>3924.2424508189933</td><td>3924.2424508189933</td><td>20.05466894557356</td><td>20.05466894557356</td><td>9003.96298371721</td><td>9003.96298371721</td><td>369.4927218959967</td><td>369.4927218959967</td><td>2.143840121837761</td><td>2.143840121837761</td><td>2.143840121837761</td><td>2.0667510206616426</td><td>2.0667510206616426</td><td>2.0667510206616426</td><td>0.024075606227309445</td><td>0.024075606227309445</td><td>0.024075606227309445</td><td>-41.252056</td><td>-41.252056</td><td>-28.33752</td><td>-28.33752</td><td>2.4298096</td><td>2.4298096</td><td>False</td><td>False</td><td>False</td><td>False</td><td>False</td><td>False</td><td>False</td><td>False</td><td>False</td><td>False</td><td>False</td><td>False</td><td>False</td><td>False</td><td>False</td><td>False</td><td>False</td><td>False</td><td>7834.90673828125</td><td>222.55934143066406</td><td>True</td><td>False</td><td>False</td><td>8835.224609375</td><td>317.401611328125</td><td>True</td><td>False</td><td>False</td><td>9058.8359375</td><td>414.1647644042969</td><td>True</td><td>False</td><td>False</td><td>8913.7685546875</td><td>610.6447143554688</td><td>True</td><td>False</td><td>True</td><td>9528.060529440641</td><td>9528.060529440641</td><td>9528.060529440641</td><td>806.6093109085315</td><td>806.6093109085315</td><td>806.6093109085315</td><td>True</td><td>True</td><td>True</td><td>False</td><td>False</td><td>False</td><td>10722.09617871046</td><td>1147.442285885646</td><td>True</td><td>False</td><td>nan</td><td>nan</td><td>True</td><td>True</td><td>nan</td><td>nan</td><td>True</td><td>True</td><td>nan</td><td>nan</td><td>True</td><td>True</td><td>nan</td><td>nan</td><td>True</td><td>True</td><td>9003.96298371721</td><td>9003.96298371721</td><td>9003.96298371721</td><td>261.2708100497775</td><td>261.2708100497775</td><td>261.2708100497775</td><td>False</td><td>False</td><td>False</td><td>-0.5029918142742429</td><td>35.902461388514354</td><td>True</td><td>False</td><td>False</td><td>False</td><td>False</td><td>False</td><td>False</td><td>False</td><td>False</td><td>False</td><td>False</td><td>False</td><td>False</td><td>False</td><td>False</td><td>9180.951445718087</td><td>9180.951445718087</td><td>247.64640042538758</td><td>247.64640042538758</td><td>29.673107</td><td>29.673107</td><td>1728.5742</td><td>1728.5742</td><td>1681</td><td>1681</td><td>True</td><td>True</td><td>False</td><td>False</td><td>False</td><td>False</td><td>False</td><td>1434.5048828125</td><td>False</td><td>22.27062920726609</td><td>0.029287992093109203</td></tr>\n",
       "<tr><td>7</td><td>1.0441751862597906</td><td>-0.639990282671734</td><td>0</td><td>0</td><td>False</td><td>nan</td><td>nan</td><td>nan</td><td>False</td><td>False</td><td>False</td><td>False</td><td>False</td><td>False</td><td>False</td><td>0</td><td>0</td><td>0</td><td>0</td><td>0</td><td>546.2134600666317</td><td>23.24829536060794</td><td>False</td><td>False</td><td>False</td><td>False</td><td>546.7387312571567</td><td>546.7387312571567</td><td>23.814073145791305</td><td>23.814073145791305</td><td>0.013331673</td><td>0.013331673</td><td>0.012890914</td><td>0.012890914</td><td>False</td><td>False</td><td>False</td><td>False</td><td>False</td><td>False</td><td>False</td><td>False</td><td>False</td><td>False</td><td>False</td><td>False</td><td>False</td><td>False</td><td>False</td><td>False</td><td>False</td><td>False</td><td>False</td><td>False</td><td>False</td><td>False</td><td>False</td><td>False</td><td>False</td><td>False</td><td>False</td><td>False</td><td>False</td><td>False</td><td>False</td><td>False</td><td>False</td><td>False</td><td>False</td><td>False</td><td>False</td><td>False</td><td>False</td><td>False</td><td>False</td><td>False</td><td>False</td><td>False</td><td>False</td><td>False</td><td>False</td><td>False</td><td>False</td><td>False</td><td>False</td><td>False</td><td>False</td><td>False</td><td>False</td><td>False</td><td>False</td><td>False</td><td>False</td><td>False</td><td>False</td><td>False</td><td>False</td><td>0.0</td><td>0.0</td><td>74320.04640347256</td><td>74320.04640347256</td><td>0.0</td><td>74319.99527340334</td><td>74319.99527340334</td><td>2.1230276782164514</td><td>2.0274079350860754</td><td>0.020240033331647804</td><td>2.1230276782164514</td><td>2.0274079350860754</td><td>0.020240033331647804</td><td>2.1230146387223594</td><td>2.0273983818477346</td><td>0.020252414285974303</td><td>2.1230146387223594</td><td>2.0273983818477346</td><td>0.020252414285974303</td><td>False</td><td>False</td><td>False</td><td>2.128093158697896</td><td>2.128093158697896</td><td>2.03181480140429</td><td>2.03181480140429</td><td>0.020952983718331143</td><td>0.020952983718331143</td><td>0.03994443</td><td>0.03994443</td><td>0.038137276</td><td>0.038137276</td><td>0.02760006</td><td>0.02760006</td><td>546.7389783511669</td><td>546.7389783511669</td><td>23.814339350775843</td><td>23.814339350775843</td><td>75107.29266032763</td><td>75107.29266032763</td><td>704.8841225572412</td><td>704.8841225572412</td><td>2.1374049974585767</td><td>2.1374049974585767</td><td>2.1374049974585767</td><td>2.053059498928845</td><td>2.053059498928845</td><td>2.053059498928845</td><td>0.003561564843418774</td><td>0.003561564843418774</td><td>0.003561564843418774</td><td>-14.078096</td><td>-14.078096</td><td>-13.441181</td><td>-13.441181</td><td>-0.13861148</td><td>-0.13861148</td><td>False</td><td>False</td><td>False</td><td>False</td><td>False</td><td>False</td><td>False</td><td>False</td><td>False</td><td>False</td><td>False</td><td>False</td><td>False</td><td>False</td><td>False</td><td>False</td><td>False</td><td>False</td><td>66566.84375</td><td>365.2511901855469</td><td>False</td><td>False</td><td>False</td><td>75894.71875</td><td>443.5528564453125</td><td>False</td><td>False</td><td>False</td><td>78069.9375</td><td>519.869140625</td><td>False</td><td>False</td><td>False</td><td>79940.7734375</td><td>689.1268310546875</td><td>False</td><td>False</td><td>True</td><td>80829.6174774617</td><td>80829.6174774617</td><td>80829.6174774617</td><td>878.0959680893682</td><td>878.0959680893682</td><td>878.0959680893682</td><td>False</td><td>False</td><td>False</td><td>False</td><td>False</td><td>False</td><td>80281.58137899637</td><td>1195.1345226976543</td><td>False</td><td>False</td><td>nan</td><td>nan</td><td>True</td><td>True</td><td>nan</td><td>nan</td><td>True</td><td>True</td><td>nan</td><td>nan</td><td>True</td><td>True</td><td>nan</td><td>nan</td><td>True</td><td>True</td><td>75107.29266032763</td><td>75107.29266032763</td><td>75107.29266032763</td><td>442.61585923558044</td><td>442.61585923558044</td><td>442.61585923558044</td><td>False</td><td>False</td><td>False</td><td>-0.42627261469374417</td><td>38.48851966515493</td><td>False</td><td>False</td><td>False</td><td>False</td><td>False</td><td>False</td><td>False</td><td>False</td><td>False</td><td>False</td><td>False</td><td>False</td><td>False</td><td>False</td><td>False</td><td>79769.33836102791</td><td>79769.33836102791</td><td>453.1364586496907</td><td>453.1364586496907</td><td>29.437864</td><td>29.437864</td><td>1809.5654</td><td>1809.5654</td><td>1681</td><td>1681</td><td>False</td><td>False</td><td>False</td><td>False</td><td>False</td><td>False</td><td>True</td><td>nan</td><td>True</td><td>19.92325845911513</td><td>0.0061743210435784126</td></tr>\n",
       "<tr><td>8</td><td>1.046138278794381</td><td>-0.6422183672821139</td><td>0</td><td>0</td><td>False</td><td>nan</td><td>nan</td><td>nan</td><td>False</td><td>False</td><td>False</td><td>False</td><td>False</td><td>False</td><td>False</td><td>0</td><td>0</td><td>0</td><td>0</td><td>0</td><td>3359.919277232052</td><td>26.941363865102534</td><td>False</td><td>False</td><td>False</td><td>False</td><td>3360.0</td><td>3360.0</td><td>27.0</td><td>27.0</td><td>nan</td><td>nan</td><td>nan</td><td>nan</td><td>True</td><td>True</td><td>True</td><td>True</td><td>True</td><td>True</td><td>True</td><td>True</td><td>True</td><td>True</td><td>True</td><td>True</td><td>True</td><td>True</td><td>True</td><td>True</td><td>True</td><td>True</td><td>False</td><td>False</td><td>False</td><td>False</td><td>False</td><td>False</td><td>False</td><td>False</td><td>False</td><td>False</td><td>False</td><td>False</td><td>False</td><td>False</td><td>False</td><td>False</td><td>False</td><td>False</td><td>False</td><td>False</td><td>False</td><td>False</td><td>False</td><td>False</td><td>False</td><td>False</td><td>False</td><td>False</td><td>False</td><td>False</td><td>False</td><td>False</td><td>False</td><td>False</td><td>False</td><td>False</td><td>False</td><td>False</td><td>False</td><td>False</td><td>False</td><td>False</td><td>False</td><td>False</td><td>False</td><td>0.0</td><td>0.0</td><td>10966.190886493803</td><td>10966.190886493803</td><td>0.0</td><td>11117.371126049247</td><td>11117.371126049247</td><td>13.062559358247501</td><td>9.099103508844085</td><td>-2.268459706344228</td><td>13.062559358247501</td><td>9.099103508844085</td><td>-2.268459706344228</td><td>14.564675102271082</td><td>9.520241201398314</td><td>-2.560152822394384</td><td>14.564675102271082</td><td>9.520241201398314</td><td>-2.560152822394384</td><td>False</td><td>True</td><td>False</td><td>13.126838217426949</td><td>13.126838217426949</td><td>9.125790762895926</td><td>9.125790762895926</td><td>-2.343349485732601</td><td>-2.343349485732601</td><td>1.605607</td><td>1.605607</td><td>1.1162195</td><td>1.1162195</td><td>0.9680818</td><td>0.9680818</td><td>3360.379696658159</td><td>3360.379696658159</td><td>26.727155164601683</td><td>26.727155164601683</td><td>11097.155005555718</td><td>11097.155005555718</td><td>678.6733114497578</td><td>678.6733114497578</td><td>2.1409819289440533</td><td>2.1409819289440533</td><td>2.1409819289440533</td><td>2.0619042908732714</td><td>2.0619042908732714</td><td>2.0619042908732714</td><td>0.01993576746098308</td><td>0.01993576746098308</td><td>0.01993576746098308</td><td>-544.8414</td><td>-544.8414</td><td>-378.7742</td><td>-378.7742</td><td>97.26285</td><td>97.26285</td><td>False</td><td>False</td><td>False</td><td>False</td><td>False</td><td>False</td><td>False</td><td>False</td><td>False</td><td>False</td><td>False</td><td>False</td><td>False</td><td>False</td><td>False</td><td>False</td><td>False</td><td>False</td><td>3806.125244140625</td><td>208.82516479492188</td><td>True</td><td>False</td><td>False</td><td>6799.90478515625</td><td>312.3235168457031</td><td>True</td><td>False</td><td>False</td><td>8618.0908203125</td><td>412.7987976074219</td><td>True</td><td>False</td><td>False</td><td>11329.3076171875</td><td>613.27001953125</td><td>True</td><td>False</td><td>True</td><td>11994.413550466299</td><td>11994.413550466299</td><td>11994.413550466299</td><td>808.5063109425828</td><td>808.5063109425828</td><td>808.5063109425828</td><td>True</td><td>True</td><td>True</td><td>False</td><td>False</td><td>False</td><td>15085.808817774057</td><td>1149.9006175743414</td><td>True</td><td>False</td><td>14967.737708985806</td><td>1689.3095058536144</td><td>True</td><td>False</td><td>nan</td><td>nan</td><td>True</td><td>True</td><td>nan</td><td>nan</td><td>True</td><td>True</td><td>nan</td><td>nan</td><td>True</td><td>True</td><td>11097.155005555716</td><td>11097.155005555716</td><td>11097.155005555716</td><td>479.89449713558935</td><td>479.89449713558935</td><td>479.89449713558935</td><td>False</td><td>False</td><td>False</td><td>2.467984725100297</td><td>37.07681035614687</td><td>True</td><td>False</td><td>False</td><td>False</td><td>False</td><td>False</td><td>False</td><td>False</td><td>False</td><td>False</td><td>False</td><td>False</td><td>False</td><td>False</td><td>False</td><td>4103.7650128422365</td><td>4103.7650128422365</td><td>222.94028635126747</td><td>222.94028635126747</td><td>29.638798</td><td>29.638798</td><td>1920.1019</td><td>1920.1019</td><td>1681</td><td>1681</td><td>True</td><td>True</td><td>False</td><td>False</td><td>False</td><td>False</td><td>False</td><td>1453.0888671875</td><td>False</td><td>23.14489222243808</td><td>0.05898418119115294</td></tr>\n",
       "<tr><td>9</td><td>1.0443976643532722</td><td>-0.6402491657947045</td><td>0</td><td>0</td><td>False</td><td>nan</td><td>nan</td><td>nan</td><td>False</td><td>False</td><td>False</td><td>False</td><td>False</td><td>False</td><td>False</td><td>0</td><td>0</td><td>0</td><td>0</td><td>0</td><td>870.9908195370333</td><td>27.17473905518771</td><td>False</td><td>False</td><td>False</td><td>False</td><td>871.0498910111696</td><td>871.0498910111696</td><td>27.694461951646787</td><td>27.694461951646787</td><td>0.27772012</td><td>0.27772012</td><td>0.19718736</td><td>0.19718736</td><td>False</td><td>False</td><td>False</td><td>False</td><td>False</td><td>False</td><td>False</td><td>False</td><td>False</td><td>False</td><td>False</td><td>False</td><td>False</td><td>False</td><td>False</td><td>False</td><td>False</td><td>False</td><td>False</td><td>False</td><td>False</td><td>False</td><td>False</td><td>False</td><td>False</td><td>False</td><td>False</td><td>False</td><td>False</td><td>False</td><td>False</td><td>False</td><td>False</td><td>False</td><td>False</td><td>False</td><td>False</td><td>False</td><td>False</td><td>False</td><td>False</td><td>False</td><td>False</td><td>False</td><td>False</td><td>False</td><td>False</td><td>False</td><td>False</td><td>False</td><td>False</td><td>False</td><td>False</td><td>False</td><td>False</td><td>False</td><td>False</td><td>False</td><td>False</td><td>False</td><td>False</td><td>False</td><td>False</td><td>0.0</td><td>0.0</td><td>7878.955550268573</td><td>7878.955550268573</td><td>0.0</td><td>7902.271865249533</td><td>7902.271865249533</td><td>6.265330530030778</td><td>3.7426750079903504</td><td>-0.03507438938750187</td><td>6.265330530030778</td><td>3.7426750079903504</td><td>-0.03507438938750187</td><td>6.280401724815825</td><td>3.9141980072179603</td><td>-0.030030199621815794</td><td>6.280401724815825</td><td>3.9141980072179603</td><td>-0.030030199621815794</td><td>False</td><td>False</td><td>False</td><td>6.306548108848806</td><td>6.306548108848806</td><td>3.7385108192184107</td><td>3.7385108192184107</td><td>-0.045551650251191095</td><td>-0.045551650251191095</td><td>0.7470251</td><td>0.7470251</td><td>0.44283515</td><td>0.44283515</td><td>0.4067174</td><td>0.4067174</td><td>871.0065391211137</td><td>871.0065391211137</td><td>27.70367574807342</td><td>27.70367574807342</td><td>7961.209717090242</td><td>7961.209717090242</td><td>471.5117411866572</td><td>471.5117411866572</td><td>2.136878537502599</td><td>2.136878537502599</td><td>2.136878537502599</td><td>2.0528012991521467</td><td>2.0528012991521467</td><td>2.0528012991521467</td><td>0.005116648656410787</td><td>0.005116648656410787</td><td>0.005116648656410787</td><td>-176.11554</td><td>-176.11554</td><td>-104.40099</td><td>-104.40099</td><td>1.2720674</td><td>1.2720674</td><td>False</td><td>False</td><td>False</td><td>False</td><td>False</td><td>False</td><td>False</td><td>False</td><td>False</td><td>False</td><td>False</td><td>False</td><td>False</td><td>False</td><td>False</td><td>False</td><td>False</td><td>False</td><td>4839.38525390625</td><td>213.6325225830078</td><td>False</td><td>False</td><td>False</td><td>6708.255859375</td><td>312.4463806152344</td><td>False</td><td>False</td><td>False</td><td>7766.54638671875</td><td>411.6866455078125</td><td>False</td><td>False</td><td>False</td><td>8836.4296875</td><td>610.6051025390625</td><td>False</td><td>False</td><td>True</td><td>10439.28561463952</td><td>10439.28561463952</td><td>10439.28561463952</td><td>818.6305418876871</td><td>818.6305418876871</td><td>818.6305418876871</td><td>False</td><td>False</td><td>False</td><td>False</td><td>False</td><td>False</td><td>9367.750468149781</td><td>1151.8446500723917</td><td>False</td><td>False</td><td>10825.513519316912</td><td>1688.3377660022225</td><td>False</td><td>False</td><td>nan</td><td>nan</td><td>True</td><td>True</td><td>nan</td><td>nan</td><td>True</td><td>True</td><td>nan</td><td>nan</td><td>True</td><td>True</td><td>7961.209717090242</td><td>7961.209717090242</td><td>7961.209717090242</td><td>335.8471880598372</td><td>335.8471880598372</td><td>335.8471880598372</td><td>False</td><td>False</td><td>False</td><td>0.23429419699177842</td><td>37.22983927842221</td><td>False</td><td>False</td><td>False</td><td>False</td><td>False</td><td>False</td><td>False</td><td>False</td><td>False</td><td>False</td><td>False</td><td>False</td><td>False</td><td>False</td><td>False</td><td>5169.117161528185</td><td>5169.117161528185</td><td>228.08868856495877</td><td>228.08868856495877</td><td>29.469675</td><td>29.469675</td><td>1783.1785</td><td>1783.1785</td><td>1681</td><td>1681</td><td>False</td><td>False</td><td>False</td><td>False</td><td>False</td><td>False</td><td>False</td><td>1451.266845703125</td><td>False</td><td>22.894307494106062</td><td>0.047909266430238906</td></tr>\n",
       "<tr><td>...</td><td>...</td><td>...</td><td>...</td><td>...</td><td>...</td><td>...</td><td>...</td><td>...</td><td>...</td><td>...</td><td>...</td><td>...</td><td>...</td><td>...</td><td>...</td><td>...</td><td>...</td><td>...</td><td>...</td><td>...</td><td>...</td><td>...</td><td>...</td><td>...</td><td>...</td><td>...</td><td>...</td><td>...</td><td>...</td><td>...</td><td>...</td><td>...</td><td>...</td><td>...</td><td>...</td><td>...</td><td>...</td><td>...</td><td>...</td><td>...</td><td>...</td><td>...</td><td>...</td><td>...</td><td>...</td><td>...</td><td>...</td><td>...</td><td>...</td><td>...</td><td>...</td><td>...</td><td>...</td><td>...</td><td>...</td><td>...</td><td>...</td><td>...</td><td>...</td><td>...</td><td>...</td><td>...</td><td>...</td><td>...</td><td>...</td><td>...</td><td>...</td><td>...</td><td>...</td><td>...</td><td>...</td><td>...</td><td>...</td><td>...</td><td>...</td><td>...</td><td>...</td><td>...</td><td>...</td><td>...</td><td>...</td><td>...</td><td>...</td><td>...</td><td>...</td><td>...</td><td>...</td><td>...</td><td>...</td><td>...</td><td>...</td><td>...</td><td>...</td><td>...</td><td>...</td><td>...</td><td>...</td><td>...</td><td>...</td><td>...</td><td>...</td><td>...</td><td>...</td><td>...</td><td>...</td><td>...</td><td>...</td><td>...</td><td>...</td><td>...</td><td>...</td><td>...</td><td>...</td><td>...</td><td>...</td><td>...</td><td>...</td><td>...</td><td>...</td><td>...</td><td>...</td><td>...</td><td>...</td><td>...</td><td>...</td><td>...</td><td>...</td><td>...</td><td>...</td><td>...</td><td>...</td><td>...</td><td>...</td><td>...</td><td>...</td><td>...</td><td>...</td><td>...</td><td>...</td><td>...</td><td>...</td><td>...</td><td>...</td><td>...</td><td>...</td><td>...</td><td>...</td><td>...</td><td>...</td><td>...</td><td>...</td><td>...</td><td>...</td><td>...</td><td>...</td><td>...</td><td>...</td><td>...</td><td>...</td><td>...</td><td>...</td><td>...</td><td>...</td><td>...</td><td>...</td><td>...</td><td>...</td><td>...</td><td>...</td><td>...</td><td>...</td><td>...</td><td>...</td><td>...</td><td>...</td><td>...</td><td>...</td><td>...</td><td>...</td><td>...</td><td>...</td><td>...</td><td>...</td><td>...</td><td>...</td><td>...</td><td>...</td><td>...</td><td>...</td><td>...</td><td>...</td><td>...</td><td>...</td><td>...</td><td>...</td><td>...</td><td>...</td><td>...</td><td>...</td><td>...</td><td>...</td><td>...</td><td>...</td><td>...</td><td>...</td><td>...</td><td>...</td><td>...</td><td>...</td><td>...</td><td>...</td><td>...</td><td>...</td><td>...</td><td>...</td><td>...</td><td>...</td><td>...</td><td>...</td><td>...</td><td>...</td><td>...</td><td>...</td><td>...</td><td>...</td><td>...</td><td>...</td><td>...</td><td>...</td><td>...</td><td>...</td><td>...</td><td>...</td><td>...</td><td>...</td><td>...</td><td>...</td><td>...</td><td>...</td><td>...</td><td>...</td><td>...</td><td>...</td><td>...</td><td>...</td><td>...</td><td>...</td><td>...</td><td>...</td><td>...</td><td>...</td><td>...</td><td>...</td><td>...</td><td>...</td><td>...</td><td>...</td><td>...</td><td>...</td><td>...</td><td>...</td><td>...</td><td>...</td><td>...</td><td>...</td><td>...</td><td>...</td><td>...</td><td>...</td><td>...</td><td>...</td></tr>\n",
       "<tr><td>1648</td><td>1.0427965518834792</td><td>-0.6446314704167592</td><td>1391</td><td>0</td><td>False</td><td>nan</td><td>nan</td><td>nan</td><td>False</td><td>False</td><td>False</td><td>False</td><td>False</td><td>False</td><td>False</td><td>3801</td><td>3714</td><td>71306</td><td>1</td><td>4</td><td>3800.25616907695</td><td>3714.008990951068</td><td>False</td><td>False</td><td>False</td><td>False</td><td>3800.871930328873</td><td>3800.871930328873</td><td>3714.0310430092577</td><td>3714.0310430092577</td><td>0.0038742803</td><td>0.0038742803</td><td>0.0037971076</td><td>0.0037971076</td><td>False</td><td>False</td><td>False</td><td>False</td><td>False</td><td>False</td><td>False</td><td>False</td><td>False</td><td>False</td><td>False</td><td>False</td><td>False</td><td>False</td><td>False</td><td>False</td><td>False</td><td>False</td><td>False</td><td>False</td><td>False</td><td>False</td><td>False</td><td>False</td><td>False</td><td>False</td><td>False</td><td>False</td><td>False</td><td>False</td><td>False</td><td>False</td><td>False</td><td>False</td><td>False</td><td>False</td><td>False</td><td>False</td><td>False</td><td>False</td><td>False</td><td>False</td><td>False</td><td>False</td><td>False</td><td>False</td><td>False</td><td>False</td><td>False</td><td>False</td><td>False</td><td>False</td><td>False</td><td>False</td><td>False</td><td>False</td><td>False</td><td>False</td><td>False</td><td>False</td><td>False</td><td>False</td><td>False</td><td>0.0018999078426634023</td><td>0.0018147838207781541</td><td>702659.7885850781</td><td>703937.2825763401</td><td>0.0018147838207781541</td><td>702659.7885850781</td><td>703937.2825763401</td><td>2.1121889530314566</td><td>2.0657387161199674</td><td>0.00689304608805248</td><td>2.113053909220505</td><td>2.06787759153585</td><td>0.006738914440568099</td><td>2.1121889530314566</td><td>2.0657387161199674</td><td>0.00689304608805248</td><td>2.113053909220505</td><td>2.06787759153585</td><td>0.006738914440568099</td><td>False</td><td>False</td><td>False</td><td>2.1171638065405074</td><td>2.1171638065405074</td><td>2.071069290935232</td><td>2.071069290935232</td><td>0.006854558123875713</td><td>0.006854558123875713</td><td>0.012410695</td><td>0.012410695</td><td>0.01214049</td><td>0.01214049</td><td>0.008679676</td><td>0.008679676</td><td>3800.872652933411</td><td>3800.872652933411</td><td>3714.0311375584233</td><td>3714.0311375584233</td><td>709872.9391167164</td><td>709872.9391167164</td><td>2080.6175604935947</td><td>2080.6175604935947</td><td>2.134013486028921</td><td>2.134013486028921</td><td>2.134013486028921</td><td>2.0711515811487966</td><td>2.0711515811487966</td><td>2.0711515811487966</td><td>0.009274852627914061</td><td>0.009274852627914061</td><td>0.009274852627914061</td><td>-12.910955</td><td>-12.910955</td><td>-12.629859</td><td>-12.629859</td><td>-0.04180068</td><td>-0.04180068</td><td>False</td><td>False</td><td>False</td><td>False</td><td>False</td><td>False</td><td>False</td><td>False</td><td>False</td><td>False</td><td>False</td><td>False</td><td>False</td><td>False</td><td>False</td><td>False</td><td>False</td><td>False</td><td>624921.125</td><td>969.460205078125</td><td>False</td><td>False</td><td>False</td><td>717457.9375</td><td>1062.7252197265625</td><td>False</td><td>False</td><td>False</td><td>739975.25</td><td>1112.0020751953125</td><td>False</td><td>False</td><td>False</td><td>753030.875</td><td>1209.584716796875</td><td>False</td><td>False</td><td>False</td><td>755603.4324287623</td><td>755603.4324287623</td><td>755603.4324287623</td><td>1328.2767850766036</td><td>1328.2767850766036</td><td>1328.2767850766036</td><td>False</td><td>False</td><td>False</td><td>False</td><td>False</td><td>False</td><td>756918.0295642167</td><td>1563.4368054946738</td><td>False</td><td>False</td><td>761022.6843804717</td><td>2000.05618106517</td><td>False</td><td>False</td><td>765215.459202826</td><td>2594.955633577263</td><td>False</td><td>False</td><td>771975.8610462844</td><td>3538.165016962304</td><td>False</td><td>False</td><td>773113.6441246718</td><td>4839.70736201845</td><td>False</td><td>False</td><td>709872.9391167164</td><td>709872.9391167164</td><td>709872.9391167164</td><td>1330.2374288003734</td><td>1330.2374288003734</td><td>1330.2374288003734</td><td>False</td><td>False</td><td>False</td><td>3.8957121122447544</td><td>39.549285311854376</td><td>False</td><td>False</td><td>False</td><td>False</td><td>False</td><td>False</td><td>False</td><td>False</td><td>False</td><td>False</td><td>False</td><td>False</td><td>False</td><td>False</td><td>False</td><td>755613.460141485</td><td>755613.460141485</td><td>1270.7794902776823</td><td>1270.7794902776823</td><td>29.779516</td><td>29.779516</td><td>1709.1974</td><td>1709.1974</td><td>1681</td><td>1681</td><td>False</td><td>False</td><td>False</td><td>False</td><td>False</td><td>False</td><td>True</td><td>nan</td><td>True</td><td>17.482099219658856</td><td>0.0018484956712907367</td></tr>\n",
       "<tr><td>1649</td><td>1.0428084555096244</td><td>-0.6446291125210408</td><td>1391</td><td>0</td><td>False</td><td>nan</td><td>nan</td><td>nan</td><td>False</td><td>False</td><td>False</td><td>False</td><td>True</td><td>False</td><td>False</td><td>3804</td><td>3705</td><td>71305</td><td>1</td><td>4</td><td>3804.1043550868008</td><td>3704.096997704936</td><td>False</td><td>False</td><td>False</td><td>False</td><td>3804.540327920619</td><td>3804.540327920619</td><td>3704.6144456718253</td><td>3704.6144456718253</td><td>0.250821</td><td>0.250821</td><td>0.26460293</td><td>0.26460293</td><td>False</td><td>False</td><td>False</td><td>False</td><td>False</td><td>False</td><td>False</td><td>False</td><td>False</td><td>False</td><td>False</td><td>False</td><td>False</td><td>False</td><td>False</td><td>False</td><td>False</td><td>False</td><td>False</td><td>False</td><td>False</td><td>False</td><td>False</td><td>False</td><td>False</td><td>False</td><td>False</td><td>False</td><td>False</td><td>False</td><td>False</td><td>False</td><td>False</td><td>False</td><td>False</td><td>False</td><td>False</td><td>False</td><td>False</td><td>False</td><td>False</td><td>False</td><td>False</td><td>False</td><td>False</td><td>False</td><td>False</td><td>False</td><td>False</td><td>False</td><td>False</td><td>False</td><td>False</td><td>False</td><td>False</td><td>False</td><td>False</td><td>False</td><td>False</td><td>False</td><td>False</td><td>False</td><td>False</td><td>9.462895122931938</td><td>0.41578688189228663</td><td>17042.169523326524</td><td>29171.151751139558</td><td>0.4172141370235337</td><td>16991.686019369146</td><td>29155.968081633604</td><td>7.035869095543857</td><td>8.152956894943449</td><td>-1.3434312742058254</td><td>10.796456211948485</td><td>34.99732871934696</td><td>-12.40817146832098</td><td>6.981023396878673</td><td>8.071520134258602</td><td>-1.3053105278711603</td><td>10.789951379415603</td><td>35.03099478516534</td><td>-12.413787512780582</td><td>False</td><td>False</td><td>False</td><td>7.122255533676341</td><td>7.122255533676341</td><td>8.253963596863098</td><td>8.253963596863098</td><td>-1.3728234261029706</td><td>-1.3728234261029706</td><td>0.52296174</td><td>0.52296174</td><td>0.606059</td><td>0.606059</td><td>0.40441728</td><td>0.40441728</td><td>3804.5191628561856</td><td>3804.5191628561856</td><td>3704.6358151563622</td><td>3704.6358151563622</td><td>17257.22350358637</td><td>17257.22350358637</td><td>633.5681195999322</td><td>633.5681195999322</td><td>2.1340175082232826</td><td>2.1340175082232826</td><td>2.1340175082232826</td><td>2.071204204518825</td><td>2.071204204518825</td><td>2.071204204518825</td><td>0.009269468632419621</td><td>0.009269468632419621</td><td>0.009269468632419621</td><td>-165.66595</td><td>-165.66595</td><td>-191.98984</td><td>-191.98984</td><td>31.932316</td><td>31.932316</td><td>False</td><td>False</td><td>False</td><td>False</td><td>False</td><td>False</td><td>False</td><td>False</td><td>False</td><td>False</td><td>False</td><td>False</td><td>False</td><td>False</td><td>False</td><td>False</td><td>False</td><td>False</td><td>8096.603515625</td><td>226.82296752929688</td><td>False</td><td>False</td><td>False</td><td>11896.447265625</td><td>327.6507263183594</td><td>False</td><td>False</td><td>False</td><td>15165.4775390625</td><td>433.8631591796875</td><td>False</td><td>False</td><td>False</td><td>19408.818359375</td><td>768.3334350585938</td><td>False</td><td>False</td><td>False</td><td>23414.554591864347</td><td>23414.554591864347</td><td>23414.554591864347</td><td>1285.620443855487</td><td>1285.620443855487</td><td>1285.620443855487</td><td>False</td><td>False</td><td>False</td><td>False</td><td>False</td><td>False</td><td>25063.857272325084</td><td>1567.2130097858403</td><td>False</td><td>False</td><td>31435.8808691483</td><td>2005.0471372775949</td><td>False</td><td>False</td><td>39725.31746615283</td><td>2598.1863798341083</td><td>False</td><td>False</td><td>41957.51365019195</td><td>3542.054746268262</td><td>False</td><td>False</td><td>37289.3406697195</td><td>4839.423772738696</td><td>False</td><td>False</td><td>17257.22350358637</td><td>17257.22350358637</td><td>17257.22350358637</td><td>436.96839791027725</td><td>436.96839791027725</td><td>436.96839791027725</td><td>False</td><td>False</td><td>False</td><td>6.4930535578628845</td><td>36.44811023684066</td><td>False</td><td>False</td><td>False</td><td>False</td><td>False</td><td>False</td><td>False</td><td>False</td><td>False</td><td>False</td><td>False</td><td>False</td><td>False</td><td>False</td><td>False</td><td>8722.032657757456</td><td>8722.032657757456</td><td>245.14357129038007</td><td>245.14357129038007</td><td>29.803864</td><td>29.803864</td><td>1930.408</td><td>1930.408</td><td>1681</td><td>1681</td><td>False</td><td>False</td><td>False</td><td>False</td><td>False</td><td>False</td><td>False</td><td>1469.0694580078125</td><td>False</td><td>22.32630416259323</td><td>0.03051732169032133</td></tr>\n",
       "<tr><td>1650</td><td>1.042824215834544</td><td>-0.6446414866472528</td><td>1391</td><td>0</td><td>False</td><td>nan</td><td>nan</td><td>nan</td><td>False</td><td>False</td><td>False</td><td>False</td><td>True</td><td>False</td><td>False</td><td>3822</td><td>3701</td><td>71091</td><td>1</td><td>4</td><td>3822.0868878316633</td><td>3701.027454450277</td><td>False</td><td>False</td><td>False</td><td>False</td><td>3822.4552707750245</td><td>3822.4552707750245</td><td>3701.3567920890873</td><td>3701.3567920890873</td><td>0.12876095</td><td>0.12876095</td><td>0.13535707</td><td>0.13535707</td><td>False</td><td>False</td><td>False</td><td>False</td><td>False</td><td>False</td><td>False</td><td>False</td><td>False</td><td>False</td><td>False</td><td>False</td><td>False</td><td>False</td><td>False</td><td>False</td><td>False</td><td>False</td><td>False</td><td>False</td><td>False</td><td>False</td><td>False</td><td>False</td><td>False</td><td>False</td><td>False</td><td>False</td><td>False</td><td>False</td><td>False</td><td>False</td><td>False</td><td>False</td><td>False</td><td>False</td><td>False</td><td>False</td><td>False</td><td>False</td><td>False</td><td>False</td><td>False</td><td>False</td><td>False</td><td>False</td><td>False</td><td>False</td><td>False</td><td>False</td><td>False</td><td>False</td><td>False</td><td>False</td><td>False</td><td>False</td><td>False</td><td>False</td><td>False</td><td>False</td><td>False</td><td>False</td><td>False</td><td>0.017272135965413365</td><td>0.004942596105357522</td><td>9382.142451067388</td><td>9428.744929032031</td><td>0.006333074122592541</td><td>9360.73127996113</td><td>9420.39131643192</td><td>4.640135951340883</td><td>5.9047493292677204</td><td>0.24740021289430011</td><td>4.727603267061194</td><td>5.977209212504843</td><td>0.2818584486412288</td><td>4.575337385092062</td><td>5.970830222399546</td><td>0.18396959107753047</td><td>4.688996718501485</td><td>6.099102376539802</td><td>0.251246307873753</td><td>False</td><td>False</td><td>False</td><td>4.721416800696969</td><td>4.721416800696969</td><td>6.003906668151541</td><td>6.003906668151541</td><td>0.24626640876856054</td><td>0.24626640876856054</td><td>0.5176073</td><td>0.5176073</td><td>0.65820616</td><td>0.65820616</td><td>0.41317138</td><td>0.41317138</td><td>3822.450122960112</td><td>3822.450122960112</td><td>3701.3810233602494</td><td>3701.3810233602494</td><td>9509.151829066685</td><td>9509.151829066685</td><td>521.2424806228712</td><td>521.2424806228712</td><td>2.1342800937236395</td><td>2.1342800937236395</td><td>2.1342800937236395</td><td>2.071199914480705</td><td>2.071199914480705</td><td>2.071199914480705</td><td>0.009217542300143735</td><td>0.009217542300143735</td><td>0.009217542300143735</td><td>-134.89944</td><td>-134.89944</td><td>-171.5425</td><td>-171.5425</td><td>-7.0362787</td><td>-7.0362787</td><td>False</td><td>False</td><td>False</td><td>False</td><td>False</td><td>False</td><td>False</td><td>False</td><td>False</td><td>False</td><td>False</td><td>False</td><td>False</td><td>False</td><td>False</td><td>False</td><td>False</td><td>False</td><td>5423.5322265625</td><td>216.51144409179688</td><td>False</td><td>False</td><td>False</td><td>7646.95068359375</td><td>315.0302429199219</td><td>False</td><td>False</td><td>False</td><td>9490.4326171875</td><td>415.1966247558594</td><td>False</td><td>False</td><td>False</td><td>11744.75390625</td><td>616.5929565429688</td><td>False</td><td>False</td><td>False</td><td>12662.258692383766</td><td>12662.258692383766</td><td>12662.258692383766</td><td>828.0379031439134</td><td>828.0379031439134</td><td>828.0379031439134</td><td>False</td><td>False</td><td>False</td><td>False</td><td>False</td><td>False</td><td>15891.46761585772</td><td>1170.3271563251155</td><td>False</td><td>False</td><td>21378.838681280613</td><td>1866.6721314777126</td><td>False</td><td>False</td><td>26285.38078020513</td><td>2599.09489067491</td><td>False</td><td>False</td><td>33050.847316756845</td><td>3541.311204551974</td><td>False</td><td>False</td><td>26626.779705658555</td><td>4840.538459914266</td><td>False</td><td>False</td><td>9509.151829066686</td><td>9509.151829066686</td><td>9509.151829066686</td><td>368.5740911687947</td><td>368.5740911687947</td><td>368.5740911687947</td><td>False</td><td>False</td><td>False</td><td>6.722374234584017</td><td>38.0537918674589</td><td>False</td><td>False</td><td>False</td><td>False</td><td>False</td><td>False</td><td>False</td><td>False</td><td>False</td><td>False</td><td>False</td><td>False</td><td>False</td><td>False</td><td>False</td><td>5988.332751369744</td><td>5988.332751369744</td><td>233.43603601044944</td><td>233.43603601044944</td><td>29.804523</td><td>29.804523</td><td>1820.58</td><td>1820.58</td><td>1681</td><td>1681</td><td>False</td><td>False</td><td>False</td><td>False</td><td>False</td><td>False</td><td>False</td><td>1473.223876953125</td><td>False</td><td>22.734583622210316</td><td>0.042324937577562394</td></tr>\n",
       "<tr><td>1651</td><td>1.042809014183491</td><td>-0.6446448577481021</td><td>1391</td><td>0</td><td>True</td><td>3818.0</td><td>3713.0</td><td>3313.5279687002862</td><td>False</td><td>False</td><td>False</td><td>False</td><td>False</td><td>False</td><td>False</td><td>3818</td><td>3713</td><td>71099</td><td>1</td><td>4</td><td>3817.982464931317</td><td>3713.033308783652</td><td>False</td><td>False</td><td>False</td><td>False</td><td>3818.07377464282</td><td>3818.07377464282</td><td>3713.5961280026854</td><td>3713.5961280026854</td><td>0.37691715</td><td>0.37691715</td><td>0.36320797</td><td>0.36320797</td><td>False</td><td>False</td><td>False</td><td>False</td><td>False</td><td>False</td><td>False</td><td>False</td><td>False</td><td>False</td><td>False</td><td>False</td><td>False</td><td>False</td><td>False</td><td>False</td><td>False</td><td>False</td><td>False</td><td>False</td><td>False</td><td>False</td><td>False</td><td>False</td><td>False</td><td>False</td><td>False</td><td>False</td><td>False</td><td>False</td><td>False</td><td>False</td><td>False</td><td>False</td><td>False</td><td>False</td><td>False</td><td>False</td><td>False</td><td>False</td><td>False</td><td>False</td><td>False</td><td>False</td><td>False</td><td>False</td><td>False</td><td>False</td><td>False</td><td>False</td><td>False</td><td>False</td><td>False</td><td>False</td><td>False</td><td>False</td><td>False</td><td>False</td><td>False</td><td>False</td><td>False</td><td>False</td><td>False</td><td>0.027914262878257188</td><td>0.033504083202741564</td><td>14035.16871375289</td><td>14521.705130697457</td><td>0.03820600915940697</td><td>14056.820549084727</td><td>14615.209372226669</td><td>10.221547296957105</td><td>11.813747419728003</td><td>-0.8990457497218987</td><td>11.433460176456364</td><td>13.33433256424678</td><td>-1.4505980027747396</td><td>10.165920688044622</td><td>11.964475183657305</td><td>-0.7282090079280358</td><td>11.53934820326057</td><td>13.71792233449719</td><td>-1.3947991992821258</td><td>False</td><td>False</td><td>False</td><td>10.287237960769591</td><td>10.287237960769591</td><td>11.894787998031681</td><td>11.894787998031681</td><td>-0.909755288347158</td><td>-0.909755288347158</td><td>1.0266448</td><td>1.0266448</td><td>1.1870749</td><td>1.1870749</td><td>0.7832456</td><td>0.7832456</td><td>3818.0080507354173</td><td>3818.0080507354173</td><td>3713.6590903958395</td><td>3713.6590903958395</td><td>14202.189273594217</td><td>14202.189273594217</td><td>708.6743217769354</td><td>708.6743217769354</td><td>2.134279872441495</td><td>2.134279872441495</td><td>2.134279872441495</td><td>2.071130161868085</td><td>2.071130161868085</td><td>2.071130161868085</td><td>0.009223027035977893</td><td>0.009223027035977893</td><td>0.009223027035977893</td><td>-363.77838</td><td>-363.77838</td><td>-420.62476</td><td>-420.62476</td><td>32.17086</td><td>32.17086</td><td>False</td><td>False</td><td>False</td><td>False</td><td>False</td><td>False</td><td>False</td><td>False</td><td>False</td><td>False</td><td>False</td><td>False</td><td>False</td><td>False</td><td>False</td><td>False</td><td>False</td><td>False</td><td>5230.0107421875</td><td>215.16090393066406</td><td>False</td><td>False</td><td>False</td><td>8330.7998046875</td><td>316.3433532714844</td><td>False</td><td>False</td><td>False</td><td>10504.8046875</td><td>417.3292236328125</td><td>False</td><td>False</td><td>False</td><td>14803.380859375</td><td>621.239013671875</td><td>False</td><td>False</td><td>False</td><td>16588.75452550454</td><td>16588.75452550454</td><td>16588.75452550454</td><td>834.2765148454415</td><td>834.2765148454415</td><td>834.2765148454415</td><td>False</td><td>False</td><td>False</td><td>False</td><td>False</td><td>False</td><td>17817.978328900237</td><td>1320.9153726226596</td><td>False</td><td>False</td><td>21782.931647221732</td><td>2003.1806518022488</td><td>False</td><td>False</td><td>26620.031545872975</td><td>2596.1144062336516</td><td>False</td><td>False</td><td>29738.319390724588</td><td>3539.494473464473</td><td>False</td><td>False</td><td>29564.70015540271</td><td>4840.630590486099</td><td>False</td><td>False</td><td>14202.189273594217</td><td>14202.189273594217</td><td>14202.189273594217</td><td>509.7751420199308</td><td>509.7751420199308</td><td>509.7751420199308</td><td>False</td><td>False</td><td>False</td><td>3.209265920773091</td><td>27.491158814293673</td><td>False</td><td>False</td><td>False</td><td>False</td><td>False</td><td>False</td><td>False</td><td>False</td><td>False</td><td>False</td><td>False</td><td>False</td><td>False</td><td>False</td><td>False</td><td>5492.680169169094</td><td>5492.680169169094</td><td>229.92880786026123</td><td>229.92880786026123</td><td>29.81993</td><td>29.81993</td><td>1567.02</td><td>1567.02</td><td>1681</td><td>1681</td><td>False</td><td>False</td><td>False</td><td>False</td><td>False</td><td>False</td><td>False</td><td>1475.462158203125</td><td>False</td><td>22.828387655204505</td><td>0.045450858921190454</td></tr>\n",
       "<tr><td>1652</td><td>1.0421237051597014</td><td>-0.6439062662204754</td><td>1404</td><td>0</td><td>True</td><td>2870.0</td><td>3736.0</td><td>4858.205716943258</td><td>False</td><td>False</td><td>False</td><td>False</td><td>False</td><td>False</td><td>False</td><td>2870</td><td>3736</td><td>71110</td><td>1</td><td>2</td><td>2869.1316173804744</td><td>3736.072357738627</td><td>False</td><td>False</td><td>False</td><td>False</td><td>2869.9780977177943</td><td>2869.9780977177943</td><td>3736.393851667766</td><td>3736.393851667766</td><td>0.12629633</td><td>0.12629633</td><td>0.12421729</td><td>0.12421729</td><td>False</td><td>False</td><td>False</td><td>False</td><td>False</td><td>False</td><td>False</td><td>False</td><td>False</td><td>False</td><td>False</td><td>False</td><td>False</td><td>False</td><td>False</td><td>False</td><td>False</td><td>False</td><td>False</td><td>False</td><td>False</td><td>False</td><td>False</td><td>False</td><td>False</td><td>False</td><td>False</td><td>False</td><td>False</td><td>False</td><td>False</td><td>False</td><td>False</td><td>False</td><td>False</td><td>False</td><td>False</td><td>False</td><td>False</td><td>False</td><td>False</td><td>False</td><td>False</td><td>False</td><td>False</td><td>False</td><td>False</td><td>False</td><td>False</td><td>False</td><td>False</td><td>False</td><td>False</td><td>False</td><td>False</td><td>False</td><td>False</td><td>False</td><td>False</td><td>False</td><td>False</td><td>False</td><td>False</td><td>0.012016796953702225</td><td>0.0019859117339042776</td><td>10800.232358242258</td><td>10821.72334561538</td><td>0.0021775865244157977</td><td>10823.216696533564</td><td>10846.836621793722</td><td>5.851007879711872</td><td>6.034446695462288</td><td>0.8790845324460427</td><td>5.872641927492563</td><td>6.121736646628142</td><td>0.918446017192181</td><td>5.890781102428234</td><td>6.128652067576131</td><td>0.911881060901573</td><td>5.914826222417536</td><td>6.2244893335737475</td><td>0.9534775579592476</td><td>False</td><td>False</td><td>False</td><td>5.952689513910982</td><td>5.952689513910982</td><td>6.149964185269972</td><td>6.149964185269972</td><td>0.9002577921401562</td><td>0.9002577921401562</td><td>0.58405197</td><td>0.58405197</td><td>0.6034077</td><td>0.6034077</td><td>0.42439574</td><td>0.42439574</td><td>2869.930711697094</td><td>2869.930711697094</td><td>3736.374427630312</td><td>3736.374427630312</td><td>10945.949172961176</td><td>10945.949172961176</td><td>536.9843579227363</td><td>536.9843579227363</td><td>2.1205117472038806</td><td>2.1205117472038806</td><td>2.1205117472038806</td><td>2.073640074253563</td><td>2.073640074253563</td><td>2.073640074253563</td><td>0.012590024325343504</td><td>0.012590024325343504</td><td>0.012590024325343504</td><td>-156.81339</td><td>-156.81339</td><td>-162.01024</td><td>-162.01024</td><td>-23.715742</td><td>-23.715742</td><td>False</td><td>False</td><td>False</td><td>False</td><td>False</td><td>False</td><td>False</td><td>False</td><td>False</td><td>False</td><td>False</td><td>False</td><td>False</td><td>False</td><td>False</td><td>False</td><td>False</td><td>False</td><td>5767.6416015625</td><td>216.39492797851562</td><td>False</td><td>False</td><td>False</td><td>8323.12109375</td><td>315.6197509765625</td><td>False</td><td>False</td><td>False</td><td>10233.888671875</td><td>415.708251953125</td><td>False</td><td>False</td><td>False</td><td>14287.48828125</td><td>617.4397583007812</td><td>False</td><td>False</td><td>False</td><td>15644.704896427691</td><td>15644.704896427691</td><td>15644.704896427691</td><td>826.6309594759093</td><td>826.6309594759093</td><td>826.6309594759093</td><td>False</td><td>False</td><td>False</td><td>False</td><td>False</td><td>False</td><td>18011.347886867356</td><td>1162.2178870556877</td><td>False</td><td>False</td><td>20094.131003640126</td><td>1693.6816083978122</td><td>False</td><td>False</td><td>22062.00095865829</td><td>2365.540614516221</td><td>False</td><td>False</td><td>25474.3201484303</td><td>3376.989901711974</td><td>False</td><td>False</td><td>30499.166249207687</td><td>4723.02792874167</td><td>False</td><td>False</td><td>10945.949172961176</td><td>10945.949172961176</td><td>10945.949172961176</td><td>381.2350142121022</td><td>381.2350142121022</td><td>381.2350142121022</td><td>False</td><td>False</td><td>False</td><td>4.192901902736072</td><td>38.628177166765425</td><td>False</td><td>False</td><td>False</td><td>False</td><td>False</td><td>False</td><td>False</td><td>False</td><td>False</td><td>False</td><td>False</td><td>False</td><td>False</td><td>False</td><td>False</td><td>6477.8297142552865</td><td>6477.8297142552865</td><td>234.3493766234686</td><td>234.3493766234686</td><td>29.740812</td><td>29.740812</td><td>1856.2308</td><td>1856.2308</td><td>1681</td><td>1681</td><td>False</td><td>False</td><td>False</td><td>False</td><td>False</td><td>False</td><td>False</td><td>1472.403076171875</td><td>False</td><td>22.649274615443616</td><td>0.0392798881021624</td></tr>\n",
       "<tr><td>1653</td><td>1.0421321890037258</td><td>-0.6438971931027426</td><td>1404</td><td>0</td><td>True</td><td>2867.0</td><td>3725.0</td><td>1493.5279705437663</td><td>False</td><td>False</td><td>False</td><td>False</td><td>False</td><td>False</td><td>False</td><td>2867</td><td>3725</td><td>71108</td><td>1</td><td>2</td><td>2866.048930953109</td><td>3725.144166097268</td><td>False</td><td>False</td><td>False</td><td>False</td><td>2866.360341302243</td><td>2866.360341302243</td><td>3725.2869246567398</td><td>3725.2869246567398</td><td>0.7407177</td><td>0.7407177</td><td>0.5933106</td><td>0.5933106</td><td>False</td><td>False</td><td>False</td><td>False</td><td>False</td><td>False</td><td>False</td><td>False</td><td>False</td><td>False</td><td>False</td><td>False</td><td>False</td><td>False</td><td>False</td><td>False</td><td>False</td><td>False</td><td>False</td><td>False</td><td>False</td><td>False</td><td>False</td><td>False</td><td>False</td><td>False</td><td>False</td><td>False</td><td>False</td><td>False</td><td>False</td><td>False</td><td>False</td><td>False</td><td>False</td><td>False</td><td>False</td><td>False</td><td>False</td><td>False</td><td>False</td><td>False</td><td>False</td><td>False</td><td>False</td><td>False</td><td>False</td><td>False</td><td>False</td><td>False</td><td>False</td><td>False</td><td>False</td><td>False</td><td>False</td><td>False</td><td>False</td><td>False</td><td>False</td><td>False</td><td>False</td><td>False</td><td>False</td><td>0.03575079452643993</td><td>0.0517906306378938</td><td>10461.336263517926</td><td>11032.728215452706</td><td>0.05765912804284101</td><td>10555.772523710597</td><td>11201.649888948557</td><td>20.78914134035138</td><td>11.044898071110149</td><td>-0.34276057309194313</td><td>20.503207023991493</td><td>14.125144359702505</td><td>0.6084616711915382</td><td>23.532719564870202</td><td>12.585996890360613</td><td>-0.8245168427850119</td><td>23.123031456268272</td><td>15.93967283284636</td><td>0.301493240819003</td><td>False</td><td>False</td><td>False</td><td>20.994293329949862</td><td>20.994293329949862</td><td>11.170867363112734</td><td>11.170867363112734</td><td>-0.3200126704289144</td><td>-0.3200126704289144</td><td>3.0434968</td><td>3.0434968</td><td>1.6194161</td><td>1.6194161</td><td>1.5701655</td><td>1.5701655</td><td>2866.221537161042</td><td>2866.221537161042</td><td>3725.32398052328</td><td>3725.32398052328</td><td>10587.14900636744</td><td>10587.14900636744</td><td>767.3979025942052</td><td>767.3979025942052</td><td>2.1204608841610915</td><td>2.1204608841610915</td><td>2.1204608841610915</td><td>2.073886943388099</td><td>2.073886943388099</td><td>2.073886943388099</td><td>0.012506756793200385</td><td>0.012506756793200385</td><td>0.012506756793200385</td><td>-1167.7865</td><td>-1167.7865</td><td>-621.3683</td><td>-621.3683</td><td>17.800383</td><td>17.800383</td><td>False</td><td>False</td><td>False</td><td>False</td><td>False</td><td>False</td><td>False</td><td>False</td><td>False</td><td>False</td><td>False</td><td>False</td><td>False</td><td>False</td><td>False</td><td>False</td><td>False</td><td>False</td><td>3153.955322265625</td><td>209.1331787109375</td><td>False</td><td>False</td><td>False</td><td>4986.13916015625</td><td>308.9206237792969</td><td>False</td><td>False</td><td>False</td><td>7052.6728515625</td><td>411.4533386230469</td><td>False</td><td>False</td><td>False</td><td>9328.0615234375</td><td>613.7467041015625</td><td>False</td><td>False</td><td>False</td><td>11262.87434793613</td><td>11262.87434793613</td><td>11262.87434793613</td><td>825.2974551059133</td><td>825.2974551059133</td><td>825.2974551059133</td><td>False</td><td>False</td><td>False</td><td>False</td><td>False</td><td>False</td><td>12650.681396251312</td><td>1160.4139841556648</td><td>False</td><td>False</td><td>14379.1103508526</td><td>1696.7000959079662</td><td>False</td><td>False</td><td>17249.921284353128</td><td>2368.4086751631125</td><td>False</td><td>False</td><td>20275.585030993214</td><td>3376.0272980621385</td><td>False</td><td>False</td><td>25535.79152474343</td><td>4723.154571517358</td><td>False</td><td>False</td><td>10587.14900636744</td><td>10587.14900636744</td><td>10587.14900636744</td><td>542.6322636225991</td><td>542.6322636225991</td><td>542.6322636225991</td><td>False</td><td>False</td><td>False</td><td>3.7770984855371674</td><td>35.57187331418994</td><td>False</td><td>False</td><td>False</td><td>False</td><td>False</td><td>False</td><td>False</td><td>False</td><td>False</td><td>False</td><td>False</td><td>False</td><td>False</td><td>False</td><td>False</td><td>3073.860353081893</td><td>3073.860353081893</td><td>219.27594386535404</td><td>219.27594386535404</td><td>29.724773</td><td>29.724773</td><td>1741.923</td><td>1741.923</td><td>1681</td><td>1681</td><td>False</td><td>False</td><td>False</td><td>False</td><td>False</td><td>False</td><td>False</td><td>1455.98193359375</td><td>False</td><td>23.458638100223325</td><td>0.07745227363355828</td></tr>\n",
       "<tr><td>1654</td><td>1.0408481735935202</td><td>-0.642589676012392</td><td>1444</td><td>0</td><td>True</td><td>1154.0</td><td>3815.0</td><td>3388.468353385963</td><td>False</td><td>False</td><td>False</td><td>False</td><td>False</td><td>False</td><td>False</td><td>1154</td><td>3815</td><td>71307</td><td>1</td><td>2</td><td>1153.0458204116978</td><td>3815.0269676375633</td><td>False</td><td>False</td><td>False</td><td>False</td><td>1153.6951864568214</td><td>1153.6951864568214</td><td>3815.0258575392727</td><td>3815.0258575392727</td><td>0.1707515</td><td>0.1707515</td><td>0.15750654</td><td>0.15750654</td><td>False</td><td>False</td><td>False</td><td>False</td><td>False</td><td>False</td><td>False</td><td>False</td><td>False</td><td>False</td><td>False</td><td>False</td><td>False</td><td>False</td><td>False</td><td>False</td><td>False</td><td>False</td><td>False</td><td>False</td><td>False</td><td>False</td><td>False</td><td>False</td><td>False</td><td>False</td><td>False</td><td>False</td><td>False</td><td>False</td><td>False</td><td>False</td><td>False</td><td>False</td><td>False</td><td>False</td><td>False</td><td>False</td><td>False</td><td>False</td><td>False</td><td>False</td><td>False</td><td>False</td><td>False</td><td>False</td><td>False</td><td>False</td><td>False</td><td>False</td><td>False</td><td>False</td><td>False</td><td>False</td><td>False</td><td>False</td><td>False</td><td>False</td><td>False</td><td>False</td><td>False</td><td>False</td><td>False</td><td>0.052505950073705274</td><td>0.04282350980405203</td><td>5667.887913810624</td><td>5921.46586534979</td><td>0.04560879135570939</td><td>5664.880647765246</td><td>5935.596007649933</td><td>3.521538604273968</td><td>3.9994552201770257</td><td>0.36168970475345136</td><td>4.183500819229739</td><td>4.083981664391776</td><td>0.28757817636478383</td><td>3.4746873080318</td><td>4.061401488535274</td><td>0.368048839180205</td><td>4.198026924144463</td><td>4.159988552019621</td><td>0.29432284680526427</td><td>False</td><td>False</td><td>False</td><td>3.5243091415797863</td><td>3.5243091415797863</td><td>4.022207441498958</td><td>4.022207441498958</td><td>0.3585623399381119</td><td>0.3585623399381119</td><td>0.5126755</td><td>0.5126755</td><td>0.5851039</td><td>0.5851039</td><td>0.38903025</td><td>0.38903025</td><td>1153.7024952030197</td><td>1153.7024952030197</td><td>3815.0273668571176</td><td>3815.0273668571176</td><td>5738.865324438899</td><td>5738.865324438899</td><td>417.411679195475</td><td>417.411679195475</td><td>2.1005444580096184</td><td>2.1005444580096184</td><td>2.1005444580096184</td><td>2.086617351836512</td><td>2.086617351836512</td><td>2.086617351836512</td><td>0.020909626501051493</td><td>0.020909626501051493</td><td>0.020909626501051493</td><td>-106.998375</td><td>-106.998375</td><td>-122.11461</td><td>-122.11461</td><td>-10.885988</td><td>-10.885988</td><td>False</td><td>False</td><td>False</td><td>False</td><td>False</td><td>False</td><td>False</td><td>False</td><td>False</td><td>False</td><td>False</td><td>False</td><td>False</td><td>False</td><td>False</td><td>False</td><td>False</td><td>False</td><td>4018.582275390625</td><td>211.21957397460938</td><td>False</td><td>False</td><td>False</td><td>5121.03857421875</td><td>310.24658203125</td><td>False</td><td>False</td><td>False</td><td>6096.23486328125</td><td>411.65863037109375</td><td>False</td><td>False</td><td>False</td><td>7514.896484375</td><td>613.3267211914062</td><td>False</td><td>False</td><td>False</td><td>8474.527046136558</td><td>8474.527046136558</td><td>8474.527046136558</td><td>820.1385478508485</td><td>820.1385478508485</td><td>820.1385478508485</td><td>False</td><td>False</td><td>False</td><td>False</td><td>False</td><td>False</td><td>8138.008624926209</td><td>1152.776341736498</td><td>False</td><td>False</td><td>8199.921999268234</td><td>1689.317342448154</td><td>False</td><td>False</td><td>3616.1228154823184</td><td>2359.305933746972</td><td>False</td><td>False</td><td>-436.0014518275857</td><td>3372.251322927363</td><td>False</td><td>False</td><td>-2128.088777780533</td><td>4731.582122847907</td><td>False</td><td>False</td><td>5738.865324438899</td><td>5738.865324438899</td><td>5738.865324438899</td><td>293.2225561234738</td><td>293.2225561234738</td><td>293.2225561234738</td><td>False</td><td>False</td><td>False</td><td>0.15225689678556975</td><td>37.2494465787186</td><td>False</td><td>False</td><td>False</td><td>False</td><td>False</td><td>False</td><td>False</td><td>False</td><td>False</td><td>False</td><td>False</td><td>False</td><td>False</td><td>False</td><td>False</td><td>4418.848893838725</td><td>4418.848893838725</td><td>226.35086619965642</td><td>226.35086619965642</td><td>29.60821</td><td>29.60821</td><td>1637.024</td><td>1637.024</td><td>1681</td><td>1681</td><td>False</td><td>False</td><td>False</td><td>False</td><td>False</td><td>False</td><td>False</td><td>1459.0115966796875</td><td>False</td><td>23.064575556847107</td><td>0.055616433992646604</td></tr>\n",
       "<tr><td>1655</td><td>1.0408425840372155</td><td>-0.6425856992691399</td><td>1444</td><td>0</td><td>True</td><td>1148.0</td><td>3816.0</td><td>1638.1974303284958</td><td>False</td><td>False</td><td>False</td><td>False</td><td>False</td><td>False</td><td>False</td><td>1148</td><td>3816</td><td>71308</td><td>1</td><td>2</td><td>1147.0690921057646</td><td>3816.0509433448533</td><td>False</td><td>False</td><td>False</td><td>False</td><td>1147.6847681241395</td><td>1147.6847681241395</td><td>3816.43897641625</td><td>3816.43897641625</td><td>0.4730444</td><td>0.4730444</td><td>0.4269486</td><td>0.4269486</td><td>False</td><td>False</td><td>False</td><td>False</td><td>False</td><td>False</td><td>False</td><td>False</td><td>False</td><td>False</td><td>False</td><td>False</td><td>False</td><td>False</td><td>False</td><td>False</td><td>False</td><td>False</td><td>False</td><td>False</td><td>False</td><td>False</td><td>False</td><td>False</td><td>False</td><td>False</td><td>False</td><td>False</td><td>False</td><td>False</td><td>False</td><td>False</td><td>False</td><td>False</td><td>False</td><td>False</td><td>False</td><td>False</td><td>False</td><td>False</td><td>False</td><td>False</td><td>False</td><td>False</td><td>False</td><td>False</td><td>False</td><td>False</td><td>False</td><td>False</td><td>False</td><td>False</td><td>False</td><td>False</td><td>False</td><td>False</td><td>False</td><td>False</td><td>False</td><td>False</td><td>False</td><td>False</td><td>False</td><td>0.1315548533039708</td><td>0.09231673078778413</td><td>3796.262840719628</td><td>4182.365115107199</td><td>0.09767128925675894</td><td>3842.390402190805</td><td>4258.304491969294</td><td>4.355269847267236</td><td>4.678715807502846</td><td>0.8787714009915036</td><td>6.222843219408885</td><td>4.901009636003652</td><td>0.6116230407652798</td><td>4.620101783133393</td><td>5.107107574130682</td><td>1.1057548964740462</td><td>6.563490203942097</td><td>5.3504087685884585</td><td>0.8177774236377747</td><td>False</td><td>False</td><td>False</td><td>4.384655095446917</td><td>4.384655095446917</td><td>4.804090476936181</td><td>4.804090476936181</td><td>0.9175992898156388</td><td>0.9175992898156388</td><td>0.980517</td><td>0.980517</td><td>1.0743132</td><td>1.0743132</td><td>0.74009746</td><td>0.74009746</td><td>1147.7154121014696</td><td>1147.7154121014696</td><td>3816.437607579781</td><td>3816.437607579781</td><td>3850.5335944573753</td><td>3850.5335944573753</td><td>430.53712455180926</td><td>430.53712455180926</td><td>2.10048352275802</td><td>2.10048352275802</td><td>2.10048352275802</td><td>2.0866812644930945</td><td>2.0866812644930945</td><td>2.0866812644930945</td><td>0.020952510802367534</td><td>0.020952510802367534</td><td>0.020952510802367534</td><td>-211.0745</td><td>-211.0745</td><td>-231.26584</td><td>-231.26584</td><td>-44.172634</td><td>-44.172634</td><td>False</td><td>False</td><td>False</td><td>False</td><td>False</td><td>False</td><td>False</td><td>False</td><td>False</td><td>False</td><td>False</td><td>False</td><td>False</td><td>False</td><td>False</td><td>False</td><td>False</td><td>False</td><td>2537.734130859375</td><td>207.132568359375</td><td>False</td><td>False</td><td>False</td><td>3226.66748046875</td><td>305.7215881347656</td><td>False</td><td>False</td><td>False</td><td>3952.60302734375</td><td>408.56268310546875</td><td>False</td><td>False</td><td>False</td><td>4608.19677734375</td><td>612.1484985351562</td><td>False</td><td>False</td><td>False</td><td>4532.036134888884</td><td>4532.036134888884</td><td>4532.036134888884</td><td>820.7807191275887</td><td>820.7807191275887</td><td>820.7807191275887</td><td>False</td><td>False</td><td>False</td><td>False</td><td>False</td><td>False</td><td>5560.608087708708</td><td>1155.29700168804</td><td>False</td><td>False</td><td>4653.78893992817</td><td>1692.3106253899186</td><td>False</td><td>False</td><td>315.9969467795454</td><td>2363.676430208592</td><td>False</td><td>False</td><td>-2519.0169410132803</td><td>3377.9869196600703</td><td>False</td><td>False</td><td>-5692.613615381066</td><td>4732.968458349831</td><td>False</td><td>False</td><td>3850.5335944573744</td><td>3850.5335944573744</td><td>3850.5335944573744</td><td>311.18839117994963</td><td>311.18839117994963</td><td>311.18839117994963</td><td>False</td><td>False</td><td>False</td><td>0.5533881038439327</td><td>37.0494787936432</td><td>False</td><td>False</td><td>False</td><td>False</td><td>False</td><td>False</td><td>False</td><td>False</td><td>False</td><td>False</td><td>False</td><td>False</td><td>False</td><td>False</td><td>False</td><td>2633.346088880899</td><td>2633.346088880899</td><td>218.58860013956226</td><td>218.58860013956226</td><td>29.607244</td><td>29.607244</td><td>1615.8774</td><td>1615.8774</td><td>1681</td><td>1681</td><td>False</td><td>False</td><td>False</td><td>False</td><td>False</td><td>False</td><td>False</td><td>1451.956787109375</td><td>False</td><td>23.626578583159016</td><td>0.09012517081295915</td></tr>\n",
       "<tr><td>1656</td><td>1.040935148235767</td><td>-0.6428138246000648</td><td>1472</td><td>0</td><td>False</td><td>nan</td><td>nan</td><td>nan</td><td>False</td><td>False</td><td>False</td><td>False</td><td>False</td><td>False</td><td>False</td><td>1384</td><td>3889</td><td>71178</td><td>1</td><td>2</td><td>1384.0345113666058</td><td>3889.1020446424423</td><td>False</td><td>False</td><td>False</td><td>False</td><td>1384.0981532759035</td><td>1384.0981532759035</td><td>3889.337184993657</td><td>3889.337184993657</td><td>0.028750984</td><td>0.028750984</td><td>0.027387138</td><td>0.027387138</td><td>False</td><td>False</td><td>False</td><td>False</td><td>False</td><td>False</td><td>False</td><td>False</td><td>False</td><td>False</td><td>False</td><td>False</td><td>False</td><td>False</td><td>False</td><td>False</td><td>False</td><td>False</td><td>False</td><td>False</td><td>False</td><td>False</td><td>False</td><td>False</td><td>False</td><td>False</td><td>False</td><td>False</td><td>False</td><td>False</td><td>False</td><td>False</td><td>False</td><td>False</td><td>False</td><td>False</td><td>False</td><td>False</td><td>False</td><td>False</td><td>False</td><td>False</td><td>False</td><td>False</td><td>False</td><td>False</td><td>False</td><td>False</td><td>False</td><td>False</td><td>False</td><td>False</td><td>False</td><td>False</td><td>False</td><td>False</td><td>False</td><td>False</td><td>False</td><td>False</td><td>False</td><td>False</td><td>False</td><td>0.00024135564476806078</td><td>0.00028423388332299293</td><td>24515.310056012673</td><td>24522.280118918807</td><td>0.00029357588847345184</td><td>24514.74219750673</td><td>24521.941248195762</td><td>2.15920902247498</td><td>2.049439496150246</td><td>-0.039519247515739056</td><td>2.1597942686454914</td><td>2.052212624827583</td><td>-0.04054221416260963</td><td>2.1595284821509675</td><td>2.0487569163257184</td><td>-0.03970911941373419</td><td>2.1601886499474747</td><td>2.0517452171035035</td><td>-0.0408579533736899</td><td>False</td><td>False</td><td>False</td><td>2.162338165088535</td><td>2.162338165088535</td><td>2.052557170594005</td><td>2.052557170594005</td><td>-0.04110397253552789</td><td>-0.04110397253552789</td><td>0.082399644</td><td>0.082399644</td><td>0.07821625</td><td>0.07821625</td><td>0.05677783</td><td>0.05677783</td><td>1384.0980504547288</td><td>1384.0980504547288</td><td>3889.3372229216156</td><td>3889.3372229216156</td><td>24779.267186727375</td><td>24779.267186727375</td><td>472.12843425253084</td><td>472.12843425253084</td><td>2.1028601296331684</td><td>2.1028601296331684</td><td>2.1028601296331684</td><td>2.0843199483000974</td><td>2.0843199483000974</td><td>2.0843199483000974</td><td>0.020136945519752605</td><td>0.020136945519752605</td><td>0.020136945519752605</td><td>-19.451607</td><td>-19.451607</td><td>-18.464058</td><td>-18.464058</td><td>0.36975637</td><td>0.36975637</td><td>False</td><td>False</td><td>False</td><td>False</td><td>False</td><td>False</td><td>False</td><td>False</td><td>False</td><td>False</td><td>False</td><td>False</td><td>False</td><td>False</td><td>False</td><td>False</td><td>False</td><td>False</td><td>21760.7265625</td><td>264.36016845703125</td><td>False</td><td>False</td><td>False</td><td>25329.263671875</td><td>352.9649963378906</td><td>False</td><td>False</td><td>False</td><td>25173.271484375</td><td>442.2757568359375</td><td>False</td><td>False</td><td>False</td><td>25451.244140625</td><td>631.6143798828125</td><td>False</td><td>False</td><td>False</td><td>25301.47362214327</td><td>25301.47362214327</td><td>25301.47362214327</td><td>834.374728537526</td><td>834.374728537526</td><td>834.374728537526</td><td>False</td><td>False</td><td>False</td><td>False</td><td>False</td><td>False</td><td>25540.44543428719</td><td>1165.3305922708057</td><td>False</td><td>False</td><td>27472.295100688934</td><td>1697.276636363878</td><td>False</td><td>False</td><td>32109.974475592375</td><td>2368.645571319039</td><td>False</td><td>False</td><td>34923.13742701709</td><td>3378.2863788891677</td><td>False</td><td>False</td><td>32014.478790059686</td><td>4724.206826549262</td><td>False</td><td>False</td><td>24779.267186727375</td><td>24779.267186727375</td><td>24779.267186727375</td><td>333.8452262547819</td><td>333.8452262547819</td><td>333.8452262547819</td><td>False</td><td>False</td><td>False</td><td>0.29966398227823243</td><td>37.62693149665032</td><td>False</td><td>False</td><td>False</td><td>False</td><td>False</td><td>False</td><td>False</td><td>False</td><td>False</td><td>False</td><td>False</td><td>False</td><td>False</td><td>False</td><td>False</td><td>26210.788186777772</td><td>26210.788186777772</td><td>310.5850725292188</td><td>310.5850725292188</td><td>29.5998</td><td>29.5998</td><td>1820.4076</td><td>1820.4076</td><td>1681</td><td>1681</td><td>False</td><td>False</td><td>False</td><td>False</td><td>False</td><td>False</td><td>False</td><td>1466.21728515625</td><td>False</td><td>21.13164823162728</td><td>0.012868660790290002</td></tr>\n",
       "<tr><td>1657</td><td>1.0409245003499168</td><td>-0.6428188688437492</td><td>1472</td><td>0</td><td>True</td><td>1383.0</td><td>3899.0</td><td>1720.1823199640953</td><td>False</td><td>False</td><td>False</td><td>False</td><td>False</td><td>False</td><td>False</td><td>1383</td><td>3899</td><td>71184</td><td>1</td><td>2</td><td>1383.1717432204046</td><td>3899.1203368445113</td><td>False</td><td>False</td><td>False</td><td>False</td><td>1383.2947015191578</td><td>1383.2947015191578</td><td>3899.5161983036733</td><td>3899.5161983036733</td><td>0.26660666</td><td>0.26660666</td><td>0.31727785</td><td>0.31727785</td><td>False</td><td>False</td><td>False</td><td>False</td><td>False</td><td>False</td><td>False</td><td>False</td><td>False</td><td>False</td><td>False</td><td>False</td><td>False</td><td>False</td><td>False</td><td>False</td><td>False</td><td>False</td><td>False</td><td>False</td><td>False</td><td>False</td><td>False</td><td>False</td><td>False</td><td>False</td><td>False</td><td>False</td><td>False</td><td>False</td><td>False</td><td>False</td><td>False</td><td>False</td><td>False</td><td>False</td><td>False</td><td>False</td><td>False</td><td>False</td><td>False</td><td>False</td><td>False</td><td>False</td><td>False</td><td>False</td><td>False</td><td>False</td><td>False</td><td>False</td><td>False</td><td>False</td><td>False</td><td>False</td><td>False</td><td>False</td><td>False</td><td>False</td><td>False</td><td>False</td><td>False</td><td>False</td><td>False</td><td>0.01749015261560427</td><td>0.0001706359449207273</td><td>3035.234297046821</td><td>3035.7523055100173</td><td>0.00018916402849289415</td><td>3164.0047688270656</td><td>3164.603397954405</td><td>3.002082203486196</td><td>5.727812968880643</td><td>1.3438908185381255</td><td>3.0015995794692243</td><td>5.7413262889231875</td><td>1.3443168582962293</td><td>3.5838957320386995</td><td>6.29692777307854</td><td>1.5488207788851482</td><td>3.58325064529203</td><td>6.311800747980325</td><td>1.5492543137595813</td><td>False</td><td>False</td><td>False</td><td>2.9904352740848132</td><td>2.9904352740848132</td><td>5.711597612603817</td><td>5.711597612603817</td><td>1.3615482890961121</td><td>1.3615482890961121</td><td>0.7638538</td><td>0.7638538</td><td>1.4589264</td><td>1.4589264</td><td>0.78592616</td><td>0.78592616</td><td>1383.2890874188954</td><td>1383.2890874188954</td><td>3899.5192016874103</td><td>3899.5192016874103</td><td>3065.8958574408166</td><td>3065.8958574408166</td><td>391.5644342796659</td><td>391.5644342796659</td><td>2.1028485733844473</td><td>2.1028485733844473</td><td>2.1028485733844473</td><td>2.084329320505473</td><td>2.084329320505473</td><td>2.084329320505473</td><td>0.020207065479254976</td><td>0.020207065479254976</td><td>0.020207065479254976</td><td>-149.549</td><td>-149.549</td><td>-285.63187</td><td>-285.63187</td><td>-68.08982</td><td>-68.08982</td><td>False</td><td>False</td><td>False</td><td>False</td><td>False</td><td>False</td><td>False</td><td>False</td><td>False</td><td>False</td><td>False</td><td>False</td><td>False</td><td>False</td><td>False</td><td>False</td><td>False</td><td>False</td><td>2011.2298583984375</td><td>204.8326873779297</td><td>False</td><td>False</td><td>False</td><td>2812.8583984375</td><td>302.9333190917969</td><td>False</td><td>False</td><td>False</td><td>2909.667236328125</td><td>402.659423828125</td><td>False</td><td>False</td><td>False</td><td>2790.3291015625</td><td>607.9130859375</td><td>False</td><td>False</td><td>False</td><td>2381.066799975466</td><td>2381.066799975466</td><td>2381.066799975466</td><td>833.8441126928108</td><td>833.8441126928108</td><td>833.8441126928108</td><td>False</td><td>False</td><td>False</td><td>False</td><td>False</td><td>False</td><td>2638.7065589432605</td><td>1165.7258604570293</td><td>False</td><td>False</td><td>3937.0883977715857</td><td>1700.0916430376813</td><td>False</td><td>False</td><td>5552.55683535384</td><td>2370.8422541921036</td><td>False</td><td>False</td><td>8328.49322725879</td><td>3376.6658657101893</td><td>False</td><td>False</td><td>9712.001277745236</td><td>4724.061097876458</td><td>False</td><td>False</td><td>3065.895857440817</td><td>3065.895857440817</td><td>3065.895857440817</td><td>288.2723737689598</td><td>288.2723737689598</td><td>288.2723737689598</td><td>False</td><td>False</td><td>False</td><td>1.2770662667158001</td><td>37.41888586648974</td><td>False</td><td>False</td><td>False</td><td>False</td><td>False</td><td>False</td><td>False</td><td>False</td><td>False</td><td>False</td><td>False</td><td>False</td><td>False</td><td>False</td><td>False</td><td>2298.2765271445433</td><td>2298.2765271445433</td><td>217.32442594386973</td><td>217.32442594386973</td><td>29.614708</td><td>29.614708</td><td>1638.4646</td><td>1638.4646</td><td>1681</td><td>1681</td><td>False</td><td>False</td><td>False</td><td>False</td><td>False</td><td>False</td><td>False</td><td>1441.0697021484375</td><td>False</td><td>23.77434272992999</td><td>0.10266733391912719</td></tr>\n",
       "</table></div>"
      ],
      "text/plain": [
       "<Table length=1657>\n",
       "  id       coord_ra      ...      mag_psf             magerr_psf     \n",
       "             rad         ...                                         \n",
       "int64      float64       ...      float64              float64       \n",
       "----- ------------------ ... ------------------ ---------------------\n",
       "    1 1.0443096034893478 ... 23.431181186742208   0.07571570451384746\n",
       "    2  1.045182824205239 ...  20.75406188399139   0.00969857983101773\n",
       "    3  1.046396364815559 ...  19.18198102453364   0.00415769307623377\n",
       "    4 1.0442846656893485 ... 22.190454872042267  0.027054616165632844\n",
       "    5 1.0438850839504386 ...  22.69293794039488   0.04058472469783653\n",
       "    6 1.0465402313134882 ...  22.27062920726609  0.029287992093109203\n",
       "    7 1.0441751862597906 ...  19.92325845911513 0.0061743210435784126\n",
       "    8  1.046138278794381 ...  23.14489222243808   0.05898418119115294\n",
       "    9 1.0443976643532722 ... 22.894307494106062  0.047909266430238906\n",
       "  ...                ... ...                ...                   ...\n",
       " 1648 1.0427965518834792 ... 17.482099219658856 0.0018484956712907367\n",
       " 1649 1.0428084555096244 ...  22.32630416259323   0.03051732169032133\n",
       " 1650  1.042824215834544 ... 22.734583622210316  0.042324937577562394\n",
       " 1651  1.042809014183491 ... 22.828387655204505  0.045450858921190454\n",
       " 1652 1.0421237051597014 ... 22.649274615443616    0.0392798881021624\n",
       " 1653 1.0421321890037258 ... 23.458638100223325   0.07745227363355828\n",
       " 1654 1.0408481735935202 ... 23.064575556847107  0.055616433992646604\n",
       " 1655 1.0408425840372155 ... 23.626578583159016   0.09012517081295915\n",
       " 1656  1.040935148235767 ...  21.13164823162728  0.012868660790290002\n",
       " 1657 1.0409245003499168 ...  23.77434272992999   0.10266733391912719"
      ]
     },
     "execution_count": 50,
     "metadata": {},
     "output_type": "execute_result"
    }
   ],
   "source": [
    "# Take a look at the catalog:\n",
    "\n",
    "sources_withfakes_r"
   ]
  },
  {
   "cell_type": "markdown",
   "id": "342f9835-4e2f-4759-8a6d-ad331c339f2d",
   "metadata": {},
   "source": [
    "### Match coordinates from the original list of fake stars to the new catalog:"
   ]
  },
  {
   "cell_type": "code",
   "execution_count": 51,
   "id": "905764b9-0ed9-4975-a4a7-b40511acb0a1",
   "metadata": {
    "execution": {
     "iopub.execute_input": "2023-07-10T20:44:34.707780Z",
     "iopub.status.busy": "2023-07-10T20:44:34.707361Z",
     "iopub.status.idle": "2023-07-10T20:44:34.718929Z",
     "shell.execute_reply": "2023-07-10T20:44:34.718315Z",
     "shell.execute_reply.started": "2023-07-10T20:44:34.707734Z"
    },
    "tags": []
   },
   "outputs": [],
   "source": [
    "# Coordinates of input fake stars\n",
    "sc_fakes = SkyCoord(ra=fake_ras*u.deg, dec=fake_decs*u.deg, frame='icrs')\n",
    "\n",
    "# Coordinates of objects in calexps with fakes added:\n",
    "#sc_withfakes_u = SkyCoord(ra=sources_withfakes_u['coord_ra'], dec=sources_withfakes_u['coord_dec'], frame='icrs')\n",
    "#sc_withfakes_g = SkyCoord(ra=sources_withfakes_g['coord_ra'], dec=sources_withfakes_g['coord_dec'], frame='icrs')\n",
    "sc_withfakes_r = SkyCoord(ra=sources_withfakes_r['coord_ra'], dec=sources_withfakes_r['coord_dec'], frame='icrs')\n",
    "#sc_withfakes_i = SkyCoord(ra=sources_withfakes_i['coord_ra'], dec=sources_withfakes_i['coord_dec'], frame='icrs')\n",
    "# Note that units weren't required for sc_withfakes_*, because it already has them."
   ]
  },
  {
   "cell_type": "code",
   "execution_count": 52,
   "id": "5272b12a-794e-4973-9875-16c93fbb0d3a",
   "metadata": {
    "execution": {
     "iopub.execute_input": "2023-07-10T20:44:36.918944Z",
     "iopub.status.busy": "2023-07-10T20:44:36.918161Z",
     "iopub.status.idle": "2023-07-10T20:44:37.097393Z",
     "shell.execute_reply": "2023-07-10T20:44:37.096716Z",
     "shell.execute_reply.started": "2023-07-10T20:44:36.918910Z"
    },
    "tags": []
   },
   "outputs": [
    {
     "data": {
      "image/png": "[encoded data removed]",
      "text/plain": [
       "<Figure size 648x648 with 1 Axes>"
      ]
     },
     "metadata": {},
     "output_type": "display_data"
    }
   ],
   "source": [
    "fig, ax = plt.subplots(1, 1)\n",
    "plt.plot(sc_withfakes_r.ra, sc_withfakes_r.dec, '.k', label='detected sources')\n",
    "plt.plot(sc_fakes.ra, sc_fakes.dec, 'sr', fillstyle='none', label='fake sources')\n",
    "ax.invert_xaxis()\n",
    "plt.legend()\n",
    "plt.xlabel('RA (deg)')\n",
    "plt.ylabel('Dec (deg)')\n",
    "plt.show()"
   ]
  },
  {
   "cell_type": "code",
   "execution_count": 53,
   "id": "0b89df62-46fb-493d-8b09-c1eee98980d3",
   "metadata": {
    "execution": {
     "iopub.execute_input": "2023-07-10T20:44:54.546623Z",
     "iopub.status.busy": "2023-07-10T20:44:54.545848Z",
     "iopub.status.idle": "2023-07-10T20:44:54.553995Z",
     "shell.execute_reply": "2023-07-10T20:44:54.553284Z",
     "shell.execute_reply.started": "2023-07-10T20:44:54.546590Z"
    },
    "tags": []
   },
   "outputs": [],
   "source": [
    "# Match them using the Astropy SkyCoord \"match_to_catalog_sky\" method:\n",
    "\n",
    "#idx_u, sep_u, _ = sc_fakes.match_to_catalog_sky(sc_withfakes_u)\n",
    "#idx_g, sep_g, _ = sc_fakes.match_to_catalog_sky(sc_withfakes_g)\n",
    "idx_r, sep_r, _ = sc_fakes.match_to_catalog_sky(sc_withfakes_r)\n",
    "#idx_i, sep_i, _ = sc_fakes.match_to_catalog_sky(sc_withfakes_i)"
   ]
  },
  {
   "cell_type": "markdown",
   "id": "91dbd3a2-c12e-456c-b6d8-9929bb809aa9",
   "metadata": {},
   "source": [
    "The \"idx*\" arrays are the indices into sc_withfakes* files to extract the closest match, and \"sep*\" are the actual separations between the sources. Note that this returns a separation for all objects -- in the following, we will keep only sources with match separations less than 1 arcsecond (i.e., \"good\" matches).\n",
    "\n",
    "Extract info about the good matches into arrays:"
   ]
  },
  {
   "cell_type": "code",
   "execution_count": 54,
   "id": "a94319b0-0943-4099-a222-e47d8e2297a8",
   "metadata": {
    "execution": {
     "iopub.execute_input": "2023-07-10T20:44:59.554200Z",
     "iopub.status.busy": "2023-07-10T20:44:59.553547Z",
     "iopub.status.idle": "2023-07-10T20:44:59.573359Z",
     "shell.execute_reply": "2023-07-10T20:44:59.572835Z",
     "shell.execute_reply.started": "2023-07-10T20:44:59.554159Z"
    },
    "tags": []
   },
   "outputs": [],
   "source": [
    "okmch_r = (sep_r.arcsec < 1.0)\n",
    "mch_mags_r = sources_withfakes_r[idx_r]['mag_psf']\n",
    "mch_magerrs_r = sources_withfakes_r[idx_r]['magerr_psf']\n",
    "mch_mags_r[~okmch_r] = -99.9\n",
    "mch_magerrs_r[~okmch_r] = 99.9\n",
    "seps_r = sep_r.arcsec\n",
    "\n",
    "\n",
    "\n",
    "#print(fake_imags[okmch], sources_withfakes_i[idx_i[okmch]]['mag_psf'])"
   ]
  },
  {
   "cell_type": "code",
   "execution_count": 55,
   "id": "94695591-aff0-4688-b7fd-5e5e9303fe4c",
   "metadata": {
    "execution": {
     "iopub.execute_input": "2023-07-10T20:45:04.756698Z",
     "iopub.status.busy": "2023-07-10T20:45:04.755882Z",
     "iopub.status.idle": "2023-07-10T20:45:04.762478Z",
     "shell.execute_reply": "2023-07-10T20:45:04.761853Z",
     "shell.execute_reply.started": "2023-07-10T20:45:04.756635Z"
    },
    "tags": []
   },
   "outputs": [
    {
     "data": {
      "text/plain": [
       "array([8.81915760e+02, 5.10804478e+02, 9.69433924e+02, 8.64099184e+02,\n",
       "       1.00826866e+03, 6.91949155e+02, 2.32553538e-02, 3.74442516e+02,\n",
       "       5.92707628e+02, 1.04370254e+03, 7.10236667e+02, 1.34940635e+02,\n",
       "       8.61134734e+02, 1.28042598e+03, 1.20674643e+03, 4.53697928e+02,\n",
       "       2.19916346e-03, 2.38431816e+02, 8.96133888e+02, 1.16816727e+03])"
      ]
     },
     "execution_count": 55,
     "metadata": {},
     "output_type": "execute_result"
    }
   ],
   "source": [
    "sep_r.arcsec"
   ]
  },
  {
   "cell_type": "markdown",
   "id": "e023c05a-6b9f-4bea-8a0b-d83190d24fa0",
   "metadata": {},
   "source": [
    "Combine all of the information into a single table:"
   ]
  },
  {
   "cell_type": "code",
   "execution_count": 57,
   "id": "d77edcf9-0c9e-4434-b8b7-c0de6352fa03",
   "metadata": {
    "execution": {
     "iopub.execute_input": "2023-07-10T20:45:13.622966Z",
     "iopub.status.busy": "2023-07-10T20:45:13.622056Z",
     "iopub.status.idle": "2023-07-10T20:45:13.641905Z",
     "shell.execute_reply": "2023-07-10T20:45:13.641203Z",
     "shell.execute_reply.started": "2023-07-10T20:45:13.622928Z"
    },
    "tags": []
   },
   "outputs": [
    {
     "ename": "NameError",
     "evalue": "name 'mch_mags_u' is not defined",
     "output_type": "error",
     "traceback": [
      "\u001b[0;31m---------------------------------------------------------------------------\u001b[0m",
      "\u001b[0;31mNameError\u001b[0m                                 Traceback (most recent call last)",
      "Input \u001b[0;32mIn [57]\u001b[0m, in \u001b[0;36m<cell line: 1>\u001b[0;34m()\u001b[0m\n\u001b[1;32m      1\u001b[0m tab_all \u001b[38;5;241m=\u001b[39m Table([fake_ras, fake_decs, fake_umags, fake_gmags, fake_rmags, fake_imags,\n\u001b[0;32m----> 2\u001b[0m                  \u001b[43mmch_mags_u\u001b[49m, mch_magerrs_u, seps_u, mch_mags_g, mch_magerrs_g, seps_g,\n\u001b[1;32m      3\u001b[0m                  mch_mags_r, mch_magerrs_r, seps_r, mch_mags_i, mch_magerrs_i, seps_i],\n\u001b[1;32m      4\u001b[0m                  names\u001b[38;5;241m=\u001b[39m[\u001b[38;5;124m'\u001b[39m\u001b[38;5;124mra\u001b[39m\u001b[38;5;124m'\u001b[39m, \u001b[38;5;124m'\u001b[39m\u001b[38;5;124mdec\u001b[39m\u001b[38;5;124m'\u001b[39m, \u001b[38;5;124m'\u001b[39m\u001b[38;5;124mu_fake\u001b[39m\u001b[38;5;124m'\u001b[39m, \u001b[38;5;124m'\u001b[39m\u001b[38;5;124mg_fake\u001b[39m\u001b[38;5;124m'\u001b[39m, \u001b[38;5;124m'\u001b[39m\u001b[38;5;124mr_fake\u001b[39m\u001b[38;5;124m'\u001b[39m, \u001b[38;5;124m'\u001b[39m\u001b[38;5;124mi_fake\u001b[39m\u001b[38;5;124m'\u001b[39m, \u001b[38;5;124m'\u001b[39m\u001b[38;5;124mu_meas\u001b[39m\u001b[38;5;124m'\u001b[39m, \u001b[38;5;124m'\u001b[39m\u001b[38;5;124muerr_meas\u001b[39m\u001b[38;5;124m'\u001b[39m, \u001b[38;5;124m'\u001b[39m\u001b[38;5;124msep_u\u001b[39m\u001b[38;5;124m'\u001b[39m,\n\u001b[1;32m      5\u001b[0m                         \u001b[38;5;124m'\u001b[39m\u001b[38;5;124mg_meas\u001b[39m\u001b[38;5;124m'\u001b[39m, \u001b[38;5;124m'\u001b[39m\u001b[38;5;124mgerr_meas\u001b[39m\u001b[38;5;124m'\u001b[39m, \u001b[38;5;124m'\u001b[39m\u001b[38;5;124msep_g\u001b[39m\u001b[38;5;124m'\u001b[39m, \u001b[38;5;124m'\u001b[39m\u001b[38;5;124mr_meas\u001b[39m\u001b[38;5;124m'\u001b[39m, \u001b[38;5;124m'\u001b[39m\u001b[38;5;124mrerr_meas\u001b[39m\u001b[38;5;124m'\u001b[39m, \u001b[38;5;124m'\u001b[39m\u001b[38;5;124msep_r\u001b[39m\u001b[38;5;124m'\u001b[39m,\n\u001b[1;32m      6\u001b[0m                         \u001b[38;5;124m'\u001b[39m\u001b[38;5;124mi_meas\u001b[39m\u001b[38;5;124m'\u001b[39m, \u001b[38;5;124m'\u001b[39m\u001b[38;5;124mierr_meas\u001b[39m\u001b[38;5;124m'\u001b[39m, \u001b[38;5;124m'\u001b[39m\u001b[38;5;124msep_i\u001b[39m\u001b[38;5;124m'\u001b[39m],\n\u001b[1;32m      7\u001b[0m                  units\u001b[38;5;241m=\u001b[39m[u\u001b[38;5;241m.\u001b[39mdeg, u\u001b[38;5;241m.\u001b[39mdeg, u\u001b[38;5;241m.\u001b[39mmag, u\u001b[38;5;241m.\u001b[39mmag, u\u001b[38;5;241m.\u001b[39mmag, u\u001b[38;5;241m.\u001b[39mmag, u\u001b[38;5;241m.\u001b[39mmag, u\u001b[38;5;241m.\u001b[39mmag, u\u001b[38;5;241m.\u001b[39marcsec,\n\u001b[1;32m      8\u001b[0m                         u\u001b[38;5;241m.\u001b[39mmag, u\u001b[38;5;241m.\u001b[39mmag, u\u001b[38;5;241m.\u001b[39marcsec, u\u001b[38;5;241m.\u001b[39mmag, u\u001b[38;5;241m.\u001b[39mmag, u\u001b[38;5;241m.\u001b[39marcsec, u\u001b[38;5;241m.\u001b[39mmag, u\u001b[38;5;241m.\u001b[39mmag, u\u001b[38;5;241m.\u001b[39marcsec])\n\u001b[1;32m     10\u001b[0m \u001b[38;5;28;01mfor\u001b[39;00m col \u001b[38;5;129;01min\u001b[39;00m tab_all\u001b[38;5;241m.\u001b[39mcolnames[\u001b[38;5;241m0\u001b[39m:\u001b[38;5;241m2\u001b[39m]:\n\u001b[1;32m     11\u001b[0m     tab_all[col]\u001b[38;5;241m.\u001b[39minfo\u001b[38;5;241m.\u001b[39mformat \u001b[38;5;241m=\u001b[39m \u001b[38;5;124m'\u001b[39m\u001b[38;5;132;01m%.8g\u001b[39;00m\u001b[38;5;124m'\u001b[39m  \u001b[38;5;66;03m# for consistent table output\u001b[39;00m\n",
      "\u001b[0;31mNameError\u001b[0m: name 'mch_mags_u' is not defined"
     ]
    }
   ],
   "source": [
    "tab_all = Table([fake_ras, fake_decs, fake_umags, fake_gmags, fake_rmags, fake_imags,\n",
    "                 mch_mags_u, mch_magerrs_u, seps_u, mch_mags_g, mch_magerrs_g, seps_g,\n",
    "                 mch_mags_r, mch_magerrs_r, seps_r, mch_mags_i, mch_magerrs_i, seps_i],\n",
    "                 names=['ra', 'dec', 'u_fake', 'g_fake', 'r_fake', 'i_fake', 'u_meas', 'uerr_meas', 'sep_u',\n",
    "                        'g_meas', 'gerr_meas', 'sep_g', 'r_meas', 'rerr_meas', 'sep_r',\n",
    "                        'i_meas', 'ierr_meas', 'sep_i'],\n",
    "                 units=[u.deg, u.deg, u.mag, u.mag, u.mag, u.mag, u.mag, u.mag, u.arcsec,\n",
    "                        u.mag, u.mag, u.arcsec, u.mag, u.mag, u.arcsec, u.mag, u.mag, u.arcsec])\n",
    "\n",
    "for col in tab_all.colnames[0:2]:\n",
    "    tab_all[col].info.format = '%.8g'  # for consistent table output\n",
    "for col in tab_all.colnames[2:]:\n",
    "    tab_all[col].info.format = '%.5g'  # for consistent table output\n"
   ]
  },
  {
   "cell_type": "code",
   "execution_count": null,
   "id": "cfd44c12-74b0-4eb5-b2e7-1862aa9cec4f",
   "metadata": {
    "tags": []
   },
   "outputs": [],
   "source": [
    "tab_all"
   ]
  },
  {
   "cell_type": "markdown",
   "id": "3ec21cf5-5603-49da-a5c7-d4b9a0046719",
   "metadata": {},
   "source": [
    "Now we have completed all the steps of injecting fake sources, running pipeline tasks to detect and measure all sources in the resulting images, and extracting the matches from the catalogs. Let's look at the results!\n",
    "\n",
    "Compare the \"fake\" magnitudes we assigned to each star to their output (measured) magnitude:"
   ]
  },
  {
   "cell_type": "code",
   "execution_count": null,
   "id": "0e32d786-b71a-4323-afca-4b9f77ddccb0",
   "metadata": {
    "tags": []
   },
   "outputs": [],
   "source": [
    "fig = plt.plot(figsize=(9, 9))\n",
    "\n",
    "plt.hlines(0, 0, 30, linestyle=':', color='Black')\n",
    "plt.plot(tab_all['r_fake'], 1000.0 * (tab_all['r_meas'] - tab_all['r_fake']),\n",
    "         '*', ms=10, color='firebrick', label='r')\n",
    "plt.legend()\n",
    "plt.xlabel(r'$mag_{\\rm fake}$')\n",
    "plt.ylabel(r'$(mag_{\\rm meas} - mag_{\\rm fake})$ (mmag)')\n",
    "#plt.xlim(15.2, 23.3)\n",
    "#plt.ylim(-48, 48)\n",
    "plt.minorticks_on()\n",
    "plt.show()"
   ]
  },
  {
   "cell_type": "markdown",
   "id": "d1a5512f-a74c-497b-8624-ed904505ca65",
   "metadata": {},
   "source": [
    "Looks good! (Note that the y-axis is showing residuals in _millimags_.)"
   ]
  },
  {
   "cell_type": "code",
   "execution_count": 58,
   "id": "2947affa-683e-4237-a09c-19678f29f835",
   "metadata": {
    "execution": {
     "iopub.execute_input": "2023-07-10T20:45:23.312361Z",
     "iopub.status.busy": "2023-07-10T20:45:23.311588Z",
     "iopub.status.idle": "2023-07-10T20:45:23.334104Z",
     "shell.execute_reply": "2023-07-10T20:45:23.333312Z",
     "shell.execute_reply.started": "2023-07-10T20:45:23.312322Z"
    },
    "tags": []
   },
   "outputs": [],
   "source": [
    "afwDisplay.setDefaultBackend('firefly')"
   ]
  },
  {
   "cell_type": "code",
   "execution_count": 59,
   "id": "dba6a7f9-a07e-49a1-903c-b3324589f93a",
   "metadata": {
    "execution": {
     "iopub.execute_input": "2023-07-10T20:45:23.890851Z",
     "iopub.status.busy": "2023-07-10T20:45:23.890157Z",
     "iopub.status.idle": "2023-07-10T20:45:27.730753Z",
     "shell.execute_reply": "2023-07-10T20:45:27.730178Z",
     "shell.execute_reply.started": "2023-07-10T20:45:23.890821Z"
    },
    "tags": []
   },
   "outputs": [
    {
     "data": {
      "image/png": "[encoded data removed]",
      "text/plain": [
       "<Figure size 3024x1512 with 2 Axes>"
      ]
     },
     "metadata": {},
     "output_type": "display_data"
    }
   ],
   "source": [
    "from astropy.io import fits\n",
    "\n",
    "fig, ax = plt.subplots(1, 2, figsize=(14*3, 7*3))\n",
    "plt.sca(ax[0])  # set the first axis as current\n",
    "display1 = afwDisplay.Display(frame=fig)\n",
    "display1.scale('linear', 'zscale')\n",
    "#afw_display = afwDisplay.Display(frame=1)\n",
    "display1.mtv(calexp_orig_r.image)\n",
    "\n",
    "#outfile = 'calexp_orig.fits'\n",
    "#hdu = fits.PrimaryHDU(calexp_orig_g.image)\n",
    "#hdu.writeto(outfile, overwrite=True)\n",
    "\n",
    "plt.title('original image')\n",
    "#plt.xlim(1000, 2500)\n",
    "#plt.ylim(300, 1800)\n",
    "plt.sca(ax[1])  # set the second axis as current\n",
    "\n",
    "display2 = afwDisplay.Display(frame=fig)\n",
    "radec = SpherePoint(fake_ras[0], fake_decs[0], lsst.geom.degrees)\n",
    "#radec2 = SpherePoint(fake_ras[7], fake_decs[7], lsst.geom.degrees)\n",
    "#radec3 = SpherePoint(fake_ras[16], fake_decs[16], lsst.geom.degrees)\n",
    "xy = calexp_new_r.getWcs().skyToPixel(radec)\n",
    "#xy2 = calexp_new_g.getWcs().skyToPixel(radec2)\n",
    "#xy3 = calexp_new_g.getWcs().skyToPixel(radec3)\n",
    "display2.scale('linear', 'zscale')\n",
    "#display2.mtv(calexp_new_g.image)\n",
    "display2.mtv(calexp_orig_r.image)\n",
    "display2.dot('o', xy.getX(), xy.getY(), ctype='red', size = 20)\n",
    "#display2.dot('o', xy2.getX(), xy2.getY(), ctype='red', size = 20)\n",
    "#display2.dot('o', xy3.getX(), xy3.getY(), ctype='red', size = 20)\n",
    "\n",
    "\n",
    "\n",
    "# display2.mtv(image0)\n",
    "plt.title('with fake stars')\n",
    "#plt.xlim(1000, 2500)\n",
    "#plt.ylim(300, 1800)\n",
    "plt.tight_layout()\n",
    "plt.show()"
   ]
  },
  {
   "cell_type": "markdown",
   "id": "24f35eb2-054c-4186-99a8-a35e95e4a277",
   "metadata": {},
   "source": [
    "Ideas for further exploration:\n",
    "\n",
    "- Inject stars using a realistic stellar population (i.e., get colors and a luminosity function from isochrones).\n",
    "- Inject galaxies or other objects.\n",
    "- Inject periodic variables into a set of overlapping visit images (using their time of observation to determine the input phase, and thus magnitude, for each image).\n",
    "- Test completeness of detection/measurement (will need to inject stars over a variety of magnitudes and colors, and probably many times over to build up a large enough statistical sample).\n"
   ]
  },
  {
   "cell_type": "code",
   "execution_count": null,
   "id": "31f63032-21f3-46d5-a150-fd5e1aec599b",
   "metadata": {
    "tags": []
   },
   "outputs": [],
   "source": [
    "\n",
    "fig, ax = plt.subplots(1, 1, figsize=(14*3, 7*3))\n",
    "radec = SpherePoint(fake_ras[0], fake_decs[0], lsst.geom.degrees)\n",
    "xy = geom.PointI(calexp_new_g.getWcs().skyToPixel(radec))\n",
    "cutoutSideLength = 51\n",
    "cutoutSize = geom.ExtentI(cutoutSideLength, cutoutSideLength)\n",
    "\n",
    "bbox = geom.BoxI(xy - cutoutSize // 2, cutoutSize)\n",
    " \n",
    "display1 = afwDisplay.Display(frame=fig)\n",
    "display1.scale('linear', 'zscale')\n",
    "display1.mtv(calexp_new_g.image)\n"
   ]
  },
  {
   "cell_type": "code",
   "execution_count": null,
   "id": "de8ee367-b655-4d43-8333-e06eda42a4b7",
   "metadata": {},
   "outputs": [],
   "source": [
    "display1.mtv.help"
   ]
  },
  {
   "cell_type": "code",
   "execution_count": null,
   "id": "8586d695-b22a-46b0-ad1f-9c5012361209",
   "metadata": {},
   "outputs": [],
   "source": []
  }
 ],
 "metadata": {
  "kernelspec": {
   "display_name": "Python 3 (ipykernel)",
   "language": "python",
   "name": "python3"
  },
  "language_info": {
   "codemirror_mode": {
    "name": "ipython",
    "version": 3
   },
   "file_extension": ".py",
   "mimetype": "text/x-python",
   "name": "python",
   "nbconvert_exporter": "python",
   "pygments_lexer": "ipython3",
   "version": "3.11.7"
  }
 },
 "nbformat": 4,
 "nbformat_minor": 5
}
