{
 "cells": [
  {
   "cell_type": "code",
   "execution_count": 5,
   "id": "e8ea37f7",
   "metadata": {
    "tags": []
   },
   "outputs": [],
   "source": [
    "import matplotlib.pyplot as plt\n",
    "import pandas as pd\n",
    "import numpy as np\n",
    "import os\n",
    "home = '~/'\n",
    "home = os.path.expanduser(home)"
   ]
  },
  {
   "cell_type": "code",
   "execution_count": 7,
   "id": "b59b0b0e-8461-4206-8a9c-2d5c387cf6a1",
   "metadata": {
    "tags": []
   },
   "outputs": [],
   "source": [
    "galaxies = pd.read_csv('DP0/input/truth_DP0_phosim_real.csv')\n",
    "redshift = galaxies['redshift'] #DC2 photo-z\n",
    "kasener = pd.read_csv(home+'KDC/kasen/kasen.data')\n",
    "#kasener = pd.read_csv('/home/mwiesner/KDC/kasen/kasen_all.data')\n",
    "#print(kasener)\n",
    "m = kasener['m']\n",
    "vk = kasener['vk']\n",
    "Xlan = kasener['Xlan']\n",
    "#kasen =  kasener['kasen_model']\n",
    "#print(kasen)"
   ]
  },
  {
   "cell_type": "code",
   "execution_count": 8,
   "id": "8ea69d7d",
   "metadata": {
    "tags": []
   },
   "outputs": [
    {
     "ename": "NameError",
     "evalue": "name 'outfile' is not defined",
     "output_type": "error",
     "traceback": [
      "\u001b[0;31m---------------------------------------------------------------------------\u001b[0m",
      "\u001b[0;31mNameError\u001b[0m                                 Traceback (most recent call last)",
      "Cell \u001b[0;32mIn[8], line 13\u001b[0m\n\u001b[1;32m     10\u001b[0m   filename \u001b[38;5;241m=\u001b[39m \u001b[38;5;124m'\u001b[39m\u001b[38;5;124mlight_curve_0.0099_\u001b[39m\u001b[38;5;124m'\u001b[39m\u001b[38;5;241m+\u001b[39m\u001b[38;5;28mstr\u001b[39m(i)\u001b[38;5;241m+\u001b[39m\u001b[38;5;124m'\u001b[39m\u001b[38;5;124m.txt\u001b[39m\u001b[38;5;124m'\u001b[39m\n\u001b[1;32m     11\u001b[0m \u001b[38;5;66;03m#  outfile = 'data'+str(i)\u001b[39;00m\n\u001b[1;32m     12\u001b[0m \u001b[38;5;66;03m#  outfile = pd.read_csv(path+filename)\u001b[39;00m\n\u001b[0;32m---> 13\u001b[0m   fine \u001b[38;5;241m=\u001b[39m outfile[outfile[\u001b[38;5;124m'\u001b[39m\u001b[38;5;124mu\u001b[39m\u001b[38;5;124m'\u001b[39m]\u001b[38;5;241m>\u001b[39m\u001b[38;5;241m-\u001b[39m\u001b[38;5;241m9999\u001b[39m]\n\u001b[1;32m     14\u001b[0m   r \u001b[38;5;241m=\u001b[39m fine[\u001b[38;5;124m'\u001b[39m\u001b[38;5;124mr\u001b[39m\u001b[38;5;124m'\u001b[39m]\n\u001b[1;32m     15\u001b[0m   g \u001b[38;5;241m=\u001b[39m fine[\u001b[38;5;124m'\u001b[39m\u001b[38;5;124mg\u001b[39m\u001b[38;5;124m'\u001b[39m]\n",
      "\u001b[0;31mNameError\u001b[0m: name 'outfile' is not defined"
     ]
    }
   ],
   "source": [
    "#path = '/home/mwiesner/KDC/notebooks/output/'\n",
    "\n",
    "#import matplotlib.backends.backend_pdf\n",
    "#pdf = matplotlib.backends.backend_pdf.PdfPages(\"kilonova.pdf\")\n",
    "\n",
    "observable = []\n",
    "\n",
    "for i in range(0,len(m)):\n",
    "    #filename = 'light_curve_'+str(i)+'.txt'\n",
    "    filename = 'light_curve_0.0099_'+str(i)+'.txt'\n",
    "  #  outfile = 'data'+str(i)\n",
    "  #  outfile = pd.read_csv(path+filename)\n",
    "    fine = outfile[outfile['u']>-9999]\n",
    "    r = fine['r']\n",
    "    g = fine['g']\n",
    "    ii = fine['i']\n",
    "    u = fine['u']\n",
    "    time = fine['time']\n",
    "    #plt.subplots()\n",
    "    fig = plt.figure()\n",
    "    scatter = plt.plot(time, r, '.r', label = \"r\")\n",
    "    scatter = plt.plot([0,10],[24.03,24.03],'.k-')\n",
    "   # scatter = plt.plot(time, g, '.g', label = \"g\") \n",
    "   # scatter = plt.plot(time, r, '.r', label = \"r\") \n",
    "   # scatter = plt.plot(time, ii, '.b', label = \"i\") \n",
    "    plt.xlabel('Days after')\n",
    "    plt.ylim(20,30)\n",
    "    plt.xlim(0,8)\n",
    "    plt.gca().invert_yaxis()\n",
    "    plt.title('System '+str(i)+': Mass ='+str(m[i])+', vk= '+str(vk[i])+', Xlan='+str(Xlan[i]))\n",
    "    plt.legend()\n",
    "    plt.show()\n",
    "   # pdf.savefig(fig)\n",
    "    if (r < 24.03).any():\n",
    "        observable.append(i)\n",
    "#pdf.close()\n",
    "print(\"Observable in LSST\",len(observable))\n",
    "    #plt.savefig(\"myImagePDF+\"+str(i)+\".pdf\", format=\"pdf\", bbox_inches=\"tight\")"
   ]
  },
  {
   "cell_type": "code",
   "execution_count": null,
   "id": "d285f526-b750-4370-b8f1-9446dbf762a8",
   "metadata": {
    "tags": []
   },
   "outputs": [],
   "source": [
    "outfile = pd.read_csv('output/l)\n",
    "    r= outfile['r']"
   ]
  },
  {
   "cell_type": "code",
   "execution_count": null,
   "id": "9780b695",
   "metadata": {},
   "outputs": [],
   "source": []
  }
 ],
 "metadata": {
  "kernelspec": {
   "display_name": "Python 3 (ipykernel)",
   "language": "python",
   "name": "python3"
  },
  "language_info": {
   "codemirror_mode": {
    "name": "ipython",
    "version": 3
   },
   "file_extension": ".py",
   "mimetype": "text/x-python",
   "name": "python",
   "nbconvert_exporter": "python",
   "pygments_lexer": "ipython3",
   "version": "3.11.7"
  }
 },
 "nbformat": 4,
 "nbformat_minor": 5
}
