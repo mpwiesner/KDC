{
 "cells": [
  {
   "cell_type": "code",
   "execution_count": null,
   "id": "905bce73-b6cc-461b-9c17-75824ec9f18d",
   "metadata": {},
   "outputs": [],
   "source": []
  },
  {
   "cell_type": "code",
   "execution_count": null,
   "id": "98668584-ccf4-46bc-8f48-52eeb741502b",
   "metadata": {},
   "outputs": [],
   "source": [
    "# Redshift to luminosity distance...\n",
    "#  Default values of H0 and Omega0 are from Bennett et al. (2014)...\n",
    "def zToDlum(z, H0=69.6, Om0=0.286):\n",
    "    from astropy.cosmology import FlatLambdaCDM\n",
    "    cosmo = FlatLambdaCDM(H0=H0, Om0=Om0)\n",
    "    # comoving distance...\n",
    "    Dcom = cosmo.comoving_distance(z)\n",
    "    # luminosity distance...\n",
    "    Dlum = (1.+z)*Dcom\n",
    "    return Dlum"
   ]
  },
  {
   "cell_type": "code",
   "execution_count": null,
   "id": "a050f0c0-5e3c-45e0-ac1c-451562e93a9b",
   "metadata": {},
   "outputs": [],
   "source": []
  }
 ],
 "metadata": {
  "kernelspec": {
   "display_name": "Python 3 (ipykernel)",
   "language": "python",
   "name": "python3"
  },
  "language_info": {
   "name": ""
  }
 },
 "nbformat": 4,
 "nbformat_minor": 5
}
